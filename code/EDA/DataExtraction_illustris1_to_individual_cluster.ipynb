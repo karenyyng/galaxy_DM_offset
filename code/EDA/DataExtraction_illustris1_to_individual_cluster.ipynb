{
 "metadata": {
  "name": "",
  "signature": "sha256:d70dd5da61927b2504f873fa3988bfe05ec79baa1f3953ab7c6bf6ef7cf6e52f"
 },
 "nbformat": 3,
 "nbformat_minor": 0,
 "worksheets": [
  {
   "cells": [
    {
     "cell_type": "code",
     "collapsed": false,
     "input": [
      "%load_ext autoreload"
     ],
     "language": "python",
     "metadata": {},
     "outputs": [
      {
       "output_type": "stream",
       "stream": "stdout",
       "text": [
        "The autoreload extension is already loaded. To reload it, use:\n",
        "  %reload_ext autoreload\n"
       ]
      }
     ],
     "prompt_number": 1
    },
    {
     "cell_type": "code",
     "collapsed": false,
     "input": [
      "%autoreload 2"
     ],
     "language": "python",
     "metadata": {},
     "outputs": [],
     "prompt_number": 2
    },
    {
     "cell_type": "code",
     "collapsed": false,
     "input": [
      "import h5py\n",
      "import numpy as np\n",
      "import matplotlib.pyplot as plt\n",
      "import re\n",
      "import pandas as pd\n",
      "import sys\n",
      "from mpl_toolkits.mplot3d import Axes3D"
     ],
     "language": "python",
     "metadata": {},
     "outputs": [],
     "prompt_number": 3
    },
    {
     "cell_type": "code",
     "collapsed": false,
     "input": [
      "sys.path.append(\"../\")"
     ],
     "language": "python",
     "metadata": {},
     "outputs": [],
     "prompt_number": 4
    },
    {
     "cell_type": "code",
     "collapsed": false,
     "input": [
      "import extract_catalog as extCat"
     ],
     "language": "python",
     "metadata": {},
     "outputs": [],
     "prompt_number": 5
    },
    {
     "cell_type": "markdown",
     "metadata": {},
     "source": [
      "Documentations\n",
      "http://www.illustris-project.org/w/index.php/Halo_Catalogs"
     ]
    },
    {
     "cell_type": "code",
     "collapsed": false,
     "input": [
      "h5File = \\\n",
      "    \"../../data/\" + \\\n",
      "    \"Illustris-1_fof_subhalo_myCompleteHaloCatalog_00135.hdf5\""
     ],
     "language": "python",
     "metadata": {},
     "outputs": [],
     "prompt_number": 8
    },
    {
     "cell_type": "code",
     "collapsed": false,
     "input": [
      "f = h5py.File(h5File, \"r\")"
     ],
     "language": "python",
     "metadata": {},
     "outputs": [],
     "prompt_number": 9
    },
    {
     "cell_type": "code",
     "collapsed": false,
     "input": [
      "f.keys()"
     ],
     "language": "python",
     "metadata": {},
     "outputs": [
      {
       "metadata": {},
       "output_type": "pyout",
       "prompt_number": 10,
       "text": [
        "[u'Group', u'Header', u'Subhalo']"
       ]
      }
     ],
     "prompt_number": 10
    },
    {
     "cell_type": "code",
     "collapsed": false,
     "input": [
      "f[\"Group\"].keys()"
     ],
     "language": "python",
     "metadata": {},
     "outputs": [
      {
       "metadata": {},
       "output_type": "pyout",
       "prompt_number": 9,
       "text": [
        "[u'GroupBHMass',\n",
        " u'GroupBHMdot',\n",
        " u'GroupFirstFuzzPartType_MyIDs',\n",
        " u'GroupFirstPartType_MyIDs',\n",
        " u'GroupFirstSub',\n",
        " u'GroupFirstSub_MyIDs',\n",
        " u'GroupFuzzOffsetType',\n",
        " u'GroupGasMetalFractions',\n",
        " u'GroupGasMetallicity',\n",
        " u'GroupLastPartType_MyIDs',\n",
        " u'GroupLen',\n",
        " u'GroupLenType',\n",
        " u'GroupMass',\n",
        " u'GroupMassType',\n",
        " u'GroupMyIDs',\n",
        " u'GroupNFuzzParticlesType',\n",
        " u'GroupNsubs',\n",
        " u'GroupPos',\n",
        " u'GroupSFR',\n",
        " u'GroupStarMetalFractions',\n",
        " u'GroupStarMetallicity',\n",
        " u'GroupVel',\n",
        " u'GroupWindMass',\n",
        " u'Group_M_Crit200',\n",
        " u'Group_M_Crit500',\n",
        " u'Group_M_Mean200',\n",
        " u'Group_M_TopHat200',\n",
        " u'Group_R_Crit200',\n",
        " u'Group_R_Crit500',\n",
        " u'Group_R_Mean200',\n",
        " u'Group_R_TopHat200']"
       ]
      }
     ],
     "prompt_number": 9
    },
    {
     "cell_type": "markdown",
     "metadata": {},
     "source": [
      "yes the clusters are almost ordered in descending order of the mass "
     ]
    },
    {
     "cell_type": "code",
     "collapsed": false,
     "input": [
      "map(int, f[\"Group\"][\"Group_M_Crit200\"][:10])"
     ],
     "language": "python",
     "metadata": {},
     "outputs": [
      {
       "metadata": {},
       "output_type": "pyout",
       "prompt_number": 10,
       "text": [
        "[16354, 15690, 15334, 8242, 11930, 8998, 9581, 3094, 8251, 7854]"
       ]
      }
     ],
     "prompt_number": 10
    },
    {
     "cell_type": "code",
     "collapsed": false,
     "input": [
      "f[\"Subhalo\"][\"SubhaloGrNr\"][16937:30430] "
     ],
     "language": "python",
     "metadata": {},
     "outputs": [
      {
       "metadata": {},
       "output_type": "pyout",
       "prompt_number": 11,
       "text": [
        "array([ 1.,  1.,  1., ...,  1.,  1.,  1.])"
       ]
      }
     ],
     "prompt_number": 11
    },
    {
     "cell_type": "markdown",
     "metadata": {},
     "source": [
      "SubhaloGrNr is initialized as 0, 1, 2, etc. not according to cluster ID"
     ]
    },
    {
     "cell_type": "code",
     "collapsed": false,
     "input": [
      "map(int, f[\"Group\"][\"Group_M_Crit200\"][:10])"
     ],
     "language": "python",
     "metadata": {},
     "outputs": [
      {
       "metadata": {},
       "output_type": "pyout",
       "prompt_number": 12,
       "text": [
        "[16354, 15690, 15334, 8242, 11930, 8998, 9581, 3094, 8251, 7854]"
       ]
      }
     ],
     "prompt_number": 12
    },
    {
     "cell_type": "code",
     "collapsed": false,
     "input": [
      "map(int, f[\"Group\"][\"GroupFirstSub\"][:10])"
     ],
     "language": "python",
     "metadata": {},
     "outputs": [
      {
       "metadata": {},
       "output_type": "pyout",
       "prompt_number": 13,
       "text": [
        "[0, 16937, 30430, 41088, 51811, 59384, 66080, 73663, 80734, 86186]"
       ]
      }
     ],
     "prompt_number": 13
    },
    {
     "cell_type": "markdown",
     "metadata": {},
     "source": [
      "The IDs of GroupFirstSub and GroupFirstSub_MyIDs (Annalisa's def) are off by 1 "
     ]
    },
    {
     "cell_type": "markdown",
     "metadata": {},
     "source": [
      "want to find all the subhalos of a cluster ...     \n",
      "\"SubhaloGrNr\" is the field that we want to use to \n",
      "link subhalos from FoF to Subfind catalog"
     ]
    },
    {
     "cell_type": "code",
     "collapsed": false,
     "input": [
      "SubhaloGrNr = f[\"Subhalo\"][\"SubhaloGrNr\"][...]\n",
      "print SubhaloGrNr[SubhaloGrNr == 0].size"
     ],
     "language": "python",
     "metadata": {},
     "outputs": [
      {
       "output_type": "stream",
       "stream": "stdout",
       "text": [
        "16937\n"
       ]
      }
     ],
     "prompt_number": 13
    },
    {
     "cell_type": "code",
     "collapsed": false,
     "input": [
      "np.sum(SubhaloGrNr == 16937)"
     ],
     "language": "python",
     "metadata": {},
     "outputs": [
      {
       "metadata": {},
       "output_type": "pyout",
       "prompt_number": 15,
       "text": [
        "5"
       ]
      }
     ],
     "prompt_number": 15
    },
    {
     "cell_type": "code",
     "collapsed": false,
     "input": [
      "SubhaloParent = f[\"Subhalo\"][\"SubhaloParent\"][...]"
     ],
     "language": "python",
     "metadata": {},
     "outputs": [],
     "prompt_number": 16
    },
    {
     "cell_type": "code",
     "collapsed": false,
     "input": [
      "np.sum(SubhaloParent == 16937)"
     ],
     "language": "python",
     "metadata": {},
     "outputs": [
      {
       "metadata": {},
       "output_type": "pyout",
       "prompt_number": 17,
       "text": [
        "0"
       ]
      }
     ],
     "prompt_number": 17
    },
    {
     "cell_type": "markdown",
     "metadata": {},
     "source": [
      "expect 16937 subhalos for the first 4 clusters"
     ]
    },
    {
     "cell_type": "markdown",
     "metadata": {},
     "source": [
      "put clstMemMask into a dictionary"
     ]
    },
    {
     "cell_type": "code",
     "collapsed": false,
     "input": [
      "f[\"Group\"][\"Group_M_Crit200\"][:5]"
     ],
     "language": "python",
     "metadata": {},
     "outputs": [
      {
       "metadata": {},
       "output_type": "pyout",
       "prompt_number": 18,
       "text": [
        "array([ 16354.56347656,  15690.17089844,  15334.58496094,   8242.11621094,\n",
        "        11930.48339844])"
       ]
      }
     ],
     "prompt_number": 18
    },
    {
     "cell_type": "markdown",
     "metadata": {},
     "source": [
      "use a better way of denoting clstID "
     ]
    },
    {
     "cell_type": "code",
     "collapsed": false,
     "input": [
      "clustNo = 5"
     ],
     "language": "python",
     "metadata": {},
     "outputs": [],
     "prompt_number": 28
    },
    {
     "cell_type": "code",
     "collapsed": false,
     "input": [
      "clstID = f[\"Group\"][\"GroupFirstSub\"][:5]   \n",
      "clstID = map(int, clstID)   \n",
      "clstID   "
     ],
     "language": "python",
     "metadata": {},
     "outputs": []
    },
    {
     "cell_type": "markdown",
     "metadata": {},
     "source": [
      "maybe subset based on locations"
     ]
    },
    {
     "cell_type": "code",
     "collapsed": false,
     "input": [
      "clstMemMask = {clstID[i]: SubhaloGrNr == i\n",
      "               for i in range(len(clstID))}"
     ],
     "language": "python",
     "metadata": {},
     "outputs": [],
     "prompt_number": 29
    },
    {
     "cell_type": "code",
     "collapsed": false,
     "input": [
      "clstID"
     ],
     "language": "python",
     "metadata": {},
     "outputs": [
      {
       "metadata": {},
       "output_type": "pyout",
       "prompt_number": 26,
       "text": [
        "[0, 16937, 30430, 41088, 51811]"
       ]
      }
     ],
     "prompt_number": 26
    },
    {
     "cell_type": "code",
     "collapsed": false,
     "input": [],
     "language": "python",
     "metadata": {},
     "outputs": [
      {
       "metadata": {},
       "output_type": "pyout",
       "prompt_number": 24,
       "text": [
        "16937"
       ]
      }
     ],
     "prompt_number": 24
    },
    {
     "cell_type": "markdown",
     "metadata": {},
     "source": [
      "Examine properties of one cluster by putting them into a dataframe"
     ]
    },
    {
     "cell_type": "markdown",
     "metadata": {},
     "source": [
      "try to just put them in a pandas dataframe to see if pandas complains or not ...."
     ]
    },
    {
     "cell_type": "code",
     "collapsed": false,
     "input": [
      "relevantSubhaloKeys = \\\n",
      "[u'SubhaloCM',\n",
      " u'SubhaloFirstPartType_MyIDs',\n",
      " u'SubhaloGrNr',\n",
      " u'SubhaloGroupParent_MyIDs',\n",
      " u'SubhaloHalfmassRad',\n",
      " u'SubhaloHalfmassRadType',\n",
      " u'SubhaloIDMostbound',\n",
      " u'SubhaloLastPartType_MyIDs',\n",
      " u'SubhaloLen',\n",
      " u'SubhaloLenType',\n",
      " u'SubhaloMass',\n",
      " u'SubhaloMassInHalfRad',\n",
      " u'SubhaloMassInHalfRadType',\n",
      " u'SubhaloMassInMaxRad',\n",
      " u'SubhaloMassInMaxRadType',\n",
      " u'SubhaloMassInRad',\n",
      " u'SubhaloMassInRadType',\n",
      " u'SubhaloMassType',\n",
      " u'SubhaloMyIDs',\n",
      " u'SubhaloParent',\n",
      " u'SubhaloPos',\n",
      " u'SubhaloSpin',\n",
      " u'SubhaloStellarPhotometrics',\n",
      " u'SubhaloStellarPhotometricsMassInRad',\n",
      " u'SubhaloStellarPhotometricsRad',\n",
      " u'SubhaloSubhaloParent_MyIDs',\n",
      " u'SubhaloVel',\n",
      " u'SubhaloVelDisp',\n",
      " u'SubhaloVmax',\n",
      " u'SubhaloVmaxRad']"
     ],
     "language": "python",
     "metadata": {},
     "outputs": [],
     "prompt_number": 21
    },
    {
     "cell_type": "code",
     "collapsed": false,
     "input": [
      "!ls ../../data"
     ],
     "language": "python",
     "metadata": {},
     "outputs": [
      {
       "output_type": "stream",
       "stream": "stdout",
       "text": [
        "Illustris-1_fof_subhalo_myCompleteHaloCatalog_00135.hdf5\r\n",
        "Illustris1_mostMassive.h5\r\n",
        "Illustris1_mostMassive_df.h5\r\n",
        "Illustris1_mostMassive_shapes.h5\r\n",
        "cluster_0.h5\r\n",
        "cluster_16937.h5\r\n",
        "cluster_30430.h5\r\n",
        "cluster_41088.h5\r\n",
        "cluster_51811.h5\r\n"
       ]
      }
     ],
     "prompt_number": 22
    },
    {
     "cell_type": "code",
     "collapsed": false,
     "input": [
      "clst_df = \\\n",
      "    extCat.extract_clst(\n",
      "    relevantSubhaloKeys, f[\"Subhalo\"], 0, clstMemMask,\n",
      "    outputFolder=\"../../data/\")"
     ],
     "language": "python",
     "metadata": {},
     "outputs": [
      {
       "output_type": "stream",
       "stream": "stderr",
       "text": [
        "/opt/local/Library/Frameworks/Python.framework/Versions/2.7/lib/python2.7/site-packages/pandas/io/pytables.py:2487: PerformanceWarning: \n",
        "your performance may suffer as PyTables will pickle object types that it cannot\n",
        "map directly to c-types [inferred_type->unicode,key->axis0] [items->None]\n",
        "\n",
        "  warnings.warn(ws, PerformanceWarning)\n",
        "/opt/local/Library/Frameworks/Python.framework/Versions/2.7/lib/python2.7/site-packages/pandas/io/pytables.py:2487: PerformanceWarning: \n",
        "your performance may suffer as PyTables will pickle object types that it cannot\n",
        "map directly to c-types [inferred_type->unicode,key->block0_items] [items->None]\n",
        "\n",
        "  warnings.warn(ws, PerformanceWarning)\n",
        "/opt/local/Library/Frameworks/Python.framework/Versions/2.7/lib/python2.7/site-packages/pandas/io/pytables.py:2487: PerformanceWarning: \n",
        "your performance may suffer as PyTables will pickle object types that it cannot\n",
        "map directly to c-types [inferred_type->unicode,key->block1_items] [items->None]\n",
        "\n",
        "  warnings.warn(ws, PerformanceWarning)\n"
       ]
      },
      {
       "output_type": "stream",
       "stream": "stdout",
       "text": [
        "outputting file :../../data/cluster_0.h5\n"
       ]
      }
     ],
     "prompt_number": 23
    },
    {
     "cell_type": "code",
     "collapsed": false,
     "input": [
      "clstMemMask.keys()"
     ],
     "language": "python",
     "metadata": {},
     "outputs": [
      {
       "metadata": {},
       "output_type": "pyout",
       "prompt_number": 24,
       "text": [
        "[0, 16937, 41088, 51811, 30430]"
       ]
      }
     ],
     "prompt_number": 24
    },
    {
     "cell_type": "code",
     "collapsed": false,
     "input": [
      "dfs = []\n",
      "for i in range(len(clstID)):\n",
      "    dfs.append(extCat.extract_clst(\n",
      "    relevantSubhaloKeys, f[\"Subhalo\"], clstID[i], clstMemMask,\n",
      "    outputFolder=\"../../data/\"))"
     ],
     "language": "python",
     "metadata": {},
     "outputs": [
      {
       "output_type": "stream",
       "stream": "stdout",
       "text": [
        "outputting file :../../data/cluster_0.h5\n",
        "outputting file :../../data/cluster_16937.h5"
       ]
      },
      {
       "output_type": "stream",
       "stream": "stdout",
       "text": [
        "\n",
        "outputting file :../../data/cluster_30430.h5"
       ]
      },
      {
       "output_type": "stream",
       "stream": "stdout",
       "text": [
        "\n",
        "outputting file :../../data/cluster_41088.h5"
       ]
      },
      {
       "output_type": "stream",
       "stream": "stdout",
       "text": [
        "\n",
        "outputting file :../../data/cluster_51811.h5"
       ]
      },
      {
       "output_type": "stream",
       "stream": "stdout",
       "text": [
        "\n"
       ]
      }
     ],
     "prompt_number": 30
    },
    {
     "cell_type": "code",
     "collapsed": false,
     "input": [
      "SubHCMkeys = dfs[0].keys()[:3]"
     ],
     "language": "python",
     "metadata": {},
     "outputs": [],
     "prompt_number": 26
    },
    {
     "cell_type": "markdown",
     "metadata": {},
     "source": [
      "detect boundary"
     ]
    },
    {
     "cell_type": "code",
     "collapsed": false,
     "input": [
      "dfs[4][SubHCMkeys].describe()"
     ],
     "language": "python",
     "metadata": {},
     "outputs": [
      {
       "html": [
        "<div style=\"max-height:1000px;max-width:1500px;overflow:auto;\">\n",
        "<table border=\"1\" class=\"dataframe\">\n",
        "  <thead>\n",
        "    <tr style=\"text-align: right;\">\n",
        "      <th></th>\n",
        "      <th>SubhaloCM0</th>\n",
        "      <th>SubhaloCM1</th>\n",
        "      <th>SubhaloCM2</th>\n",
        "    </tr>\n",
        "  </thead>\n",
        "  <tbody>\n",
        "    <tr>\n",
        "      <th>count</th>\n",
        "      <td>  7573.000000</td>\n",
        "      <td>  7573.000000</td>\n",
        "      <td>  7573.000000</td>\n",
        "    </tr>\n",
        "    <tr>\n",
        "      <th>mean</th>\n",
        "      <td> 51924.007005</td>\n",
        "      <td> 18373.563717</td>\n",
        "      <td> 24001.149465</td>\n",
        "    </tr>\n",
        "    <tr>\n",
        "      <th>std</th>\n",
        "      <td> 34105.058043</td>\n",
        "      <td>   426.807304</td>\n",
        "      <td>   367.789559</td>\n",
        "    </tr>\n",
        "    <tr>\n",
        "      <th>min</th>\n",
        "      <td>     0.039657</td>\n",
        "      <td> 17259.207031</td>\n",
        "      <td> 22702.658203</td>\n",
        "    </tr>\n",
        "    <tr>\n",
        "      <th>25%</th>\n",
        "      <td>   547.948059</td>\n",
        "      <td> 18056.847656</td>\n",
        "      <td> 23741.507812</td>\n",
        "    </tr>\n",
        "    <tr>\n",
        "      <th>50%</th>\n",
        "      <td> 74287.539062</td>\n",
        "      <td> 18347.736328</td>\n",
        "      <td> 24014.150391</td>\n",
        "    </tr>\n",
        "    <tr>\n",
        "      <th>75%</th>\n",
        "      <td> 74654.117188</td>\n",
        "      <td> 18654.767578</td>\n",
        "      <td> 24245.994141</td>\n",
        "    </tr>\n",
        "    <tr>\n",
        "      <th>max</th>\n",
        "      <td> 74999.953125</td>\n",
        "      <td> 19707.757812</td>\n",
        "      <td> 25138.066406</td>\n",
        "    </tr>\n",
        "  </tbody>\n",
        "</table>\n",
        "</div>"
       ],
       "metadata": {},
       "output_type": "pyout",
       "prompt_number": 33,
       "text": [
        "         SubhaloCM0    SubhaloCM1    SubhaloCM2\n",
        "count   7573.000000   7573.000000   7573.000000\n",
        "mean   51924.007005  18373.563717  24001.149465\n",
        "std    34105.058043    426.807304    367.789559\n",
        "min        0.039657  17259.207031  22702.658203\n",
        "25%      547.948059  18056.847656  23741.507812\n",
        "50%    74287.539062  18347.736328  24014.150391\n",
        "75%    74654.117188  18654.767578  24245.994141\n",
        "max    74999.953125  19707.757812  25138.066406"
       ]
      }
     ],
     "prompt_number": 33
    },
    {
     "cell_type": "markdown",
     "metadata": {},
     "source": [
      "Kludgy way of wrap the cluster close to the edge of the box"
     ]
    },
    {
     "cell_type": "code",
     "collapsed": false,
     "input": [
      "dfs[0][\"SubhaloCM0\"][dfs[0][\"SubhaloCM0\"] > 7e4] = \\\n",
      "    dfs[0][\"SubhaloCM0\"][dfs[0][\"SubhaloCM0\"] > 6e4] - 7.5e4 "
     ],
     "language": "python",
     "metadata": {},
     "outputs": [],
     "prompt_number": 31
    },
    {
     "cell_type": "code",
     "collapsed": false,
     "input": [
      "dfs[4][\"SubhaloCM0\"][dfs[4][\"SubhaloCM0\"] > 7e4] = \\\n",
      "    dfs[4][\"SubhaloCM0\"][dfs[4][\"SubhaloCM0\"] > 6e4] - 7.5e4 "
     ],
     "language": "python",
     "metadata": {},
     "outputs": [],
     "prompt_number": 34
    },
    {
     "cell_type": "markdown",
     "metadata": {},
     "source": [
      "visualize clusters"
     ]
    },
    {
     "cell_type": "heading",
     "level": 1,
     "metadata": {},
     "source": [
      "3D visualization"
     ]
    },
    {
     "cell_type": "code",
     "collapsed": false,
     "input": [
      "for i in range(len(clstID)):\n",
      "    df = dfs[i]\n",
      "    fig = plt.figure()\n",
      "    ax = Axes3D(fig)\n",
      "    ax.set_xlabel(\"x (c kpc/h)\")\n",
      "    ax.set_ylabel(\"y (c kpc/h)\")\n",
      "    ax.set_ylabel(\"z (c kpc/h)\")\n",
      "    ax.set_title(\"cluster {0}\".format(i))\n",
      "    ax.plot(df[\"SubhaloCM0\"], df[\"SubhaloCM1\"], \n",
      "        df[\"SubhaloCM2\"], 'o', alpha=0.1)\n",
      "    plt.show()"
     ],
     "language": "python",
     "metadata": {},
     "outputs": [],
     "prompt_number": 36
    }
   ],
   "metadata": {}
  }
 ]
}