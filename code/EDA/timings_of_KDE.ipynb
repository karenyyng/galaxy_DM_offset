{
 "metadata": {
  "name": "",
  "signature": "sha256:1215c79f0a7fc22ff7cf418d4229d2cafa09d39a3bb3048dcefd41bf83930011"
 },
 "nbformat": 3,
 "nbformat_minor": 0,
 "worksheets": [
  {
   "cells": [
    {
     "cell_type": "code",
     "collapsed": false,
     "input": [
      "%load_ext autoreload\n",
      "%autoreload 2 \n",
      "%matplotlib inline"
     ],
     "language": "python",
     "metadata": {},
     "outputs": [
      {
       "output_type": "stream",
       "stream": "stdout",
       "text": [
        "The autoreload extension is already loaded. To reload it, use:\n",
        "  %reload_ext autoreload\n"
       ]
      }
     ],
     "prompt_number": 1
    },
    {
     "cell_type": "code",
     "collapsed": false,
     "input": [
      "import sys\n",
      "sys.path.append(\"../\")\n",
      "import get_gal_centroids as cent\n",
      "import time\n",
      "import matplotlib.pyplot as plt"
     ],
     "language": "python",
     "metadata": {},
     "outputs": [],
     "prompt_number": 11
    },
    {
     "cell_type": "code",
     "collapsed": false,
     "input": [
      "data = {str(i): cent.gaussian_mixture_data(samp_no=i) \n",
      "        for i in np.arange(100, 1000, 100)}"
     ],
     "language": "python",
     "metadata": {},
     "outputs": [],
     "prompt_number": 13
    },
    {
     "cell_type": "code",
     "collapsed": false,
     "input": [
      "elapsed = {}\n",
      "peaks = {}\n",
      "for k in data.keys():\n",
      "    print \"starting KDE with {0} data points\".format(k)\n",
      "    start = time.clock()\n",
      "    peaks[k] =  cent.do_KDE_and_get_peaks(data[k], dom_peak_no=2)\n",
      "    elapsed[k] = time.clock() - start "
     ],
     "language": "python",
     "metadata": {},
     "outputs": [
      {
       "output_type": "stream",
       "stream": "stdout",
       "text": [
        "starting KDE with 200 data points\n",
        "starting KDE with 900 data points"
       ]
      },
      {
       "output_type": "stream",
       "stream": "stdout",
       "text": [
        "\n",
        "starting KDE with 600 data points"
       ]
      },
      {
       "output_type": "stream",
       "stream": "stdout",
       "text": [
        "\n",
        "starting KDE with 300 data points"
       ]
      },
      {
       "output_type": "stream",
       "stream": "stdout",
       "text": [
        "\n",
        "starting KDE with 700 data points"
       ]
      },
      {
       "output_type": "stream",
       "stream": "stdout",
       "text": [
        "\n",
        "starting KDE with 400 data points"
       ]
      },
      {
       "output_type": "stream",
       "stream": "stdout",
       "text": [
        "\n",
        "starting KDE with 100 data points"
       ]
      },
      {
       "output_type": "stream",
       "stream": "stdout",
       "text": [
        "\n",
        "starting KDE with 800 data points"
       ]
      },
      {
       "output_type": "stream",
       "stream": "stdout",
       "text": [
        "\n",
        "starting KDE with 500 data points"
       ]
      },
      {
       "output_type": "stream",
       "stream": "stdout",
       "text": [
        "\n"
       ]
      }
     ],
     "prompt_number": 14
    },
    {
     "cell_type": "code",
     "collapsed": false,
     "input": [
      "nlogn_arr = np.array([i * np.log(i) for i in np.arange(.1, 1001)])"
     ],
     "language": "python",
     "metadata": {},
     "outputs": [],
     "prompt_number": 15
    },
    {
     "cell_type": "code",
     "collapsed": false,
     "input": [
      "data_pts = np.arange(100, 1000, 100)"
     ],
     "language": "python",
     "metadata": {},
     "outputs": [],
     "prompt_number": 16
    },
    {
     "cell_type": "code",
     "collapsed": false,
     "input": [
      "elapsed"
     ],
     "language": "python",
     "metadata": {},
     "outputs": [
      {
       "metadata": {},
       "output_type": "pyout",
       "prompt_number": 18,
       "text": [
        "{'100': 0.5157319999999999,\n",
        " '200': 1.277539,\n",
        " '300': 1.412896,\n",
        " '400': 2.1252160000000018,\n",
        " '500': 3.6817390000000003,\n",
        " '600': 4.960357999999999,\n",
        " '700': 6.816544,\n",
        " '800': 9.703850000000003,\n",
        " '900': 13.480632}"
       ]
      }
     ],
     "prompt_number": 18
    },
    {
     "cell_type": "code",
     "collapsed": false,
     "input": [
      "plt.plot(elapsed.keys(), elapsed.values(), 'x', mew=2)\n",
      "plt.ylabel('timing (seconds)')\n",
      "plt.xlabel('num of data points')\n",
      "plt.plot(np.arange(.1, 1001), nlogn_arr / 500)\n",
      "plt.xlim((0, 1100))"
     ],
     "language": "python",
     "metadata": {},
     "outputs": [
      {
       "metadata": {},
       "output_type": "pyout",
       "prompt_number": 23,
       "text": [
        "(0, 1100)"
       ]
      },
      {
       "metadata": {},
       "output_type": "display_data",
       "png": "[encoded data removed]",
       "text": [
        "<matplotlib.figure.Figure at 0x1089aad90>"
       ]
      }
     ],
     "prompt_number": 23
    }
   ],
   "metadata": {}
  }
 ]
}