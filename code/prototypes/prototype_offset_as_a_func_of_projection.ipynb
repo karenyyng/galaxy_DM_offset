{
 "cells": [
  {
   "cell_type": "code",
   "execution_count": 1,
   "metadata": {
    "collapsed": true
   },
   "outputs": [],
   "source": [
    "%autoreload 2 \n",
    "%matplotlib inline"
   ]
  },
  {
   "cell_type": "code",
   "execution_count": 2,
   "metadata": {
    "collapsed": true
   },
   "outputs": [],
   "source": [
    "from __future__ import (print_function, unicode_literals, \n",
    "                        division, absolute_import)"
   ]
  },
  {
   "cell_type": "code",
   "execution_count": 3,
   "metadata": {
    "collapsed": true
   },
   "outputs": [],
   "source": [
    "import h5py\n",
    "import pandas as pd\n",
    "import numpy as np "
   ]
  },
  {
   "cell_type": "code",
   "execution_count": 4,
   "metadata": {
    "collapsed": true
   },
   "outputs": [],
   "source": [
    "import matplotlib.pyplot as plt\n",
    "import sys\n",
    "sys.path.append(\"../\")"
   ]
  },
  {
   "cell_type": "code",
   "execution_count": 5,
   "metadata": {
    "collapsed": true
   },
   "outputs": [],
   "source": [
    "import healpy as hp"
   ]
  },
  {
   "cell_type": "code",
   "execution_count": 6,
   "metadata": {
    "collapsed": false
   },
   "outputs": [
    {
     "name": "stderr",
     "output_type": "stream",
     "text": [
      ":0: FutureWarning: IPython widgets are experimental and may change in the future.\n"
     ]
    }
   ],
   "source": [
    "import extract_catalog as ext_cat\n",
    "import get_gal_centroids as getg\n",
    "import plot_clst_prop as plotClst\n",
    "from IPython.html.widgets import interact"
   ]
  },
  {
   "cell_type": "code",
   "execution_count": 7,
   "metadata": {
    "collapsed": true
   },
   "outputs": [],
   "source": [
    "dataPath = \"../../data/\""
   ]
  },
  {
   "cell_type": "code",
   "execution_count": 8,
   "metadata": {
    "collapsed": false
   },
   "outputs": [],
   "source": [
    "original_f = h5py.File(dataPath + \n",
    "                \"Illustris-1_fof_subhalo_myCompleteHaloCatalog_00135.hdf5\")"
   ]
  },
  {
   "cell_type": "code",
   "execution_count": 49,
   "metadata": {
    "collapsed": true
   },
   "outputs": [],
   "source": [
    "clstNo = 4"
   ]
  },
  {
   "cell_type": "code",
   "execution_count": 9,
   "metadata": {
    "collapsed": false
   },
   "outputs": [],
   "source": [
    "df = ext_cat.extract_clst(original_f, clstNo)"
   ]
  },
  {
   "cell_type": "code",
   "execution_count": 10,
   "metadata": {
    "collapsed": true
   },
   "outputs": [],
   "source": [
    "pos = [k for k in df.keys() if \"SubhaloPos\" in k]"
   ]
  },
  {
   "cell_type": "markdown",
   "metadata": {},
   "source": [
    "# nsides of HEALpix are powers of 2"
   ]
  },
  {
   "cell_type": "code",
   "execution_count": 41,
   "metadata": {
    "collapsed": false
   },
   "outputs": [],
   "source": [
    "xi_array, phi_array = getg.angles_given_HEALpix_nsides(2)"
   ]
  },
  {
   "cell_type": "markdown",
   "metadata": {},
   "source": [
    "# Start projection!"
   ]
  },
  {
   "cell_type": "code",
   "execution_count": 42,
   "metadata": {
    "collapsed": false
   },
   "outputs": [
    {
     "data": {
      "text/plain": [
       "7573"
      ]
     },
     "execution_count": 42,
     "metadata": {},
     "output_type": "execute_result"
    }
   ],
   "source": [
    "df.shape[0]"
   ]
  },
  {
   "cell_type": "code",
   "execution_count": 43,
   "metadata": {
    "collapsed": false
   },
   "outputs": [],
   "source": [
    "cut_kwargs={\"DM_cut\": 1e3, \"star_cut\": 1e2}\n",
    "\n",
    "mask = getg.cut_reliable_galaxies(df, **cut_kwargs)"
   ]
  },
  {
   "cell_type": "code",
   "execution_count": 44,
   "metadata": {
    "collapsed": true
   },
   "outputs": [],
   "source": [
    "col = [\"SubhaloPos{0}\".format(i) for i in range(3)]\n",
    "\n",
    "data = np.array(df[col][mask])"
   ]
  },
  {
   "cell_type": "code",
   "execution_count": 64,
   "metadata": {
    "collapsed": false
   },
   "outputs": [
    {
     "name": "stdout",
     "output_type": "stream",
     "text": [
      "# of subhalos after the cut = 265\n"
     ]
    }
   ],
   "source": [
    "data_arr, xi_array, phi_array, los_axis = \\\n",
    "    getg.prep_data_with_cuts_and_proj(df, getg.cut_reliable_galaxies, \n",
    "                                      cut_kwargs, nside_pow=1, \n",
    "                                      verbose=True)"
   ]
  },
  {
   "cell_type": "code",
   "execution_count": 72,
   "metadata": {
    "collapsed": false
   },
   "outputs": [
    {
     "data": {
      "text/plain": [
       "[[9.9493751986735788,\n",
       "  0.012427017975398531,\n",
       "  {'bandwidth_matrix_H': array([[ 26556.13637187,   1862.10888918],\n",
       "          [  1862.10888918,  24949.06176464]]),\n",
       "   'estimate': array([[ 0.,  0.,  0., ...,  0.,  0.,  0.],\n",
       "          [ 0.,  0.,  0., ...,  0.,  0.,  0.],\n",
       "          [ 0.,  0.,  0., ...,  0.,  0.,  0.],\n",
       "          ..., \n",
       "          [ 0.,  0.,  0., ...,  0.,  0.,  0.],\n",
       "          [ 0.,  0.,  0., ...,  0.,  0.,  0.],\n",
       "          [ 0.,  0.,  0., ...,  0.,  0.,  0.]]),\n",
       "   'eval_points': array([[-1615.71111087, -1592.7716575 , -1569.83220413, -1546.89275077,\n",
       "           -1523.9532974 , -1501.01384403, -1478.07439067, -1455.1349373 ,\n",
       "           -1432.19548393, -1409.25603057, -1386.3165772 , -1363.37712383,\n",
       "           -1340.43767047, -1317.4982171 , -1294.55876373, -1271.61931037,\n",
       "           -1248.679857  , -1225.74040363, -1202.80095027, -1179.8614969 ,\n",
       "           -1156.92204353, -1133.98259017, -1111.0431368 , -1088.10368343,\n",
       "           -1065.16423007, -1042.2247767 , -1019.28532333,  -996.34586997,\n",
       "            -973.4064166 ,  -950.46696323,  -927.52750987,  -904.5880565 ,\n",
       "            -881.64860313,  -858.70914977,  -835.7696964 ,  -812.83024303,\n",
       "            -789.89078967,  -766.9513363 ,  -744.01188293,  -721.07242957,\n",
       "            -698.1329762 ,  -675.19352283,  -652.25406947,  -629.3146161 ,\n",
       "            -606.37516273,  -583.43570937,  -560.496256  ,  -537.55680263,\n",
       "            -514.61734927,  -491.6778959 ,  -468.73844253,  -445.79898917,\n",
       "            -422.8595358 ,  -399.92008243,  -376.98062907,  -354.0411757 ,\n",
       "            -331.10172233,  -308.16226897,  -285.2228156 ,  -262.28336223,\n",
       "            -239.34390887,  -216.4044555 ,  -193.46500213,  -170.52554877,\n",
       "            -147.5860954 ,  -124.64664203,  -101.70718867,   -78.7677353 ,\n",
       "             -55.82828193,   -32.88882857,    -9.9493752 ,    12.99007817,\n",
       "              35.92953153,    58.8689849 ,    81.80843827,   104.74789163,\n",
       "             127.687345  ,   150.62679837,   173.56625173,   196.5057051 ,\n",
       "             219.44515847,   242.38461183,   265.3240652 ,   288.26351857,\n",
       "             311.20297193,   334.1424253 ,   357.08187867,   380.02133204,\n",
       "             402.9607854 ,   425.90023877,   448.83969214,   471.7791455 ,\n",
       "             494.71859887,   517.65805224,   540.5975056 ,   563.53695897,\n",
       "             586.47641234,   609.4158657 ,   632.35531907,   655.29477244,\n",
       "             678.2342258 ,   701.17367917,   724.11313254,   747.0525859 ,\n",
       "             769.99203927,   792.93149264,   815.870946  ,   838.81039937,\n",
       "             861.74985274,   884.6893061 ,   907.62875947,   930.56821284,\n",
       "             953.5076662 ,   976.44711957,   999.38657294,  1022.3260263 ,\n",
       "            1045.26547967,  1068.20493304,  1091.1443864 ,  1114.08383977,\n",
       "            1137.02329314,  1159.9627465 ,  1182.90219987,  1205.84165324,\n",
       "            1228.7811066 ,  1251.72055997,  1274.66001334,  1297.5994667 ,\n",
       "            1320.53892007,  1343.47837344,  1366.4178268 ,  1389.35728017,\n",
       "            1412.29673354,  1435.2361869 ,  1458.17564027,  1481.11509364,\n",
       "            1504.054547  ,  1526.99400037,  1549.93345374,  1572.8729071 ,\n",
       "            1595.81236047,  1618.75181384,  1641.6912672 ,  1664.63072057,\n",
       "            1687.57017394,  1710.5096273 ,  1733.44908067,  1756.38853404,\n",
       "            1779.3279874 ,  1802.26744077,  1825.20689414],\n",
       "          [-1998.8480682 , -1972.63023796, -1946.41240773, -1920.19457749,\n",
       "           -1893.97674725, -1867.75891701, -1841.54108678, -1815.32325654,\n",
       "           -1789.1054263 , -1762.88759606, -1736.66976583, -1710.45193559,\n",
       "           -1684.23410535, -1658.01627511, -1631.79844488, -1605.58061464,\n",
       "           -1579.3627844 , -1553.14495416, -1526.92712393, -1500.70929369,\n",
       "           -1474.49146345, -1448.27363321, -1422.05580297, -1395.83797274,\n",
       "           -1369.6201425 , -1343.40231226, -1317.18448202, -1290.96665179,\n",
       "           -1264.74882155, -1238.53099131, -1212.31316107, -1186.09533084,\n",
       "           -1159.8775006 , -1133.65967036, -1107.44184012, -1081.22400989,\n",
       "           -1055.00617965, -1028.78834941, -1002.57051917,  -976.35268894,\n",
       "            -950.1348587 ,  -923.91702846,  -897.69919822,  -871.48136799,\n",
       "            -845.26353775,  -819.04570751,  -792.82787727,  -766.61004704,\n",
       "            -740.3922168 ,  -714.17438656,  -687.95655632,  -661.73872609,\n",
       "            -635.52089585,  -609.30306561,  -583.08523537,  -556.86740514,\n",
       "            -530.6495749 ,  -504.43174466,  -478.21391442,  -451.99608419,\n",
       "            -425.77825395,  -399.56042371,  -373.34259347,  -347.12476324,\n",
       "            -320.906933  ,  -294.68910276,  -268.47127252,  -242.25344229,\n",
       "            -216.03561205,  -189.81778181,  -163.59995157,  -137.38212134,\n",
       "            -111.1642911 ,   -84.94646086,   -58.72863062,   -32.51080039,\n",
       "              -6.29297015,    19.92486009,    46.14269033,    72.36052056,\n",
       "              98.5783508 ,   124.79618104,   151.01401128,   177.23184151,\n",
       "             203.44967175,   229.66750199,   255.88533223,   282.10316246,\n",
       "             308.3209927 ,   334.53882294,   360.75665318,   386.97448341,\n",
       "             413.19231365,   439.41014389,   465.62797413,   491.84580436,\n",
       "             518.0636346 ,   544.28146484,   570.49929508,   596.71712531,\n",
       "             622.93495555,   649.15278579,   675.37061603,   701.58844627,\n",
       "             727.8062765 ,   754.02410674,   780.24193698,   806.45976722,\n",
       "             832.67759745,   858.89542769,   885.11325793,   911.33108817,\n",
       "             937.5489184 ,   963.76674864,   989.98457888,  1016.20240912,\n",
       "            1042.42023935,  1068.63806959,  1094.85589983,  1121.07373007,\n",
       "            1147.2915603 ,  1173.50939054,  1199.72722078,  1225.94505102,\n",
       "            1252.16288125,  1278.38071149,  1304.59854173,  1330.81637197,\n",
       "            1357.0342022 ,  1383.25203244,  1409.46986268,  1435.68769292,\n",
       "            1461.90552315,  1488.12335339,  1514.34118363,  1540.55901387,\n",
       "            1566.7768441 ,  1592.99467434,  1619.21250458,  1645.43033482,\n",
       "            1671.64816505,  1697.86599529,  1724.08382553,  1750.30165577,\n",
       "            1776.519486  ,  1802.73731624,  1828.95514648,  1855.17297672,\n",
       "            1881.39080695,  1907.60863719,  1933.82646743]]),\n",
       "   'los_axis': 2,\n",
       "   'peaks_colIx': array([ 78, 122,  41]),\n",
       "   'peaks_dens': array([ 1.        ,  0.11564558,  0.10341578]),\n",
       "   'peaks_rowIx': array([70, 54, 48]),\n",
       "   'peaks_xcoords': array([  -9.9493752 , -376.98062907, -514.61734927]),\n",
       "   'peaks_ycoords': array([   46.14269033,  1199.72722078,  -923.91702846]),\n",
       "   'phi': 0.78539816339744828,\n",
       "   'xi': 0.41113786232234778}]]"
      ]
     },
     "execution_count": 72,
     "metadata": {},
     "output_type": "execute_result"
    }
   ],
   "source": [
    "\n",
    "map(lambda d, xi, phi: \n",
    "    getg.compute_KDE_peak_offsets(d, original_f, clstNo, xi=xi, \n",
    "                                  phi=phi, los_axis=los_axis),\n",
    "    data_arr[:1], xi_array[:1], phi_array[:1])"
   ]
  },
  {
   "cell_type": "code",
   "execution_count": null,
   "metadata": {
    "collapsed": true
   },
   "outputs": [],
   "source": []
  }
 ],
 "metadata": {
  "kernelspec": {
   "display_name": "Python 2",
   "language": "python",
   "name": "python2"
  },
  "language_info": {
   "codemirror_mode": {
    "name": "ipython",
    "version": 2
   },
   "file_extension": ".py",
   "mimetype": "text/x-python",
   "name": "python",
   "nbconvert_exporter": "python",
   "pygments_lexer": "ipython2",
   "version": "2.7.9"
  }
 },
 "nbformat": 4,
 "nbformat_minor": 0
}
