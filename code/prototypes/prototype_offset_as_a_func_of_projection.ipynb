{
 "cells": [
  {
   "cell_type": "code",
   "execution_count": 1,
   "metadata": {
    "collapsed": true
   },
   "outputs": [],
   "source": [
    "%autoreload 2 \n",
    "%matplotlib inline"
   ]
  },
  {
   "cell_type": "code",
   "execution_count": 2,
   "metadata": {
    "collapsed": true
   },
   "outputs": [],
   "source": [
    "from __future__ import (print_function, unicode_literals, \n",
    "                        division, absolute_import)"
   ]
  },
  {
   "cell_type": "code",
   "execution_count": 3,
   "metadata": {
    "collapsed": true
   },
   "outputs": [],
   "source": [
    "import h5py\n",
    "import pandas as pd\n",
    "import numpy as np "
   ]
  },
  {
   "cell_type": "code",
   "execution_count": 4,
   "metadata": {
    "collapsed": true
   },
   "outputs": [],
   "source": [
    "import matplotlib.pyplot as plt\n",
    "import sys\n",
    "sys.path.append(\"../\")"
   ]
  },
  {
   "cell_type": "code",
   "execution_count": 5,
   "metadata": {
    "collapsed": true
   },
   "outputs": [],
   "source": [
    "import healpy as hp"
   ]
  },
  {
   "cell_type": "code",
   "execution_count": 6,
   "metadata": {
    "collapsed": false
   },
   "outputs": [
    {
     "name": "stderr",
     "output_type": "stream",
     "text": [
      ":0: FutureWarning: IPython widgets are experimental and may change in the future.\n"
     ]
    }
   ],
   "source": [
    "import extract_catalog as ext_cat\n",
    "import get_gal_centroids as getg\n",
    "import plot_clst_prop as plotClst\n",
    "from IPython.html.widgets import interact"
   ]
  },
  {
   "cell_type": "code",
   "execution_count": 7,
   "metadata": {
    "collapsed": true
   },
   "outputs": [],
   "source": [
    "dataPath = \"../../data/\""
   ]
  },
  {
   "cell_type": "code",
   "execution_count": 8,
   "metadata": {
    "collapsed": false
   },
   "outputs": [],
   "source": [
    "original_f = h5py.File(dataPath + \n",
    "                \"Illustris-1_fof_subhalo_myCompleteHaloCatalog_00135.hdf5\")"
   ]
  },
  {
   "cell_type": "code",
   "execution_count": 49,
   "metadata": {
    "collapsed": true
   },
   "outputs": [],
   "source": [
    "clstNo = 4"
   ]
  },
  {
   "cell_type": "code",
   "execution_count": 9,
   "metadata": {
    "collapsed": false
   },
   "outputs": [],
   "source": [
    "df = ext_cat.extract_clst(original_f, clstNo)"
   ]
  },
  {
   "cell_type": "code",
   "execution_count": 10,
   "metadata": {
    "collapsed": true
   },
   "outputs": [],
   "source": [
    "pos = [k for k in df.keys() if \"SubhaloPos\" in k]"
   ]
  },
  {
   "cell_type": "markdown",
   "metadata": {},
   "source": [
    "# nsides of HEALpix are powers of 2"
   ]
  },
  {
   "cell_type": "code",
   "execution_count": 41,
   "metadata": {
    "collapsed": false
   },
   "outputs": [],
   "source": [
    "xi_array, phi_array = getg.angles_given_HEALpix_nsides(2)"
   ]
  },
  {
   "cell_type": "markdown",
   "metadata": {},
   "source": [
    "# Start projection!"
   ]
  },
  {
   "cell_type": "markdown",
   "metadata": {},
   "source": [
    "metadata needed "
   ]
  },
  {
   "cell_type": "code",
   "execution_count": 112,
   "metadata": {
    "collapsed": false
   },
   "outputs": [
    {
     "data": {
      "text/plain": [
       "Index([u'SubhaloGrNr', u'SubhaloLenType0', u'SubhaloLenType1', u'SubhaloLenType2', u'SubhaloLenType3', u'SubhaloLenType4', u'SubhaloLenType5', u'SubhaloMass', u'SubhaloMassType0', u'SubhaloMassType1', u'SubhaloMassType2', u'SubhaloMassType3', u'SubhaloMassType4', u'SubhaloMassType5', u'SubhaloPos0', u'SubhaloPos1', u'SubhaloPos2', u'U_band', u'B_band', u'V_band', u'K_band', u'g_band', u'r_band', u'i_band', u'z_band', u'SubhaloStellarPhotometricsMassInRad'], dtype='object')"
      ]
     },
     "execution_count": 112,
     "metadata": {},
     "output_type": "execute_result"
    }
   ],
   "source": [
    "df.keys()"
   ]
  },
  {
   "cell_type": "code",
   "execution_count": 42,
   "metadata": {
    "collapsed": false
   },
   "outputs": [
    {
     "data": {
      "text/plain": [
       "7573"
      ]
     },
     "execution_count": 42,
     "metadata": {},
     "output_type": "execute_result"
    }
   ],
   "source": [
    "df.shape[0]"
   ]
  },
  {
   "cell_type": "code",
   "execution_count": 43,
   "metadata": {
    "collapsed": false
   },
   "outputs": [],
   "source": [
    "cut_kwargs={\"DM_cut\": 1e3, \"star_cut\": 1e2}\n",
    "\n",
    "mask = getg.cut_reliable_galaxies(df, **cut_kwargs)"
   ]
  },
  {
   "cell_type": "code",
   "execution_count": 44,
   "metadata": {
    "collapsed": true
   },
   "outputs": [],
   "source": [
    "col = [\"SubhaloPos{0}\".format(i) for i in range(3)]\n",
    "\n",
    "data = np.array(df[col][mask])"
   ]
  },
  {
   "cell_type": "code",
   "execution_count": 64,
   "metadata": {
    "collapsed": false
   },
   "outputs": [
    {
     "name": "stdout",
     "output_type": "stream",
     "text": [
      "# of subhalos after the cut = 265\n"
     ]
    }
   ],
   "source": [
    "data_arr, xi_array, phi_array, los_axis = \\\n",
    "    getg.prep_data_with_cuts_and_proj(df, getg.cut_reliable_galaxies, \n",
    "                                      cut_kwargs, nside_pow=1, \n",
    "                                      verbose=True)"
   ]
  },
  {
   "cell_type": "code",
   "execution_count": 88,
   "metadata": {
    "collapsed": false
   },
   "outputs": [],
   "source": [
    "proj_no = 2\n",
    "stuff = \\\n",
    "    map(lambda d, xi, phi: \n",
    "        getg.compute_KDE_peak_offsets(d, original_f, clstNo, xi=xi, \n",
    "                                  phi=phi, los_axis=los_axis),\n",
    "        data_arr[:proj_no], xi_array[:proj_no], phi_array[:proj_no])"
   ]
  },
  {
   "cell_type": "code",
   "execution_count": 90,
   "metadata": {
    "collapsed": false
   },
   "outputs": [],
   "source": [
    "offset_list = [s[0] for s in stuff]\n",
    "offset_R200_list = [s[1] for s in stuff]\n",
    "fhat_list = [s[2] for s in stuff]"
   ]
  },
  {
   "cell_type": "code",
   "execution_count": 110,
   "metadata": {
    "collapsed": false
   },
   "outputs": [],
   "source": [
    "peak_df = getg.convert_dict_peaks_to_df(fhat_list, wt=\"None\")"
   ]
  },
  {
   "cell_type": "code",
   "execution_count": 111,
   "metadata": {
    "collapsed": false
   },
   "outputs": [
    {
     "data": {
      "text/html": [
       "<div style=\"max-height:1000px;max-width:1500px;overflow:auto;\">\n",
       "<table border=\"1\" class=\"dataframe\">\n",
       "  <thead>\n",
       "    <tr style=\"text-align: right;\">\n",
       "      <th></th>\n",
       "      <th>peaks_xcoords</th>\n",
       "      <th>peaks_ycoords</th>\n",
       "      <th>peaks_rowIx</th>\n",
       "      <th>peaks_colIx</th>\n",
       "      <th>peaks_dens</th>\n",
       "      <th>clstNo</th>\n",
       "      <th>phi</th>\n",
       "      <th>xi</th>\n",
       "      <th>los_axis</th>\n",
       "      <th>weights</th>\n",
       "    </tr>\n",
       "  </thead>\n",
       "  <tbody>\n",
       "    <tr>\n",
       "      <th>0</th>\n",
       "      <td>   -9.949375</td>\n",
       "      <td>   46.142690</td>\n",
       "      <td>  70</td>\n",
       "      <td>  78</td>\n",
       "      <td> 1.000000</td>\n",
       "      <td> 0</td>\n",
       "      <td> 0.785398</td>\n",
       "      <td> 0.411138</td>\n",
       "      <td> 2</td>\n",
       "      <td> None</td>\n",
       "    </tr>\n",
       "    <tr>\n",
       "      <th>1</th>\n",
       "      <td> -376.980629</td>\n",
       "      <td> 1199.727221</td>\n",
       "      <td>  54</td>\n",
       "      <td> 122</td>\n",
       "      <td> 0.115646</td>\n",
       "      <td> 0</td>\n",
       "      <td> 0.785398</td>\n",
       "      <td> 0.411138</td>\n",
       "      <td> 2</td>\n",
       "      <td> None</td>\n",
       "    </tr>\n",
       "    <tr>\n",
       "      <th>2</th>\n",
       "      <td> -514.617349</td>\n",
       "      <td> -923.917028</td>\n",
       "      <td>  48</td>\n",
       "      <td>  41</td>\n",
       "      <td> 0.103416</td>\n",
       "      <td> 0</td>\n",
       "      <td> 0.785398</td>\n",
       "      <td> 0.411138</td>\n",
       "      <td> 2</td>\n",
       "      <td> None</td>\n",
       "    </tr>\n",
       "    <tr>\n",
       "      <th>0</th>\n",
       "      <td>  -46.142691</td>\n",
       "      <td>   -9.949378</td>\n",
       "      <td>  72</td>\n",
       "      <td>  70</td>\n",
       "      <td> 1.000000</td>\n",
       "      <td> 1</td>\n",
       "      <td> 2.356194</td>\n",
       "      <td> 0.411138</td>\n",
       "      <td> 2</td>\n",
       "      <td> None</td>\n",
       "    </tr>\n",
       "    <tr>\n",
       "      <th>1</th>\n",
       "      <td>-1199.727231</td>\n",
       "      <td> -376.980642</td>\n",
       "      <td>  28</td>\n",
       "      <td>  54</td>\n",
       "      <td> 0.115648</td>\n",
       "      <td> 1</td>\n",
       "      <td> 2.356194</td>\n",
       "      <td> 0.411138</td>\n",
       "      <td> 2</td>\n",
       "      <td> None</td>\n",
       "    </tr>\n",
       "    <tr>\n",
       "      <th>2</th>\n",
       "      <td>  923.917036</td>\n",
       "      <td> -514.617366</td>\n",
       "      <td> 109</td>\n",
       "      <td>  48</td>\n",
       "      <td> 0.103414</td>\n",
       "      <td> 1</td>\n",
       "      <td> 2.356194</td>\n",
       "      <td> 0.411138</td>\n",
       "      <td> 2</td>\n",
       "      <td> None</td>\n",
       "    </tr>\n",
       "  </tbody>\n",
       "</table>\n",
       "</div>"
      ],
      "text/plain": [
       "   peaks_xcoords  peaks_ycoords  peaks_rowIx  peaks_colIx  peaks_dens  clstNo  \\\n",
       "0      -9.949375      46.142690           70           78    1.000000       0   \n",
       "1    -376.980629    1199.727221           54          122    0.115646       0   \n",
       "2    -514.617349    -923.917028           48           41    0.103416       0   \n",
       "0     -46.142691      -9.949378           72           70    1.000000       1   \n",
       "1   -1199.727231    -376.980642           28           54    0.115648       1   \n",
       "2     923.917036    -514.617366          109           48    0.103414       1   \n",
       "\n",
       "        phi        xi  los_axis weights  \n",
       "0  0.785398  0.411138         2    None  \n",
       "1  0.785398  0.411138         2    None  \n",
       "2  0.785398  0.411138         2    None  \n",
       "0  2.356194  0.411138         2    None  \n",
       "1  2.356194  0.411138         2    None  \n",
       "2  2.356194  0.411138         2    None  "
      ]
     },
     "execution_count": 111,
     "metadata": {},
     "output_type": "execute_result"
    }
   ],
   "source": [
    "peak_df"
   ]
  },
  {
   "cell_type": "code",
   "execution_count": null,
   "metadata": {
    "collapsed": true
   },
   "outputs": [],
   "source": [
    "getg.convert_dict_dens_to_h5(fhat_list, wt=\"None\")"
   ]
  }
 ],
 "metadata": {
  "kernelspec": {
   "display_name": "Python 2",
   "language": "python",
   "name": "python2"
  },
  "language_info": {
   "codemirror_mode": {
    "name": "ipython",
    "version": 2
   },
   "file_extension": ".py",
   "mimetype": "text/x-python",
   "name": "python",
   "nbconvert_exporter": "python",
   "pygments_lexer": "ipython2",
   "version": "2.7.9"
  }
 },
 "nbformat": 4,
 "nbformat_minor": 0
}
