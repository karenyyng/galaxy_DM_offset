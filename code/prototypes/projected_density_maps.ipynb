{
 "cells": [
  {
   "cell_type": "code",
   "execution_count": 1,
   "metadata": {
    "collapsed": true
   },
   "outputs": [],
   "source": [
    "from __future__ import (division, print_function)"
   ]
  },
  {
   "cell_type": "code",
   "execution_count": 2,
   "metadata": {
    "collapsed": false
   },
   "outputs": [],
   "source": [
    "%autoreload 2\n",
    "%matplotlib inline"
   ]
  },
  {
   "cell_type": "code",
   "execution_count": 24,
   "metadata": {
    "collapsed": false
   },
   "outputs": [
    {
     "data": {
      "application/javascript": [
       "IPython.OutputArea.auto_scroll_threshold = 9999;"
      ],
      "text/plain": [
       "<IPython.core.display.Javascript object>"
      ]
     },
     "metadata": {},
     "output_type": "display_data"
    }
   ],
   "source": [
    "%%javascript\n",
    "IPython.OutputArea.auto_scroll_threshold = 9999;"
   ]
  },
  {
   "cell_type": "code",
   "execution_count": 4,
   "metadata": {
    "collapsed": true
   },
   "outputs": [],
   "source": [
    "import matplotlib.pyplot as plt\n",
    "import pandas as pd\n",
    "import h5py"
   ]
  },
  {
   "cell_type": "code",
   "execution_count": 5,
   "metadata": {
    "collapsed": false
   },
   "outputs": [],
   "source": [
    "import sys\n",
    "sys.path.append(\"../\")\n",
    "import get_gal_centroids as getg\n",
    "import plot_gal_prop as plotg"
   ]
  },
  {
   "cell_type": "code",
   "execution_count": 20,
   "metadata": {
    "collapsed": true
   },
   "outputs": [],
   "source": [
    "data_f = h5py.File(\"../../data/Illustris-1_fof_subhalo\" +\n",
    "                   \"_myCompleteHaloCatalog_00135.hdf5\")\n",
    "h5_fstream = h5py.File(\"../../data/clst20_fhat.h5\")\n",
    "peaks_df = pd.read_hdf(\"../../data/clst20_peak_df.h5\", \"peak_df\")"
   ]
  },
  {
   "cell_type": "code",
   "execution_count": 8,
   "metadata": {
    "collapsed": false
   },
   "outputs": [],
   "source": [
    "clst13 = peaks_df[peaks_df.clstNo == 13]"
   ]
  },
  {
   "cell_type": "code",
   "execution_count": 9,
   "metadata": {
    "collapsed": false
   },
   "outputs": [
    {
     "name": "stdout",
     "output_type": "stream",
     "text": [
      "['clstNo', 'cut', 'weights', 'los_axis', 'xi', 'phi']\n"
     ]
    }
   ],
   "source": [
    "metakeys = getg.metakeys()\n",
    "print(metakeys)"
   ]
  },
  {
   "cell_type": "markdown",
   "metadata": {},
   "source": [
    "these are the meta data that we will group by \n",
    "since there are several peaks for a specific set \n",
    "of metadata"
   ]
  },
  {
   "cell_type": "code",
   "execution_count": 10,
   "metadata": {
    "collapsed": false
   },
   "outputs": [],
   "source": [
    "gpby13 = clst13.groupby(metakeys)\n",
    "groups = dict(list(gpby13))"
   ]
  },
  {
   "cell_type": "code",
   "execution_count": 11,
   "metadata": {
    "collapsed": false
   },
   "outputs": [],
   "source": [
    "fhat_dict = {gp_keys: \n",
    "             getg.retrieve_fhat_from_gp(gp_keys, gp_vals, h5_fstream)\n",
    "             for gp_keys, gp_vals in groups.iteritems()\n",
    "             }"
   ]
  },
  {
   "cell_type": "markdown",
   "metadata": {},
   "source": [
    "# visualize different projections"
   ]
  },
  {
   "cell_type": "markdown",
   "metadata": {},
   "source": [
    "due to how the data is stored, subsequent projections\n",
    "shown here may not reflect if two projections are close \n",
    "in angular space."
   ]
  },
  {
   "cell_type": "code",
   "execution_count": null,
   "metadata": {
    "collapsed": false
   },
   "outputs": [],
   "source": [
    "for key in fhat_dict.keys()[:20]:\n",
    "    clstNo = key[0]\n",
    "    fig = plt.figure()\n",
    "    \n",
    "    ax = fig.add_subplot(111, aspect='equal')\n",
    "\n",
    "    plotg.plot_KDE_peaks(fhat_dict[key], \n",
    "                         clstNo=clstNo,\n",
    "                         allPeaks=True, \n",
    "                         R200C=data_f[\"Group\"]['Group_R_Crit200'][clstNo],\n",
    "                         ax=ax, fig=fig)\n",
    "    fig.set_figheight(1.5 * fig.get_figheight())\n",
    "    fig.set_figwidth(1.5 * fig.get_figwidth())\n",
    "    \n",
    "    figheight = np.abs(np.diff(ax.get_xlim()))\n",
    "    figwidth = np.abs(np.diff(ax.get_ylim()))\n",
    "    ax.text(-figwidth / 3., -figheight / 3., \n",
    "            r\"$\\xi, \\phi$ = {:.2f}, {:.2f}\".format(\n",
    "            *((np.array(key[-2:]) * 180. / np.pi)), size=50)\n",
    "            , bbox=dict(facecolor='white'))"
   ]
  },
  {
   "cell_type": "code",
   "execution_count": null,
   "metadata": {
    "collapsed": true
   },
   "outputs": [],
   "source": []
  }
 ],
 "metadata": {
  "kernelspec": {
   "display_name": "Python 2",
   "language": "python",
   "name": "python2"
  },
  "language_info": {
   "codemirror_mode": {
    "name": "ipython",
    "version": 2
   },
   "file_extension": ".py",
   "mimetype": "text/x-python",
   "name": "python",
   "nbconvert_exporter": "python",
   "pygments_lexer": "ipython2",
   "version": "2.7.6"
  }
 },
 "nbformat": 4,
 "nbformat_minor": 0
}
