{
 "cells": [
  {
   "cell_type": "code",
   "execution_count": 1,
   "metadata": {
    "collapsed": true
   },
   "outputs": [],
   "source": [
    "%autoreload 2 \n",
    "%matplotlib inline"
   ]
  },
  {
   "cell_type": "code",
   "execution_count": 3,
   "metadata": {
    "collapsed": true
   },
   "outputs": [],
   "source": [
    "from __future__ import (print_function, unicode_literals, \n",
    "                        division, absolute_import)"
   ]
  },
  {
   "cell_type": "code",
   "execution_count": 9,
   "metadata": {
    "collapsed": true
   },
   "outputs": [],
   "source": [
    "import h5py\n",
    "import pandas as pd\n",
    "import numpy as np "
   ]
  },
  {
   "cell_type": "code",
   "execution_count": 6,
   "metadata": {
    "collapsed": true
   },
   "outputs": [],
   "source": [
    "import matplotlib.pyplot as plt\n",
    "import sys\n",
    "sys.path.append(\"../\")"
   ]
  },
  {
   "cell_type": "code",
   "execution_count": 21,
   "metadata": {
    "collapsed": false
   },
   "outputs": [],
   "source": [
    "import extract_catalog as ext_cat\n",
    "import get_gal_centroids as getg\n",
    "import plot_clst_prop as plotClst"
   ]
  },
  {
   "cell_type": "code",
   "execution_count": 7,
   "metadata": {
    "collapsed": true
   },
   "outputs": [],
   "source": [
    "dataPath = \"../../data/\""
   ]
  },
  {
   "cell_type": "code",
   "execution_count": 15,
   "metadata": {
    "collapsed": false
   },
   "outputs": [],
   "source": [
    "original_f = h5py.File(dataPath + \n",
    "                \"Illustris-1_fof_subhalo_myCompleteHaloCatalog_00135.hdf5\")"
   ]
  },
  {
   "cell_type": "code",
   "execution_count": 17,
   "metadata": {
    "collapsed": false
   },
   "outputs": [],
   "source": [
    "df = ext_cat.extract_clst(original_f, 0)"
   ]
  },
  {
   "cell_type": "code",
   "execution_count": 20,
   "metadata": {
    "collapsed": true
   },
   "outputs": [],
   "source": [
    "pos = [k for k in df.keys() if \"SubhaloPos\" in k]"
   ]
  },
  {
   "cell_type": "code",
   "execution_count": 24,
   "metadata": {
    "collapsed": false
   },
   "outputs": [
    {
     "name": "stdout",
     "output_type": "stream",
     "text": [
      "Automatic pdb calling has been turned ON\n"
     ]
    }
   ],
   "source": [
    "%pdb"
   ]
  },
  {
   "cell_type": "markdown",
   "metadata": {},
   "source": [
    "rotating points by angle xi"
   ]
  },
  {
   "cell_type": "code",
   "execution_count": 75,
   "metadata": {
    "collapsed": false
   },
   "outputs": [
    {
     "data": {
      "text/html": [
       "<div style=\"max-height:1000px;max-width:1500px;overflow:auto;\">\n",
       "<table border=\"1\" class=\"dataframe\">\n",
       "  <thead>\n",
       "    <tr style=\"text-align: right;\">\n",
       "      <th></th>\n",
       "      <th>SubhaloPos0</th>\n",
       "      <th>SubhaloPos1</th>\n",
       "      <th>SubhaloPos2</th>\n",
       "    </tr>\n",
       "  </thead>\n",
       "  <tbody>\n",
       "    <tr>\n",
       "      <th>0</th>\n",
       "      <td>    0.000000</td>\n",
       "      <td>    0.000000</td>\n",
       "      <td>    0.000000</td>\n",
       "    </tr>\n",
       "    <tr>\n",
       "      <th>1</th>\n",
       "      <td> -744.470490</td>\n",
       "      <td>-1607.318359</td>\n",
       "      <td>-1448.265625</td>\n",
       "    </tr>\n",
       "    <tr>\n",
       "      <th>2</th>\n",
       "      <td> -167.178101</td>\n",
       "      <td>  501.337891</td>\n",
       "      <td>-1121.117188</td>\n",
       "    </tr>\n",
       "    <tr>\n",
       "      <th>3</th>\n",
       "      <td>  274.732117</td>\n",
       "      <td>  238.501953</td>\n",
       "      <td> -138.343750</td>\n",
       "    </tr>\n",
       "    <tr>\n",
       "      <th>4</th>\n",
       "      <td>   61.319946</td>\n",
       "      <td>  360.355469</td>\n",
       "      <td> -767.656250</td>\n",
       "    </tr>\n",
       "    <tr>\n",
       "      <th>5</th>\n",
       "      <td>  -65.280518</td>\n",
       "      <td>  269.515625</td>\n",
       "      <td>-2847.538086</td>\n",
       "    </tr>\n",
       "    <tr>\n",
       "      <th>6</th>\n",
       "      <td>  591.487854</td>\n",
       "      <td>  306.462891</td>\n",
       "      <td> 1108.242188</td>\n",
       "    </tr>\n",
       "    <tr>\n",
       "      <th>7</th>\n",
       "      <td> -659.313141</td>\n",
       "      <td>  206.179688</td>\n",
       "      <td>-2491.986328</td>\n",
       "    </tr>\n",
       "    <tr>\n",
       "      <th>8</th>\n",
       "      <td>-1010.009705</td>\n",
       "      <td>-2089.460938</td>\n",
       "      <td>-1561.896484</td>\n",
       "    </tr>\n",
       "    <tr>\n",
       "      <th>9</th>\n",
       "      <td>  -95.760254</td>\n",
       "      <td>  417.144531</td>\n",
       "      <td> -384.330078</td>\n",
       "    </tr>\n",
       "  </tbody>\n",
       "</table>\n",
       "</div>"
      ],
      "text/plain": [
       "   SubhaloPos0  SubhaloPos1  SubhaloPos2\n",
       "0     0.000000     0.000000     0.000000\n",
       "1  -744.470490 -1607.318359 -1448.265625\n",
       "2  -167.178101   501.337891 -1121.117188\n",
       "3   274.732117   238.501953  -138.343750\n",
       "4    61.319946   360.355469  -767.656250\n",
       "5   -65.280518   269.515625 -2847.538086\n",
       "6   591.487854   306.462891  1108.242188\n",
       "7  -659.313141   206.179688 -2491.986328\n",
       "8 -1010.009705 -2089.460938 -1561.896484\n",
       "9   -95.760254   417.144531  -384.330078"
      ]
     },
     "execution_count": 75,
     "metadata": {},
     "output_type": "execute_result"
    }
   ],
   "source": [
    "df[pos][:10]"
   ]
  },
  {
   "cell_type": "code",
   "execution_count": 79,
   "metadata": {
    "collapsed": false
   },
   "outputs": [
    {
     "name": "stdout",
     "output_type": "stream",
     "text": [
      "[ 0.  0.  0.]\n",
      "[ 0.  0.  0.]\n",
      "[ -744.4704895  -1607.31835938 -1448.265625  ]\n",
      "[ -167.17810059   501.33789062 -1121.1171875 ]\n",
      "[ 274.7321167   238.50195312 -138.34375   ]\n",
      "[  61.31994629  360.35546875 -767.65625   ]\n",
      "[  -65.28051758   269.515625   -2847.53808594]\n",
      "[  591.487854     306.46289062  1108.2421875 ]\n",
      "[ -659.31314087   206.1796875  -2491.98632812]\n",
      "[-1010.00970459 -2089.4609375  -1561.89648438]\n",
      "[ -95.76025391  417.14453125 -384.33007812]\n",
      "[[    0.             0.             0.        ]\n",
      " [ 1607.31835938 -1448.265625     744.4704895 ]\n",
      " [ -501.33789063 -1121.1171875    167.17810059]\n",
      " [ -238.50195312  -138.34375     -274.7321167 ]\n",
      " [ -360.35546875  -767.65625      -61.31994629]\n",
      " [ -269.515625   -2847.53808594    65.28051758]\n",
      " [ -306.46289062  1108.2421875   -591.487854  ]\n",
      " [ -206.1796875  -2491.98632812   659.31314087]\n",
      " [ 2089.4609375  -1561.89648438  1010.00970459]\n",
      " [ -417.14453125  -384.33007812    95.76025391]]\n"
     ]
    }
   ],
   "source": [
    "along_x = df[pos][:10].apply(lambda x: \n",
    "         getg.project_coords(x, xi=0, phi=0, \n",
    "                             los_axis=4), axis=1)\n",
    "along_x = np.array(along_x)\n",
    "print (along_x[:, :10])"
   ]
  },
  {
   "cell_type": "code",
   "execution_count": null,
   "metadata": {
    "collapsed": true
   },
   "outputs": [],
   "source": []
  },
  {
   "cell_type": "code",
   "execution_count": null,
   "metadata": {
    "collapsed": true
   },
   "outputs": [],
   "source": []
  }
 ],
 "metadata": {
  "kernelspec": {
   "display_name": "Python 2",
   "language": "python",
   "name": "python2"
  },
  "language_info": {
   "codemirror_mode": {
    "name": "ipython",
    "version": 2
   },
   "file_extension": ".py",
   "mimetype": "text/x-python",
   "name": "python",
   "nbconvert_exporter": "python",
   "pygments_lexer": "ipython2",
   "version": "2.7.9"
  }
 },
 "nbformat": 4,
 "nbformat_minor": 0
}
