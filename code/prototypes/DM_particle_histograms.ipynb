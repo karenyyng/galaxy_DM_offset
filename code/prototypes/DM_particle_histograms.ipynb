{
 "cells": [
  {
   "cell_type": "code",
   "execution_count": 1,
   "metadata": {
    "collapsed": true
   },
   "outputs": [],
   "source": [
    "from __future__ import (division, print_function)"
   ]
  },
  {
   "cell_type": "code",
   "execution_count": 135,
   "metadata": {
    "collapsed": false
   },
   "outputs": [],
   "source": [
    "%autoreload 2\n",
    "%matplotlib inline"
   ]
  },
  {
   "cell_type": "code",
   "execution_count": 3,
   "metadata": {
    "collapsed": false
   },
   "outputs": [
    {
     "data": {
      "application/javascript": [
       "IPython.OutputArea.auto_scroll_threshold = 9999;"
      ],
      "text/plain": [
       "<IPython.core.display.Javascript object>"
      ]
     },
     "metadata": {},
     "output_type": "display_data"
    }
   ],
   "source": [
    "%%javascript\n",
    "IPython.OutputArea.auto_scroll_threshold = 9999;"
   ]
  },
  {
   "cell_type": "code",
   "execution_count": 4,
   "metadata": {
    "collapsed": true
   },
   "outputs": [],
   "source": [
    "import matplotlib.pyplot as plt\n",
    "import pandas as pd\n",
    "import h5py\n",
    "#import seaborn as sns\n",
    "#sns.set_style('white')"
   ]
  },
  {
   "cell_type": "code",
   "execution_count": 5,
   "metadata": {
    "collapsed": true
   },
   "outputs": [],
   "source": [
    "import statsmodels as sm"
   ]
  },
  {
   "cell_type": "code",
   "execution_count": 6,
   "metadata": {
    "collapsed": false
   },
   "outputs": [],
   "source": [
    "#from seaborn.distributions \\\n",
    "#    import _statsmodels_bivariate_kde as bivariate_KDE"
   ]
  },
  {
   "cell_type": "code",
   "execution_count": 197,
   "metadata": {
    "collapsed": false
   },
   "outputs": [],
   "source": [
    "import sys\n",
    "sys.path.append(\"../\")\n",
    "import extract_catalog as ec\n",
    "import plot_gal_prop as plotg\n",
    "import get_DM_centroids as getDM\n",
    "import get_KDE "
   ]
  },
  {
   "cell_type": "code",
   "execution_count": 8,
   "metadata": {
    "collapsed": false
   },
   "outputs": [],
   "source": [
    "partDMfile = \"../../data/Illustris-1_\" + \\\n",
    "    \"00135_APillepich_KarenNG_ParticleData_Group_PartType1.h5\"\n",
    "\n",
    "data_f = h5py.File(\"../../data/Illustris-1_fof_subhalo\" +\n",
    "                   \"_myCompleteHaloCatalog_00135.hdf5\")"
   ]
  },
  {
   "cell_type": "code",
   "execution_count": 9,
   "metadata": {
    "collapsed": false
   },
   "outputs": [],
   "source": [
    "partDM = h5py.File(partDMfile)"
   ]
  },
  {
   "cell_type": "code",
   "execution_count": 10,
   "metadata": {
    "collapsed": true
   },
   "outputs": [],
   "source": [
    "no = 7\n",
    "size=1e3"
   ]
  },
  {
   "cell_type": "code",
   "execution_count": 11,
   "metadata": {
    "collapsed": false
   },
   "outputs": [],
   "source": [
    "part_halos = h5py.File(\"../../data/DM_particles_clst_loc.h5\")\n",
    "haloEndIx = part_halos[\"loc\"][...]"
   ]
  },
  {
   "cell_type": "code",
   "execution_count": 12,
   "metadata": {
    "collapsed": false
   },
   "outputs": [
    {
     "data": {
      "text/plain": [
       "30285624"
      ]
     },
     "execution_count": 12,
     "metadata": {},
     "output_type": "execute_result"
    }
   ],
   "source": [
    "haloEndIx[5] - haloEndIx[4]"
   ]
  },
  {
   "cell_type": "markdown",
   "metadata": {},
   "source": [
    "# the first halo id is 1 ..... different than other index scheme"
   ]
  },
  {
   "cell_type": "markdown",
   "metadata": {},
   "source": [
    "to correct for consistency, we add the starting index of 0 "
   ]
  },
  {
   "cell_type": "code",
   "execution_count": 28,
   "metadata": {
    "collapsed": false
   },
   "outputs": [],
   "source": [
    "haloEndIx = [0] + list(haloEndIx)"
   ]
  },
  {
   "cell_type": "code",
   "execution_count": 102,
   "metadata": {
    "collapsed": false
   },
   "outputs": [
    {
     "data": {
      "text/plain": [
       "[u'PartType1_Coordinates', u'PartType1_HaloID', u'PartType1_Masses']"
      ]
     },
     "execution_count": 102,
     "metadata": {},
     "output_type": "execute_result"
    }
   ],
   "source": [
    "partDM.keys()"
   ]
  },
  {
   "cell_type": "code",
   "execution_count": 105,
   "metadata": {
    "collapsed": false
   },
   "outputs": [
    {
     "data": {
      "text/plain": [
       "array([ True,  True,  True, ...,  True,  True,  True], dtype=bool)"
      ]
     },
     "execution_count": 105,
     "metadata": {},
     "output_type": "execute_result"
    }
   ],
   "source": [
    "partDM[\"PartType1_HaloID\"][haloEndIx[clstNo]: haloEndIx[clstNo+1]] == 8"
   ]
  },
  {
   "cell_type": "code",
   "execution_count": 84,
   "metadata": {
    "collapsed": false
   },
   "outputs": [],
   "source": [
    "crds = \\\n",
    "    partDM[\"PartType1_Coordinates\"][:, haloEndIx[clstNo]: haloEndIx[clstNo+1]]"
   ]
  },
  {
   "cell_type": "code",
   "execution_count": 125,
   "metadata": {
    "collapsed": false
   },
   "outputs": [
    {
     "data": {
      "text/plain": [
       "0.704225352112676"
      ]
     },
     "execution_count": 125,
     "metadata": {},
     "output_type": "execute_result"
    }
   ],
   "source": [
    "75 / 106.5"
   ]
  },
  {
   "cell_type": "code",
   "execution_count": 132,
   "metadata": {
    "collapsed": false
   },
   "outputs": [
    {
     "data": {
      "text/plain": [
       "<matplotlib.text.Text at 0x1182eb210>"
      ]
     },
     "execution_count": 132,
     "metadata": {},
     "output_type": "execute_result"
    },
    {
     "data": {
      "image/png": "[encoded data removed]",
      "text/plain": [
       "<matplotlib.figure.Figure at 0x118397850>"
      ]
     },
     "metadata": {},
     "output_type": "display_data"
    }
   ],
   "source": [
    "_ = plt.hist(crds[1])\n",
    "plt.axvline(7.5e4 / 0.7, color='r')\n",
    "plt.text(8.2e4, 1.5e7, \"y_coord = \\n 7.5e4 / 0.7 kpc\", color='r')\n",
    "plt.axvline(7.5e4, color='g')\n",
    "plt.text(3.8e4, 1.5e7, \"y_coord = 7.5e4 kpc / h\", color='g')\n",
    "plt.title(\"clst No. 8 y-axis\")\n",
    "plt.xlabel(\"spatial unit\")\n",
    "plt.ylabel(\"count\")\n"
   ]
  },
  {
   "cell_type": "code",
   "execution_count": 142,
   "metadata": {
    "collapsed": false
   },
   "outputs": [],
   "source": [
    "clstNo = 7\n",
    "coord_dict = ec.get_DM_particles([clstNo], partDM, \n",
    "                                 dataPath=\"../../data/\")"
   ]
  },
  {
   "cell_type": "code",
   "execution_count": 221,
   "metadata": {
    "collapsed": false
   },
   "outputs": [],
   "source": [
    "fhat = getDM.make_histogram_with_2kpc_resolution(coord_dict[7])"
   ]
  },
  {
   "cell_type": "code",
   "execution_count": 228,
   "metadata": {
    "collapsed": false
   },
   "outputs": [],
   "source": [
    "get_KDE.find_peaks_from_py_diff(fhat)\n",
    "get_KDE.get_density_weights(fhat)\n",
    "peaks_mask = fhat[\"peaks_dens\"] > 0.3"
   ]
  },
  {
   "cell_type": "code",
   "execution_count": 256,
   "metadata": {
    "collapsed": false
   },
   "outputs": [
    {
     "data": {
      "text/plain": [
       "['peaks_colIx',\n",
       " 'peaks_rowIx',\n",
       " 'peaks_ycoords',\n",
       " 'peaks_dens',\n",
       " 'estimate',\n",
       " 'eval_points',\n",
       " 'peaks_xcoords']"
      ]
     },
     "execution_count": 256,
     "metadata": {},
     "output_type": "execute_result"
    }
   ],
   "source": [
    "fhat.keys()"
   ]
  },
  {
   "cell_type": "markdown",
   "metadata": {},
   "source": [
    "have a background count threshold on the density"
   ]
  },
  {
   "cell_type": "code",
   "execution_count": 260,
   "metadata": {
    "collapsed": false
   },
   "outputs": [
    {
     "data": {
      "text/plain": [
       "array([ -2.59724805e+03,   1.21630859e+00,  -5.81982422e+03, ...,\n",
       "        -4.71962793e+03,  -4.71962793e+03,  -8.13023730e+03], dtype=float32)"
      ]
     },
     "execution_count": 260,
     "metadata": {},
     "output_type": "execute_result"
    }
   ],
   "source": [
    "fhat[\"peaks_xcoords\"]"
   ]
  },
  {
   "cell_type": "code",
   "execution_count": 275,
   "metadata": {
    "collapsed": false
   },
   "outputs": [
    {
     "data": {
      "text/plain": [
       "<matplotlib.legend.Legend at 0x157af9250>"
      ]
     },
     "execution_count": 275,
     "metadata": {},
     "output_type": "execute_result"
    },
    {
     "data": {
      "image/png": "[encoded data removed]",
      "text/plain": [
       "<matplotlib.figure.Figure at 0x169a91750>"
      ]
     },
     "metadata": {},
     "output_type": "display_data"
    }
   ],
   "source": [
    "plt.figure(figsize=(20, 20))\n",
    "plt.axes().set_aspect('equal')\n",
    "plt.title(\"Clst 7 (0th index)\", size=20)\n",
    "plt.xlabel(\"kpc\", size=30)\n",
    "plt.ylabel(\"kpc\", size=30)\n",
    "plt.tick_params(labelsize='large')\n",
    "\n",
    "plt.contourf(fhat[\"eval_points\"][0], fhat[\"eval_points\"][1],\n",
    "            fhat[\"estimate\"].transpose(), cmap=plt.cm.afmhot)\n",
    "\n",
    "ixes = np.arange(0, len(fhat[\"peaks_xcoords\"]), 1)[peaks_mask]\n",
    "plt.plot(fhat[\"peaks_xcoords\"][ixes], fhat[\"peaks_ycoords\"][ixes],\n",
    "         \"ro\", fillstyle=\"none\", mew=1.5, ms=20, \n",
    "         label=\"identified peaks\")\n",
    "\n",
    "plt.legend(loc='best', frameon=True, fancybox=True)\n",
    "#plt.colorbar()"
   ]
  },
  {
   "cell_type": "code",
   "execution_count": 164,
   "metadata": {
    "collapsed": false
   },
   "outputs": [
    {
     "data": {
      "text/plain": [
       "<matplotlib.text.Text at 0x118406750>"
      ]
     },
     "execution_count": 164,
     "metadata": {},
     "output_type": "execute_result"
    },
    {
     "data": {
      "image/png": "[encoded data removed]",
      "text/plain": [
       "<matplotlib.figure.Figure at 0x11833ed90>"
      ]
     },
     "metadata": {},
     "output_type": "display_data"
    }
   ],
   "source": [
    "\n",
    "fig = plt.figure(figsize=(8, 8))\n",
    "plt.axes().set_aspect('equal')\n",
    "counts, xedges, yedges, image = \\\n",
    "    plt.hist2d(coord_dict[clstNo][\"coords\"][:, 0],\n",
    "               coord_dict[clstNo][\"coords\"][:, 1], \n",
    "               bins=bins[:2], cmap=plt.cm.BrBG)\n",
    "plt.title(\"Clst 7 (0th index)\", size=20)\n",
    "plt.xlabel(\"kpc\", size=15)\n",
    "plt.ylabel(\"kpc\", size=15)\n"
   ]
  },
  {
   "cell_type": "code",
   "execution_count": 218,
   "metadata": {
    "collapsed": true
   },
   "outputs": [],
   "source": [
    "edges = [xedges, yedges]"
   ]
  },
  {
   "cell_type": "code",
   "execution_count": 219,
   "metadata": {
    "collapsed": false
   },
   "outputs": [
    {
     "data": {
      "text/plain": [
       "array([  0.00000000e+00,   2.00035763e+00,   4.00071526e+00, ...,\n",
       "         9.67372949e+03,   9.67572949e+03,   9.67773047e+03], dtype=float32)"
      ]
     },
     "execution_count": 219,
     "metadata": {},
     "output_type": "execute_result"
    }
   ],
   "source": [
    "xedges"
   ]
  },
  {
   "cell_type": "code",
   "execution_count": 220,
   "metadata": {
    "collapsed": false
   },
   "outputs": [
    {
     "data": {
      "text/plain": [
       "array([ 2.00035763,  2.00035763,  2.00035763, ...,  2.        ,\n",
       "        2.        ,  2.00097656], dtype=float32)"
      ]
     },
     "execution_count": 220,
     "metadata": {},
     "output_type": "execute_result"
    }
   ],
   "source": [
    "edges[0][1:] - edges[0][:-1]"
   ]
  },
  {
   "cell_type": "code",
   "execution_count": 172,
   "metadata": {
    "collapsed": false
   },
   "outputs": [
    {
     "data": {
      "text/plain": [
       "array([ 4838,  1590, 53249])"
      ]
     },
     "execution_count": 172,
     "metadata": {},
     "output_type": "execute_result"
    }
   ],
   "source": [
    "bins"
   ]
  },
  {
   "cell_type": "code",
   "execution_count": 174,
   "metadata": {
    "collapsed": false
   },
   "outputs": [
    {
     "data": {
      "text/plain": [
       "array([  0.00000000e+00,   2.00035763e+00,   4.00071526e+00, ...,\n",
       "         9.67372949e+03,   9.67572949e+03,   9.67773047e+03], dtype=float32)"
      ]
     },
     "execution_count": 174,
     "metadata": {},
     "output_type": "execute_result"
    }
   ],
   "source": []
  },
  {
   "cell_type": "code",
   "execution_count": 166,
   "metadata": {
    "collapsed": false
   },
   "outputs": [
    {
     "data": {
      "text/plain": [
       "(4838, 1590)"
      ]
     },
     "execution_count": 166,
     "metadata": {},
     "output_type": "execute_result"
    }
   ],
   "source": [
    "counts.shape"
   ]
  },
  {
   "cell_type": "code",
   "execution_count": 167,
   "metadata": {
    "collapsed": false
   },
   "outputs": [
    {
     "data": {
      "text/plain": [
       "[4838, 1590, 53249]"
      ]
     },
     "execution_count": 167,
     "metadata": {},
     "output_type": "execute_result"
    }
   ],
   "source": [
    "bins"
   ]
  },
  {
   "cell_type": "code",
   "execution_count": 16,
   "metadata": {
    "collapsed": false
   },
   "outputs": [],
   "source": [
    "def get_dens_and_grid(x, y, bw='normal_reference', \n",
    "                      gridsize=100, cut=4, \n",
    "                      clip=[-np.inf, np.inf], n_jobs=10):\n",
    "    from seaborn.distributions \\\n",
    "    import _kde_support \n",
    "    import statsmodels.nonparametric.kernel_density as KDE\n",
    "    KDEMultivariate = KDE.KDEMultivariate\n",
    "    \n",
    "    kde = KDEMultivariate(np.array([x, y]),\n",
    "                          var_type='cc', bw=bw)\n",
    "    kde.n_jobs = n_jobs\n",
    "    \n",
    "    x_support = _kde_support(x, kde.bw[0], gridsize, cut, clip)\n",
    "    y_support = _kde_support(y, kde.bw[1], gridsize, cut, clip)\n",
    "    xx, yy = np.meshgrid(x_support, y_support)\n",
    "      \n",
    "    z = kde.pdf([xx.ravel(), yy.ravel()]).reshape(xx.shape)\n",
    "    return xx, yy, z\n",
    "    "
   ]
  },
  {
   "cell_type": "code",
   "execution_count": null,
   "metadata": {
    "collapsed": true
   },
   "outputs": [],
   "source": [
    "\n",
    "axis1_range = \\\n",
    "    np.max(wrapped_coords[:, 0]) - np.min(wrapped_coords[:, 0])"
   ]
  },
  {
   "cell_type": "code",
   "execution_count": null,
   "metadata": {
    "collapsed": false
   },
   "outputs": [],
   "source": [
    "xbin_width"
   ]
  },
  {
   "cell_type": "code",
   "execution_count": null,
   "metadata": {
    "collapsed": false
   },
   "outputs": [],
   "source": [
    "plt.figure(figsize=(16, 16))\n",
    "plt.imshow(counts.transpose(), cmap=plt.cm.BrBG,\n",
    "           origin='lower')\n",
    "plt.title(partDM['PartType1_HaloID'][haloEndIx[no-1]],\n",
    "          fontsize=30)"
   ]
  },
  {
   "cell_type": "markdown",
   "metadata": {},
   "source": [
    "```\n",
    "get_dens_and_grid(wrapped_coords[:, 0], wrapped_coords[:, 1])\n",
    "```"
   ]
  },
  {
   "cell_type": "code",
   "execution_count": null,
   "metadata": {
    "collapsed": true
   },
   "outputs": [],
   "source": []
  }
 ],
 "metadata": {
  "kernelspec": {
   "display_name": "Python 2",
   "language": "python",
   "name": "python2"
  },
  "language_info": {
   "codemirror_mode": {
    "name": "ipython",
    "version": 2
   },
   "file_extension": ".py",
   "mimetype": "text/x-python",
   "name": "python",
   "nbconvert_exporter": "python",
   "pygments_lexer": "ipython2",
   "version": "2.7.6"
  }
 },
 "nbformat": 4,
 "nbformat_minor": 0
}
