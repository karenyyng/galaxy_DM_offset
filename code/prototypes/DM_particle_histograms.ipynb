{
 "cells": [
  {
   "cell_type": "code",
   "execution_count": 1,
   "metadata": {
    "collapsed": true
   },
   "outputs": [],
   "source": [
    "from __future__ import (division, print_function)"
   ]
  },
  {
   "cell_type": "code",
   "execution_count": 135,
   "metadata": {
    "collapsed": false
   },
   "outputs": [],
   "source": [
    "%autoreload 2\n",
    "%matplotlib inline"
   ]
  },
  {
   "cell_type": "code",
   "execution_count": 3,
   "metadata": {
    "collapsed": false
   },
   "outputs": [
    {
     "data": {
      "application/javascript": [
       "IPython.OutputArea.auto_scroll_threshold = 9999;"
      ],
      "text/plain": [
       "<IPython.core.display.Javascript object>"
      ]
     },
     "metadata": {},
     "output_type": "display_data"
    }
   ],
   "source": [
    "%%javascript\n",
    "IPython.OutputArea.auto_scroll_threshold = 9999;"
   ]
  },
  {
   "cell_type": "code",
   "execution_count": 416,
   "metadata": {
    "collapsed": true
   },
   "outputs": [],
   "source": [
    "import matplotlib.pyplot as plt\n",
    "from matplotlib import ticker\n",
    "import pandas as pd\n",
    "import h5py\n",
    "import cPickle\n",
    "from scipy.spatial import KDTree\n",
    "#import seaborn as sns\n",
    "#sns.set_style('white')"
   ]
  },
  {
   "cell_type": "code",
   "execution_count": 5,
   "metadata": {
    "collapsed": true
   },
   "outputs": [],
   "source": [
    "import statsmodels as sm"
   ]
  },
  {
   "cell_type": "code",
   "execution_count": 6,
   "metadata": {
    "collapsed": false
   },
   "outputs": [],
   "source": [
    "#from seaborn.distributions \\\n",
    "#    import _statsmodels_bivariate_kde as bivariate_KDE"
   ]
  },
  {
   "cell_type": "code",
   "execution_count": 448,
   "metadata": {
    "collapsed": false
   },
   "outputs": [],
   "source": [
    "import sys\n",
    "sys.path.append(\"../\")\n",
    "import extract_catalog as ec\n",
    "import plot_gal_prop as plotg\n",
    "import plot_DM_prop as plotDM\n",
    "import get_DM_centroids as getDM\n",
    "import get_KDE "
   ]
  },
  {
   "cell_type": "code",
   "execution_count": 8,
   "metadata": {
    "collapsed": false
   },
   "outputs": [],
   "source": [
    "partDMfile = \"../../data/Illustris-1_\" + \\\n",
    "    \"00135_APillepich_KarenNG_ParticleData_Group_PartType1.h5\"\n",
    "\n",
    "data_f = h5py.File(\"../../data/Illustris-1_fof_subhalo\" +\n",
    "                   \"_myCompleteHaloCatalog_00135.hdf5\")"
   ]
  },
  {
   "cell_type": "code",
   "execution_count": 9,
   "metadata": {
    "collapsed": false
   },
   "outputs": [],
   "source": [
    "partDM = h5py.File(partDMfile)"
   ]
  },
  {
   "cell_type": "code",
   "execution_count": 10,
   "metadata": {
    "collapsed": true
   },
   "outputs": [],
   "source": [
    "no = 7\n",
    "size=1e3"
   ]
  },
  {
   "cell_type": "code",
   "execution_count": 11,
   "metadata": {
    "collapsed": false
   },
   "outputs": [],
   "source": [
    "part_halos = h5py.File(\"../../data/DM_particles_clst_loc.h5\")\n",
    "haloEndIx = part_halos[\"loc\"][...]"
   ]
  },
  {
   "cell_type": "code",
   "execution_count": 12,
   "metadata": {
    "collapsed": false
   },
   "outputs": [
    {
     "data": {
      "text/plain": [
       "30285624"
      ]
     },
     "execution_count": 12,
     "metadata": {},
     "output_type": "execute_result"
    }
   ],
   "source": [
    "haloEndIx[5] - haloEndIx[4]"
   ]
  },
  {
   "cell_type": "markdown",
   "metadata": {},
   "source": [
    "# the first halo id is 1 ..... different than other index scheme"
   ]
  },
  {
   "cell_type": "markdown",
   "metadata": {},
   "source": [
    "to correct for consistency, we add the starting index of 0 "
   ]
  },
  {
   "cell_type": "code",
   "execution_count": 28,
   "metadata": {
    "collapsed": false
   },
   "outputs": [],
   "source": [
    "haloEndIx = [0] + list(haloEndIx)"
   ]
  },
  {
   "cell_type": "code",
   "execution_count": 102,
   "metadata": {
    "collapsed": false
   },
   "outputs": [
    {
     "data": {
      "text/plain": [
       "[u'PartType1_Coordinates', u'PartType1_HaloID', u'PartType1_Masses']"
      ]
     },
     "execution_count": 102,
     "metadata": {},
     "output_type": "execute_result"
    }
   ],
   "source": [
    "partDM.keys()"
   ]
  },
  {
   "cell_type": "code",
   "execution_count": 105,
   "metadata": {
    "collapsed": false
   },
   "outputs": [
    {
     "data": {
      "text/plain": [
       "array([ True,  True,  True, ...,  True,  True,  True], dtype=bool)"
      ]
     },
     "execution_count": 105,
     "metadata": {},
     "output_type": "execute_result"
    }
   ],
   "source": [
    "partDM[\"PartType1_HaloID\"][haloEndIx[clstNo]: haloEndIx[clstNo+1]] == 8"
   ]
  },
  {
   "cell_type": "code",
   "execution_count": 84,
   "metadata": {
    "collapsed": false
   },
   "outputs": [],
   "source": [
    "crds = \\\n",
    "    partDM[\"PartType1_Coordinates\"][:, haloEndIx[clstNo]: haloEndIx[clstNo+1]]"
   ]
  },
  {
   "cell_type": "code",
   "execution_count": 125,
   "metadata": {
    "collapsed": false
   },
   "outputs": [
    {
     "data": {
      "text/plain": [
       "0.704225352112676"
      ]
     },
     "execution_count": 125,
     "metadata": {},
     "output_type": "execute_result"
    }
   ],
   "source": [
    "75 / 106.5"
   ]
  },
  {
   "cell_type": "code",
   "execution_count": 132,
   "metadata": {
    "collapsed": false
   },
   "outputs": [
    {
     "data": {
      "text/plain": [
       "<matplotlib.text.Text at 0x1182eb210>"
      ]
     },
     "execution_count": 132,
     "metadata": {},
     "output_type": "execute_result"
    },
    {
     "data": {
      "image/png": "[encoded data removed]",
      "text/plain": [
       "<matplotlib.figure.Figure at 0x118397850>"
      ]
     },
     "metadata": {},
     "output_type": "display_data"
    }
   ],
   "source": [
    "_ = plt.hist(crds[1])\n",
    "plt.axvline(7.5e4 / 0.7, color='r')\n",
    "plt.text(8.2e4, 1.5e7, \"y_coord = \\n 7.5e4 / 0.7 kpc\", color='r')\n",
    "plt.axvline(7.5e4, color='g')\n",
    "plt.text(3.8e4, 1.5e7, \"y_coord = 7.5e4 kpc / h\", color='g')\n",
    "plt.title(\"clst No. 8 y-axis\")\n",
    "plt.xlabel(\"spatial unit\")\n",
    "plt.ylabel(\"count\")\n"
   ]
  },
  {
   "cell_type": "code",
   "execution_count": 142,
   "metadata": {
    "collapsed": false
   },
   "outputs": [],
   "source": [
    "clstNo = 7\n",
    "coord_dict = ec.get_DM_particles([clstNo], partDM, \n",
    "                                 dataPath=\"../../data/\")"
   ]
  },
  {
   "cell_type": "code",
   "execution_count": 221,
   "metadata": {
    "collapsed": false
   },
   "outputs": [],
   "source": [
    "fhat = getDM.make_histogram_with_2kpc_resolution(coord_dict[7])"
   ]
  },
  {
   "cell_type": "code",
   "execution_count": 228,
   "metadata": {
    "collapsed": false
   },
   "outputs": [],
   "source": [
    "get_KDE.find_peaks_from_py_diff(fhat)\n",
    "get_KDE.get_density_weights(fhat)\n",
    "peaks_mask = fhat[\"peaks_dens\"] > 0.3"
   ]
  },
  {
   "cell_type": "code",
   "execution_count": 256,
   "metadata": {
    "collapsed": false
   },
   "outputs": [
    {
     "data": {
      "text/plain": [
       "['peaks_colIx',\n",
       " 'peaks_rowIx',\n",
       " 'peaks_ycoords',\n",
       " 'peaks_dens',\n",
       " 'estimate',\n",
       " 'eval_points',\n",
       " 'peaks_xcoords']"
      ]
     },
     "execution_count": 256,
     "metadata": {},
     "output_type": "execute_result"
    }
   ],
   "source": [
    "fhat.keys()"
   ]
  },
  {
   "cell_type": "markdown",
   "metadata": {},
   "source": [
    "have a background count threshold on the density"
   ]
  },
  {
   "cell_type": "code",
   "execution_count": 260,
   "metadata": {
    "collapsed": false
   },
   "outputs": [
    {
     "data": {
      "text/plain": [
       "array([ -2.59724805e+03,   1.21630859e+00,  -5.81982422e+03, ...,\n",
       "        -4.71962793e+03,  -4.71962793e+03,  -8.13023730e+03], dtype=float32)"
      ]
     },
     "execution_count": 260,
     "metadata": {},
     "output_type": "execute_result"
    }
   ],
   "source": [
    "fhat[\"peaks_xcoords\"]"
   ]
  },
  {
   "cell_type": "code",
   "execution_count": 376,
   "metadata": {
    "collapsed": false
   },
   "outputs": [
    {
     "data": {
      "text/plain": [
       "\"Text(0,0,u'')\""
      ]
     },
     "execution_count": 376,
     "metadata": {},
     "output_type": "execute_result"
    }
   ],
   "source": [
    "str(xticks[1][0])"
   ]
  },
  {
   "cell_type": "code",
   "execution_count": 281,
   "metadata": {
    "collapsed": false
   },
   "outputs": [],
   "source": [
    "fhat_I_lum = cPickle.load(open(\"../../data/fhat_I_lum.pkl\", \"r\"))"
   ]
  },
  {
   "cell_type": "code",
   "execution_count": 287,
   "metadata": {
    "collapsed": false
   },
   "outputs": [],
   "source": [
    "fhat7_stars = fhat_I_lum[7]"
   ]
  },
  {
   "cell_type": "code",
   "execution_count": 288,
   "metadata": {
    "collapsed": false
   },
   "outputs": [
    {
     "data": {
      "image/png": "[encoded data removed]",
      "text/plain": [
       "<matplotlib.figure.Figure at 0x157f8ee90>"
      ]
     },
     "metadata": {},
     "output_type": "display_data"
    }
   ],
   "source": [
    "plotg.plot_KDE_peaks(fhat7_stars)"
   ]
  },
  {
   "cell_type": "code",
   "execution_count": 400,
   "metadata": {
    "collapsed": false
   },
   "outputs": [],
   "source": [
    "peaks_mask = fhat[\"peaks_dens\"] > 0.10\n",
    "np.sum(peaks_mask)\n",
    "DMpeakCoords = np.array([fhat[\"peaks_xcoords\"][peaks_mask], \n",
    "                         fhat[\"peaks_ycoords\"][peaks_mask]]).transpose()\n",
    "# DMpeakCoords *= 75 / 106.5"
   ]
  },
  {
   "cell_type": "code",
   "execution_count": 401,
   "metadata": {
    "collapsed": false
   },
   "outputs": [],
   "source": [
    "tree = KDTree(DMpeakCoords)"
   ]
  },
  {
   "cell_type": "code",
   "execution_count": 412,
   "metadata": {
    "collapsed": false
   },
   "outputs": [
    {
     "name": "stdout",
     "output_type": "stream",
     "text": [
      "units of kpc / h\n",
      "[[ -3.91144037e+01  -5.98372714e-01]\n",
      " [ -1.76604373e+03  -2.01415399e+01]\n",
      " [ -4.11466760e+03   7.75742959e+01]\n",
      " [ -2.66404697e+03  -7.23695557e+02]\n",
      " [ -4.66728499e+03  -5.86893387e+02]]\n",
      "changed to units of kpc\n",
      "[[ -5.55424532e+01  -8.49689254e-01]\n",
      " [ -2.50778209e+03  -2.86009866e+01]\n",
      " [ -5.84282800e+03   1.10155500e+02]\n",
      " [ -3.78294670e+03  -1.02764769e+03]\n",
      " [ -6.62754468e+03  -8.33388610e+02]]\n"
     ]
    }
   ],
   "source": [
    "galpeakCoords = np.array([fhat7_stars[\"peaks_xcoords\"], \n",
    "                          fhat7_stars[\"peaks_ycoords\"]]).transpose()\n",
    "print(\"units of kpc / h\")\n",
    "print(galpeakCoords)\n",
    "galpeakCoords *= 106.5 / 75\n",
    "print(\"changed to units of kpc\")\n",
    "print(galpeakCoords)"
   ]
  },
  {
   "cell_type": "code",
   "execution_count": 403,
   "metadata": {
    "collapsed": false
   },
   "outputs": [],
   "source": [
    "dist, match = tree.query(galpeakCoords, p=2, k=1)"
   ]
  },
  {
   "cell_type": "code",
   "execution_count": 404,
   "metadata": {
    "collapsed": false
   },
   "outputs": [
    {
     "data": {
      "text/plain": [
       "array([  9.13540626,   1.69717129,   2.60895408,  39.97285013,  57.8615806 ])"
      ]
     },
     "execution_count": 404,
     "metadata": {},
     "output_type": "execute_result"
    }
   ],
   "source": [
    "dist"
   ]
  },
  {
   "cell_type": "code",
   "execution_count": 405,
   "metadata": {
    "collapsed": false
   },
   "outputs": [
    {
     "data": {
      "text/plain": [
       "array([[ -5.55424532e+01,  -8.49689254e-01],\n",
       "       [ -2.50778209e+03,  -2.86009866e+01],\n",
       "       [ -5.84282800e+03,   1.10155500e+02],\n",
       "       [ -3.78294670e+03,  -1.02764769e+03],\n",
       "       [ -6.62754468e+03,  -8.33388610e+02]])"
      ]
     },
     "execution_count": 405,
     "metadata": {},
     "output_type": "execute_result"
    }
   ],
   "source": [
    "galpeakCoords"
   ]
  },
  {
   "cell_type": "code",
   "execution_count": 406,
   "metadata": {
    "collapsed": false
   },
   "outputs": [
    {
     "data": {
      "text/plain": [
       "array([[ -4.67919922e+01,  -3.47363281e+00],\n",
       "       [ -2.50923242e+03,  -2.94824219e+01],\n",
       "       [ -5.84382861e+03,   1.12564941e+02],\n",
       "       [ -3.74345312e+03,  -1.03381909e+03],\n",
       "       [ -6.56995850e+03,  -8.27750000e+02]], dtype=float32)"
      ]
     },
     "execution_count": 406,
     "metadata": {},
     "output_type": "execute_result"
    }
   ],
   "source": [
    "DMpeakCoords[match]"
   ]
  },
  {
   "cell_type": "code",
   "execution_count": 407,
   "metadata": {
    "collapsed": false
   },
   "outputs": [
    {
     "data": {
      "text/plain": [
       "array([543, 496, 423, 582,  23])"
      ]
     },
     "execution_count": 407,
     "metadata": {},
     "output_type": "execute_result"
    }
   ],
   "source": [
    "match"
   ]
  },
  {
   "cell_type": "code",
   "execution_count": 418,
   "metadata": {
    "collapsed": false
   },
   "outputs": [
    {
     "data": {
      "image/png": "[encoded data removed]",
      "text/plain": [
       "<matplotlib.figure.Figure at 0x2abc6db50>"
      ]
     },
     "metadata": {},
     "output_type": "display_data"
    }
   ],
   "source": [
    "_ = plt.hist(fhat[\"estimate\"])"
   ]
  },
  {
   "cell_type": "code",
   "execution_count": 441,
   "metadata": {
    "collapsed": true
   },
   "outputs": [],
   "source": [
    "fhat[\"log_est\"] = np.log(fhat[\"estimate\"])"
   ]
  },
  {
   "cell_type": "code",
   "execution_count": null,
   "metadata": {
    "collapsed": false
   },
   "outputs": [],
   "source": [
    "threshold = 0.3\n",
    "peaks_mask = fhat[\"peaks_dens\"] > threshold\n",
    "\n",
    "plt.figure(figsize=(25, 25))\n",
    "plotDM.plot_DM_fhat(fhat, fhat7_stars, 7)"
   ]
  },
  {
   "cell_type": "markdown",
   "metadata": {},
   "source": [
    "# Zoomed in map near DM density peak "
   ]
  },
  {
   "cell_type": "markdown",
   "metadata": {},
   "source": [
    "check how smooth the DM density peaks are ..."
   ]
  },
  {
   "cell_type": "code",
   "execution_count": 16,
   "metadata": {
    "collapsed": false
   },
   "outputs": [],
   "source": [
    "def get_dens_and_grid(x, y, bw='normal_reference', \n",
    "                      gridsize=100, cut=4, \n",
    "                      clip=[-np.inf, np.inf], n_jobs=10):\n",
    "    from seaborn.distributions \\\n",
    "    import _kde_support \n",
    "    import statsmodels.nonparametric.kernel_density as KDE\n",
    "    KDEMultivariate = KDE.KDEMultivariate\n",
    "    \n",
    "    kde = KDEMultivariate(np.array([x, y]),\n",
    "                          var_type='cc', bw=bw)\n",
    "    kde.n_jobs = n_jobs\n",
    "    \n",
    "    x_support = _kde_support(x, kde.bw[0], gridsize, cut, clip)\n",
    "    y_support = _kde_support(y, kde.bw[1], gridsize, cut, clip)\n",
    "    xx, yy = np.meshgrid(x_support, y_support)\n",
    "      \n",
    "    z = kde.pdf([xx.ravel(), yy.ravel()]).reshape(xx.shape)\n",
    "    return xx, yy, z\n",
    "    "
   ]
  }
 ],
 "metadata": {
  "kernelspec": {
   "display_name": "Python 2",
   "language": "python",
   "name": "python2"
  },
  "language_info": {
   "codemirror_mode": {
    "name": "ipython",
    "version": 2
   },
   "file_extension": ".py",
   "mimetype": "text/x-python",
   "name": "python",
   "nbconvert_exporter": "python",
   "pygments_lexer": "ipython2",
   "version": "2.7.6"
  }
 },
 "nbformat": 4,
 "nbformat_minor": 0
}
