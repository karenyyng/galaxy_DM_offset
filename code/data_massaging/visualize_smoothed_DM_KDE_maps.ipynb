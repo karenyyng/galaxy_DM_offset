{
 "cells": [
  {
   "cell_type": "code",
   "execution_count": 47,
   "metadata": {
    "collapsed": true
   },
   "outputs": [],
   "source": [
    "%autoreload 2\n",
    "%matplotlib inline "
   ]
  },
  {
   "cell_type": "markdown",
   "metadata": {
    "collapsed": false
   },
   "source": [
    "This is for mass outputting smoothed KDE DM maps.\n",
    "\n",
    "* get DM particles\n",
    "* do different projections\n"
   ]
  },
  {
   "cell_type": "code",
   "execution_count": 49,
   "metadata": {
    "collapsed": false
   },
   "outputs": [],
   "source": [
    "import matplotlib.pyplot as plt\n",
    "plt.rcParams['figure.figsize'] = (15, 10)"
   ]
  },
  {
   "cell_type": "code",
   "execution_count": 50,
   "metadata": {
    "collapsed": false
   },
   "outputs": [],
   "source": [
    "from sklearn.neighbors.kde import KernelDensity"
   ]
  },
  {
   "cell_type": "code",
   "execution_count": 51,
   "metadata": {
    "collapsed": true
   },
   "outputs": [],
   "source": [
    "import matplotlib.pyplot as plt"
   ]
  },
  {
   "cell_type": "code",
   "execution_count": 52,
   "metadata": {
    "collapsed": false
   },
   "outputs": [],
   "source": [
    "from __future__ import (division, print_function)\n",
    "\n",
    "import cPickle\n",
    "from scipy.stats import gaussian_kde as kde \n",
    "\n",
    "import h5py\n",
    "import sys\n",
    "sys.path.append(\"../\")\n",
    "import get_KDE as getKDE\n",
    "import extract_catalog as ec\n",
    "import get_DM_centroids as getDM"
   ]
  },
  {
   "cell_type": "code",
   "execution_count": 53,
   "metadata": {
    "collapsed": true
   },
   "outputs": [],
   "source": [
    "from scipy import ndimage"
   ]
  },
  {
   "cell_type": "code",
   "execution_count": 54,
   "metadata": {
    "collapsed": true
   },
   "outputs": [],
   "source": [
    "data_path = \"../../data/\""
   ]
  },
  {
   "cell_type": "markdown",
   "metadata": {},
   "source": [
    "## 1. extract data "
   ]
  },
  {
   "cell_type": "code",
   "execution_count": 55,
   "metadata": {
    "collapsed": true
   },
   "outputs": [],
   "source": [
    "\n",
    "\n",
    "# Import file\n",
    "data_path = \"../../data/\"\n",
    "DM_h5file = data_path + \\\n",
    "    \"Illustris-1_00135_APillepich_KarenNG_ParticleData_Group_PartType1.h5\"\n",
    "\n",
    "DM_f = h5py.File(DM_h5file)\n",
    "\n",
    "# Decide how many clusters to import\n",
    "clstNo = [30]\n",
    "\n",
    "coord_dict = ec.get_DM_particles(clstNo, DM_f, dataPath=\"../../data/\")\n"
   ]
  },
  {
   "cell_type": "code",
   "execution_count": 56,
   "metadata": {
    "collapsed": true
   },
   "outputs": [],
   "source": [
    "clstNo = [10]"
   ]
  },
  {
   "cell_type": "code",
   "execution_count": 57,
   "metadata": {
    "collapsed": false
   },
   "outputs": [],
   "source": [
    "bandwidth = 30 * 4.45 "
   ]
  },
  {
   "cell_type": "code",
   "execution_count": 58,
   "metadata": {
    "collapsed": false
   },
   "outputs": [],
   "source": [
    "coord_dict = ec.get_DM_particles(clstNo, DM_f, \n",
    "                                 dataPath=\"../../data/\")\n",
    "clst = coord_dict[clstNo[0]]"
   ]
  },
  {
   "cell_type": "code",
   "execution_count": 59,
   "metadata": {
    "collapsed": true
   },
   "outputs": [],
   "source": [
    "fhat_stars = cPickle.load(open(\"../../data/fhat_I_lum.pkl\", \"r\"))"
   ]
  },
  {
   "cell_type": "code",
   "execution_count": 60,
   "metadata": {
    "collapsed": false
   },
   "outputs": [],
   "source": [
    "fhat = \\\n",
    "    getDM.make_histogram_with_some_resolution(\n",
    "        coord_dict[clstNo[0]], resolution=bandwidth / 2.)"
   ]
  },
  {
   "cell_type": "markdown",
   "metadata": {},
   "source": [
    "## smooth the data by a lot ..."
   ]
  },
  {
   "cell_type": "code",
   "execution_count": 74,
   "metadata": {
    "collapsed": false
   },
   "outputs": [],
   "source": [
    "fhat[\"log_est\"] = np.log(fhat[\"estimate\"])\n",
    "# I have no freaking clue what sigma refers to.\n",
    "# It doesn't say in the documentation.\n",
    "# Perhaps it is how much the signal varies within a region.\n",
    "smoothed_z = \\\n",
    "    ndimage.gaussian_filter(fhat[\"estimate\"], sigma=1\n",
    "                           ).transpose()"
   ]
  },
  {
   "cell_type": "code",
   "execution_count": 62,
   "metadata": {
    "collapsed": false
   },
   "outputs": [
    {
     "data": {
      "text/plain": [
       "['peaks_colIx',\n",
       " 'max_peak_dens',\n",
       " 'log_est',\n",
       " 'peaks_rowIx',\n",
       " 'peaks_ycoords',\n",
       " 'peaks_dens',\n",
       " 'estimate',\n",
       " 'eval_points',\n",
       " 'peaks_xcoords']"
      ]
     },
     "execution_count": 62,
     "metadata": {},
     "output_type": "execute_result"
    }
   ],
   "source": [
    "fhat.keys()"
   ]
  },
  {
   "cell_type": "code",
   "execution_count": 63,
   "metadata": {
    "collapsed": true
   },
   "outputs": [],
   "source": [
    "fhat[\"smoothed_est\"] = smoothed_z.transpose()"
   ]
  },
  {
   "cell_type": "code",
   "execution_count": 64,
   "metadata": {
    "collapsed": true
   },
   "outputs": [],
   "source": [
    "getKDE.find_peaks_from_py_diff(fhat, estKey=\"smoothed_est\",)"
   ]
  },
  {
   "cell_type": "markdown",
   "metadata": {},
   "source": [
    "## what the histogram looks like"
   ]
  },
  {
   "cell_type": "code",
   "execution_count": 65,
   "metadata": {
    "collapsed": false
   },
   "outputs": [
    {
     "data": {
      "text/plain": [
       "<matplotlib.text.Text at 0x115939690>"
      ]
     },
     "execution_count": 65,
     "metadata": {},
     "output_type": "execute_result"
    },
    {
     "data": {
      "image/png": "[encoded data removed]",
      "text/plain": [
       "<matplotlib.figure.Figure at 0x1173db150>"
      ]
     },
     "metadata": {},
     "output_type": "display_data"
    }
   ],
   "source": [
    "fhat[\"log_est\"] = np.log10(fhat[\"estimate\"] + 1.)\n",
    "plt.figure(figsize=(15, 10))\n",
    "plt.subplot('111', axisbg='black', aspect='equal',)\n",
    "\n",
    "plt.xticks(rotation=45)\n",
    "plt.contourf(fhat[\"eval_points\"][0], fhat[\"eval_points\"][1],\n",
    "             fhat[\"log_est\"].transpose(), cmap=plt.cm.afmhot)\n",
    "plt.xlabel('kpc')\n",
    "plt.ylabel('kpc')\n"
   ]
  },
  {
   "cell_type": "markdown",
   "metadata": {},
   "source": [
    "## what the over smoothed plot looks like"
   ]
  },
  {
   "cell_type": "code",
   "execution_count": 66,
   "metadata": {
    "collapsed": false
   },
   "outputs": [],
   "source": [
    "fhat_star = fhat_stars[clstNo[0]]"
   ]
  },
  {
   "cell_type": "code",
   "execution_count": 67,
   "metadata": {
    "collapsed": false
   },
   "outputs": [],
   "source": [
    "unit_conversion = 1. / .704\n",
    "offset = np.sqrt((fhat[\"peaks_xcoords\"][0] - \n",
    "                  fhat_star[\"peaks_xcoords\"][0] * unit_conversion) ** 2. + \n",
    "                 (fhat[\"peaks_ycoords\"][0] - \n",
    "                  fhat_star[\"peaks_ycoords\"][0] * unit_conversion) ** 2.)"
   ]
  },
  {
   "cell_type": "code",
   "execution_count": 68,
   "metadata": {
    "collapsed": false
   },
   "outputs": [
    {
     "name": "stdout",
     "output_type": "stream",
     "text": [
      "81\n",
      "56\n"
     ]
    }
   ],
   "source": [
    "_ = map(lambda x: print(len(x)), fhat[\"eval_points\"])"
   ]
  },
  {
   "cell_type": "code",
   "execution_count": 69,
   "metadata": {
    "collapsed": false
   },
   "outputs": [
    {
     "data": {
      "text/plain": [
       "(56, 81)"
      ]
     },
     "execution_count": 69,
     "metadata": {},
     "output_type": "execute_result"
    }
   ],
   "source": [
    "smoothed_z.shape"
   ]
  },
  {
   "cell_type": "code",
   "execution_count": 76,
   "metadata": {
    "collapsed": false
   },
   "outputs": [
    {
     "data": {
      "text/plain": [
       "0.0"
      ]
     },
     "execution_count": 76,
     "metadata": {},
     "output_type": "execute_result"
    }
   ],
   "source": [
    "np.min(smoothed_z)"
   ]
  },
  {
   "cell_type": "code",
   "execution_count": 77,
   "metadata": {
    "collapsed": false
   },
   "outputs": [
    {
     "data": {
      "text/plain": [
       "<matplotlib.colorbar.Colorbar at 0x11e25a290>"
      ]
     },
     "execution_count": 77,
     "metadata": {},
     "output_type": "execute_result"
    },
    {
     "data": {
      "image/png": "[encoded data removed]",
      "text/plain": [
       "<matplotlib.figure.Figure at 0x117767490>"
      ]
     },
     "metadata": {},
     "output_type": "display_data"
    }
   ],
   "source": [
    "fontsize=20\n",
    "\n",
    "plt.subplot('111', axisbg='black', aspect='equal',)\n",
    "\n",
    "plt.contourf(fhat[\"eval_points\"][0], fhat[\"eval_points\"][1],\n",
    "             np.log(smoothed_z + 1), cmap=plt.cm.afmhot)\n",
    "\n",
    "plt.plot(fhat[\"peaks_xcoords\"], fhat[\"peaks_ycoords\"], 'bo',\n",
    "         fillstyle='none', ms=25, mew=2)\n",
    "plt.plot(fhat_star[\"peaks_xcoords\"] * unit_conversion, \n",
    "         fhat_star[\"peaks_ycoords\"] * unit_conversion, 'mo',\n",
    "         fillstyle='none', ms=25, mew=2)\n",
    "\n",
    "plt.title(\n",
    "    \"Clst {0}: offset(s) = {1:.0f} kpc\".format(clstNo[0], offset))\n",
    "plt.xlabel('kpc', size=fontsize)\n",
    "plt.ylabel('kpc', size=fontsize)\n",
    "plt.colorbar()"
   ]
  },
  {
   "cell_type": "code",
   "execution_count": 340,
   "metadata": {
    "collapsed": false
   },
   "outputs": [],
   "source": [
    "def stratify_2D_data(data, layer=5e2):\n",
    "    assert type(data) is np.ndarray, \\\n",
    "        \"`data` is of the Wrong type, needs `np.ndarray`\"\n",
    "    assert np.ndim(data) == 2, \\\n",
    "        \"`data` has the wrong dimension.\"\n",
    "    layer = int(layer)\n",
    "    \n",
    "    # round data to integers \n",
    "    data = np.array(map(lambda row: map(int, row), data)\n",
    "         ).reshape(*data.shape)\n",
    "    \n",
    "    return data // layer"
   ]
  },
  {
   "cell_type": "code",
   "execution_count": 341,
   "metadata": {
    "collapsed": false
   },
   "outputs": [],
   "source": [
    "fhat_peaks = peak_local_max(fhat[\"estimate\"])"
   ]
  },
  {
   "cell_type": "code",
   "execution_count": 342,
   "metadata": {
    "collapsed": false
   },
   "outputs": [],
   "source": [
    "fhat_star_peaks = peak_local_max(fhat_star[\"estimate\"])"
   ]
  },
  {
   "cell_type": "code",
   "execution_count": 343,
   "metadata": {
    "collapsed": true
   },
   "outputs": [],
   "source": [
    "star_peaks_x = \\\n",
    "    fhat_star[\"eval_points\"][0][fhat_star_peaks.transpose()[0]]\n",
    "star_peaks_y = \\\n",
    "    fhat_star[\"eval_points\"][1][fhat_star_peaks.transpose()[1]]\n",
    "    \n",
    "DM_peaks_x = \\\n",
    "    fhat[\"eval_points\"][0][fhat_peaks.transpose()[0]]\n",
    "DM_peaks_y = \\\n",
    "    fhat[\"eval_points\"][1][fhat_peaks.transpose()[1]]"
   ]
  },
  {
   "cell_type": "markdown",
   "metadata": {
    "collapsed": false
   },
   "source": [
    "```Python\n",
    "fontsize=20\n",
    "\n",
    "plt.subplot('111', axisbg='black', aspect='equal',)\n",
    "\n",
    "plt.contourf(fhat[\"eval_points\"][0], fhat[\"eval_points\"][1],\n",
    "             smoothed_z, cmap=plt.cm.afmhot)\n",
    "\n",
    "plt.plot(DM_peaks_x, DM_peaks_y, 'bo',\n",
    "         fillstyle='none', ms=25, mew=2)\n",
    "\n",
    "plt.plot(star_peaks_x * unit_conversion, \n",
    "         star_peaks_y * unit_conversion, 'mo',\n",
    "         fillstyle='none', ms=25, mew=2)\n",
    "\n",
    "plt.title(\n",
    "    \"Clst {0}: offset(s) = {1:.0f} kpc\".format(clstNo[0], offset))\n",
    "plt.xlabel('kpc', size=fontsize)\n",
    "plt.ylabel('kpc', size=fontsize)\n",
    "```"
   ]
  },
  {
   "cell_type": "markdown",
   "metadata": {},
   "source": [
    "## image segmentation"
   ]
  },
  {
   "cell_type": "code",
   "execution_count": 345,
   "metadata": {
    "collapsed": false
   },
   "outputs": [],
   "source": [
    "from skimage.morphology import watershed \n",
    "from scipy import ndimage as ndi\n",
    "from skimage.feature import peak_local_max"
   ]
  },
  {
   "cell_type": "code",
   "execution_count": 346,
   "metadata": {
    "collapsed": false
   },
   "outputs": [],
   "source": [
    "image = fhat[\"smoothed_est\"] > 0.40 * np.max(fhat[\"smoothed_est\"])"
   ]
  },
  {
   "cell_type": "code",
   "execution_count": 347,
   "metadata": {
    "collapsed": false
   },
   "outputs": [],
   "source": [
    "distance = ndi.distance_transform_edt(image)\n",
    "local_maxi = peak_local_max(distance, indices=False, \n",
    "                            footprint=np.ones((3, 3)),\n",
    "                            labels=image)\n",
    "labels = watershed(image, markers=image)"
   ]
  },
  {
   "cell_type": "code",
   "execution_count": 348,
   "metadata": {
    "collapsed": true
   },
   "outputs": [],
   "source": [
    "labels, num_of_objects = ndi.label(image)"
   ]
  },
  {
   "cell_type": "code",
   "execution_count": 349,
   "metadata": {
    "collapsed": false
   },
   "outputs": [
    {
     "data": {
      "text/plain": [
       "<matplotlib.image.AxesImage at 0x11bf206d0>"
      ]
     },
     "execution_count": 349,
     "metadata": {},
     "output_type": "execute_result"
    },
    {
     "data": {
      "image/png": "[encoded data removed]",
      "text/plain": [
       "<matplotlib.figure.Figure at 0x11c0f3250>"
      ]
     },
     "metadata": {},
     "output_type": "display_data"
    }
   ],
   "source": [
    "plt.imshow(labels.transpose(), origin='lower')"
   ]
  },
  {
   "cell_type": "markdown",
   "metadata": {
    "collapsed": false
   },
   "source": [
    "## 2. downsample to 1% of data points\n",
    "```Python\n",
    "size = len(coords)\n",
    "sample_ix = \\\n",
    "    np.random.choice(range(0, size), 1e-2 * size, \n",
    "                     replace=False)\n",
    "```"
   ]
  },
  {
   "cell_type": "markdown",
   "metadata": {},
   "source": [
    "## 3. do KDE on downsampled data points "
   ]
  },
  {
   "cell_type": "markdown",
   "metadata": {},
   "source": [
    "30 arcsecs * 4.45 kpc / arcsec "
   ]
  },
  {
   "cell_type": "markdown",
   "metadata": {},
   "source": [
    "code that Will does not like"
   ]
  },
  {
   "cell_type": "markdown",
   "metadata": {
    "collapsed": false
   },
   "source": [
    "```Python\n",
    "getKDE.find_peaks_from_py_diff(fhat, estKey=\"smoothed_est\",)\n",
    "\n",
    "\n",
    "max_coords = np.max(coords, axis=0)\n",
    "max_coords = np.array([int(c) for c in max_coords])\n",
    "\n",
    "min_coords = np.min(coords, axis=0)\n",
    "min_coords = np.array([int(c) for c in min_coords])\n",
    "slice_dim = [0, 1]\n",
    "grid_width = 2\n",
    "x_grid, y_grid = \\\n",
    "    np.meshgrid(np.arange(min_coords[slice_dim[0]], \n",
    "                          max_coords[slice_dim[0]], grid_width), \n",
    "                np.arange(min_coords[slice_dim[1]], \n",
    "                          max_coords[slice_dim[1]], grid_width))\n",
    "grid_coords = np.array([list(coord) \n",
    "                        for coord in \n",
    "                        zip(x_grid.ravel(), \n",
    "                            y_grid.ravel())])\n",
    "%time kde = KernelDensity(kernel=\"gaussian\", bandwidth=bandwidth).fit(coords[sample_ix, :2])\n",
    "%time density = kde.score_samples(coords[sample_ix, :2])  \n",
    "fhat_stars = cPickle.load(open(\"../../data/fhat_I_lum.pkl\", \"r\"))\n",
    "\n",
    "densest_ix = np.argsort(density)[::-1][0]\n",
    "DM_dens_peak = np.array([coords[densest_ix, 0], \n",
    "                         coords[densest_ix, 1]])\n",
    "gal_peak = np.array([fhat_stars[clstNo[0]][\"peaks_xcoords\"][0], \n",
    "                     fhat_stars[clstNo[0]][\"peaks_ycoords\"][0]])\n",
    "offsets = DM_dens_peak - gal_peak\n",
    "\n",
    "offset = np.sqrt(np.sum(np.dot(offsets, offsets)))\n",
    "fig = plt.figure(figsize=(15, 15))\n",
    "ax = fig.add_subplot(111, axisbg='black', aspect='equal')\n",
    "ax.scatter(coords[sample_ix, 0],\n",
    "            coords[sample_ix, 1],\n",
    "            c=density, edgecolor='', \n",
    "            cmap=plt.cm.afmhot, s=1)\n",
    "ax.plot(coords[densest_ix, 0], coords[densest_ix, 1], 'mo', \n",
    "        fillstyle='none',\n",
    "        mew=2, ms=10, label=\"smoothed KDE densest DM point\")\n",
    "ax.plot(fhat_stars[clstNo[0]][\"peaks_xcoords\"][0], \n",
    "        fhat_stars[clstNo[0]][\"peaks_ycoords\"][0], 'bo',\n",
    "        fillstyle='none',\n",
    "        mew=2, ms=10, label=\"galaxy KDE peak\")\n",
    "\n",
    "offset_x = -1300\n",
    "offset_y = -1500\n",
    "ax.plot([offset_x,  bandwidth + offset_x], \n",
    "        [offset_y, offset_y], \n",
    "        label='bandwidth', color='yellow')\n",
    "# _ = ax.set_xlim(-250, 3000)\n",
    "# _ = ax.set_ylim(-250, 2500)\n",
    "ax.text(bandwidth + offset_x + 50, \n",
    "        offset_y, \"kernel bandwidth\", color='white', size=30)\n",
    "ax.set_title(\"Cluster: {0}, offset = {1:.0f} kpc\".format(clstNo[0], offset))\n",
    "ax.set_xlabel(\"kpc\", size=30)\n",
    "ax.set_ylabel(\"kpc\", size=30)\n",
    "\n",
    "```"
   ]
  },
  {
   "cell_type": "markdown",
   "metadata": {
    "collapsed": false
   },
   "source": [
    "The following is way too slow\n",
    "```Python\n",
    "from scipy.stats import gaussian_kde as kde \n",
    "%time KDE = kde(coords[:2, sample_ix], bw_method=bw_method)\n",
    "%time density = KDE(coords[:2, sample_ix])\n",
    "```"
   ]
  }
 ],
 "metadata": {
  "kernelspec": {
   "display_name": "Python 2",
   "language": "python",
   "name": "python2"
  },
  "language_info": {
   "codemirror_mode": {
    "name": "ipython",
    "version": 2
   },
   "file_extension": ".py",
   "mimetype": "text/x-python",
   "name": "python",
   "nbconvert_exporter": "python",
   "pygments_lexer": "ipython2",
   "version": "2.7.10"
  }
 },
 "nbformat": 4,
 "nbformat_minor": 0
}
