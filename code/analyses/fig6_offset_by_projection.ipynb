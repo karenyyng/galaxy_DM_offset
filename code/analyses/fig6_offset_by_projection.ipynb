{
 "cells": [
  {
   "cell_type": "markdown",
   "metadata": {},
   "source": [
    "Purpose of this notebook: \n",
    "* reads and summarizes the outputs from projections and smoothing\n",
    "* creates LaTeX table for the paper \n",
    "* creates fig. 6 \n"
   ]
  },
  {
   "cell_type": "code",
   "execution_count": 56,
   "metadata": {
    "collapsed": false
   },
   "outputs": [
    {
     "data": {
      "application/javascript": [
       "IPython.OutputArea.auto_scroll_threshold = 9999;"
      ],
      "text/plain": [
       "<IPython.core.display.Javascript object>"
      ]
     },
     "metadata": {},
     "output_type": "display_data"
    }
   ],
   "source": [
    "%%javascript\n",
    "IPython.OutputArea.auto_scroll_threshold = 9999;"
   ]
  },
  {
   "cell_type": "code",
   "execution_count": 212,
   "metadata": {
    "collapsed": false
   },
   "outputs": [],
   "source": [
    "%autoreload 2\n",
    "%matplotlib inline \n",
    "import pandas as pd\n",
    "import matplotlib.pyplot as plt\n",
    "import matplotlib.gridspec as gridspec\n",
    "plt.rcParams['figure.figsize'] = (10, 8)\n",
    "import pprint"
   ]
  },
  {
   "cell_type": "code",
   "execution_count": 58,
   "metadata": {
    "collapsed": false
   },
   "outputs": [],
   "source": [
    "from __future__ import (print_function, division)\n",
    "import pandas as pd\n",
    "import h5py\n",
    "import sys\n",
    "from astropy.stats import biweight_location\n",
    "import scipy"
   ]
  },
  {
   "cell_type": "markdown",
   "metadata": {},
   "source": [
    "homebrew modules"
   ]
  },
  {
   "cell_type": "code",
   "execution_count": 59,
   "metadata": {
    "collapsed": false
   },
   "outputs": [],
   "source": [
    "sys.path.append(\"../\")\n",
    "import extract_catalog as ec\n",
    "import get_DM_centroids as getDM\n",
    "# import seaborn as sns\n",
    "import compute_distance as compDist\n",
    "import plot_cred_int as plotCI\n",
    "import get_KDE\n",
    "import compute_clst_prop as compClst"
   ]
  },
  {
   "cell_type": "code",
   "execution_count": 60,
   "metadata": {
    "collapsed": true
   },
   "outputs": [],
   "source": [
    "data_path = \"../../data/test_results/\""
   ]
  },
  {
   "cell_type": "markdown",
   "metadata": {},
   "source": [
    "# read in files "
   ]
  },
  {
   "cell_type": "code",
   "execution_count": 61,
   "metadata": {
    "collapsed": false
   },
   "outputs": [],
   "source": [
    "total_clstNo = 43\n",
    "date_stamp = '06_17_16'\n",
    "\n",
    "DM_fhats = \\\n",
    "    h5py.File(data_path +\n",
    "              \"DM_fhat_clst{0}_{1}.h5\".format(\n",
    "            total_clstNo, date_stamp), 'r')\n",
    "star_fhats = \\\n",
    "    h5py.File(data_path +\n",
    "              \"stars_fhat_clst{0}_{1}.h5\".format(\n",
    "            total_clstNo, date_stamp), 'r')"
   ]
  },
  {
   "cell_type": "code",
   "execution_count": 62,
   "metadata": {
    "collapsed": false
   },
   "outputs": [],
   "source": [
    "main_FOF_h5 = h5py.File(\n",
    "        \"../../data/\" +\n",
    "        \"Illustris-1_fof_subhalo_myCompleteHaloCatalog_00135\" +\n",
    "        \".hdf5\", \"r\")"
   ]
  },
  {
   "cell_type": "code",
   "execution_count": 63,
   "metadata": {
    "collapsed": true
   },
   "outputs": [],
   "source": [
    "rich_clst = sorted([int(no) for no in star_fhats.keys()])"
   ]
  },
  {
   "cell_type": "code",
   "execution_count": 64,
   "metadata": {
    "collapsed": true
   },
   "outputs": [],
   "source": [
    "mass_keys = [ \n",
    "    u'Group_M_Crit200',\n",
    "    u'Group_M_Crit500',\n",
    "    u'GroupMass'\n",
    "]"
   ]
  },
  {
   "cell_type": "code",
   "execution_count": 65,
   "metadata": {
    "collapsed": false
   },
   "outputs": [],
   "source": [
    "# do cbind of 3 dfs \n",
    "masses_df = pd.concat([pd.DataFrame(\n",
    "            main_FOF_h5['Group'][key][rich_clst],\n",
    "            columns=[key], index=rich_clst) for key in mass_keys],\n",
    "            axis=1)                        "
   ]
  },
  {
   "cell_type": "code",
   "execution_count": 66,
   "metadata": {
    "collapsed": false
   },
   "outputs": [
    {
     "name": "stdout",
     "output_type": "stream",
     "text": [
      "CPU times: user 719 ms, sys: 20.4 s, total: 21.2 s\n",
      "Wall time: 21.1 s\n"
     ]
    }
   ],
   "source": [
    "%time clst_dfs = map(lambda x: ec.extract_clst(main_FOF_h5, x), rich_clst)\n",
    "\n",
    "clstNo_mapping = {clstNo: i for i, clstNo in enumerate(rich_clst)}"
   ]
  },
  {
   "cell_type": "markdown",
   "metadata": {},
   "source": [
    "# projection dependent part"
   ]
  },
  {
   "cell_type": "code",
   "execution_count": null,
   "metadata": {
    "collapsed": true
   },
   "outputs": [],
   "source": [
    "uber_df = pd.read_hdf(\"../../data/uber_df_{}.h5\".format(date_stamp), \"df\")\n",
    "dom_peak_gpby = uber_df.groupby(['peak_id', 'bin_width'])\n",
    "dom_peak_df_25 = dom_peak_gpby.get_group((0, 25.0))\n",
    "dom_peak_df_25['clstNo'] = dom_peak_df_25.index"
   ]
  },
  {
   "cell_type": "markdown",
   "metadata": {},
   "source": [
    "# projection independent part "
   ]
  },
  {
   "cell_type": "code",
   "execution_count": 68,
   "metadata": {
    "collapsed": false
   },
   "outputs": [],
   "source": [
    "# fraction of subfind halo mass / amount of substructures \n",
    "relaxedness0= np.array(\n",
    "    [compClst.compute_relaxedness0(\n",
    "     clst_dfs[clstNo_mapping[clstNo]], main_FOF_h5, clstNo) \n",
    "     for clstNo in rich_clst])\n",
    "\n",
    "# eccentricity / asymmetry\n",
    "relaxedness1= np.array(\n",
    "    [compClst.compute_relaxedness1(\n",
    "     clst_dfs[clstNo_mapping[clstNo]], main_FOF_h5, clstNo) \n",
    "     for clstNo in rich_clst])\n",
    "\n",
    "clst_prop_df = compDist.construct_uber_result_df(\n",
    "    star_fhats, DM_fhats, main_FOF_h5\n",
    ")\n",
    "clst_prop_df.index = masses_df.index\n",
    "mega_clst_prop_df = pd.concat([clst_prop_df, masses_df], axis=1)\n",
    "\n",
    "mega_clst_prop_df['relaxedness0'] = relaxedness0\n",
    "mega_clst_prop_df['relaxedness1'] = relaxedness1\n",
    "\n",
    "del mega_clst_prop_df['M200C']"
   ]
  },
  {
   "cell_type": "markdown",
   "metadata": {},
   "source": [
    "# compute correlations between offsets and other properties"
   ]
  },
  {
   "cell_type": "code",
   "execution_count": 72,
   "metadata": {
    "collapsed": true
   },
   "outputs": [],
   "source": [
    "def str_formatter(var):\n",
    "    return '{0:.2f}'.format(var)"
   ]
  },
  {
   "cell_type": "markdown",
   "metadata": {},
   "source": [
    "gather a bunch of properties for computing the correlation "
   ]
  },
  {
   "cell_type": "markdown",
   "metadata": {},
   "source": [
    "* median(total peak density)\n",
    "* median(KDE)\n",
    "* max(total_peak_dens)\n",
    "* max(KDE)\n",
    "* richness \n",
    "* group_M_Crit200\n",
    "* group_M_Crit500\n",
    "* groupMass\n",
    "* relaxedness0\n",
    "* relaxedness1 "
   ]
  },
  {
   "cell_type": "code",
   "execution_count": 77,
   "metadata": {
    "collapsed": false
   },
   "outputs": [
    {
     "data": {
      "text/plain": [
       "(0.3788051464979465, 0.0)"
      ]
     },
     "execution_count": 77,
     "metadata": {},
     "output_type": "execute_result"
    }
   ],
   "source": [
    "scipy.stats.pearsonr(,)"
   ]
  },
  {
   "cell_type": "markdown",
   "metadata": {},
   "source": [
    "very high correlation between different relaxedness measurements "
   ]
  },
  {
   "cell_type": "code",
   "execution_count": 78,
   "metadata": {
    "collapsed": false
   },
   "outputs": [
    {
     "data": {
      "text/plain": [
       "(0.81622389436144904, 2.5530624557341724e-11)"
      ]
     },
     "execution_count": 78,
     "metadata": {},
     "output_type": "execute_result"
    }
   ],
   "source": [
    "scipy.stats.pearsonr(relaxedness0, relaxedness1)"
   ]
  },
  {
   "cell_type": "markdown",
   "metadata": {},
   "source": [
    "# plot the projection uncertainty by cluster"
   ]
  },
  {
   "cell_type": "code",
   "execution_count": 177,
   "metadata": {
    "collapsed": false
   },
   "outputs": [],
   "source": [
    "dom_peak_clst_gpby = dom_peak_df_25.groupby('clstNo')\n",
    "rich_clst_nos = np.unique(dom_peak_df_25.index)\n",
    "clst_dom_KDE_stat = [dom_peak_clst_gpby.get_group(clstNo)['Delta_y_KDE']\n",
    "                     for clstNo in clstNo_mapping]\n",
    "clst_total_peak_dens_stat = [\n",
    "    dom_peak_clst_gpby.get_group(clstNo)['total_peaks_dens']\n",
    "    for clstNo in rich_clst_nos]"
   ]
  },
  {
   "cell_type": "markdown",
   "metadata": {},
   "source": [
    "# compute correlation between peak measurements"
   ]
  },
  {
   "cell_type": "code",
   "execution_count": 149,
   "metadata": {
    "collapsed": false
   },
   "outputs": [
    {
     "data": {
      "image/png": "[encoded data removed]",
      "text/plain": [
       "<matplotlib.figure.Figure at 0x11273b290>"
      ]
     },
     "metadata": {},
     "output_type": "display_data"
    }
   ],
   "source": [
    "fig = plt.figure(figsize=(10, 15))\n",
    "ax = fig.add_subplot(111)\n",
    "KDE_proj_uncertainty_dict  = plt.boxplot(clst_dom_KDE_stat, vert=0)\n",
    "\n",
    "labels = [item.get_text() for item in ax.get_yticklabels()]\n",
    "for i, clstNo in enumerate(sorted(rich_clst)):\n",
    "    labels[i] = '{0}'.format(clstNo)\n",
    "\n",
    "ax.set_yticklabels(labels)\n",
    "ax.set_xlim(-200, 200)\n",
    "ax.set_ylabel('cluster ID')\n",
    "ax.set_xlabel(r'$ \\Delta s_{\\rm KDE}$ (kpc)')\n",
    "plt.savefig('../../paper/figures/finalized/projected_KDE_offset_distribution.pdf',\n",
    "            bbox_inches='tight')"
   ]
  },
  {
   "cell_type": "markdown",
   "metadata": {},
   "source": [
    "# summarize the projection statistics for each cluster and put them in the dataframe with individual cluster properties"
   ]
  },
  {
   "cell_type": "code",
   "execution_count": 187,
   "metadata": {
    "collapsed": false
   },
   "outputs": [],
   "source": [
    "proj_KDE_stat = pd.DataFrame({\n",
    "        rich_clst_nos[i]: clst_dom_KDE_stat[i].describe() \n",
    "        for i in range(len(rich_clst_nos))})\n",
    "mega_clst_prop_df['Delta_y_KDE_max'] = proj_KDE_stat.transpose()['max']\n",
    "mega_clst_prop_df['median_tot_peak_dens'] = \\\n",
    "    [np.median(peak_stat) for peak_stat in \n",
    "     clst_total_peak_dens_stat]"
   ]
  },
  {
   "cell_type": "markdown",
   "metadata": {},
   "source": [
    "# compute the correlation between different cluster properties"
   ]
  },
  {
   "cell_type": "code",
   "execution_count": 226,
   "metadata": {
    "collapsed": true
   },
   "outputs": [],
   "source": [
    "clst_props = list(mega_clst_prop_df.columns)\n",
    "clst_props.remove('clstNo')"
   ]
  },
  {
   "cell_type": "code",
   "execution_count": 224,
   "metadata": {
    "collapsed": true
   },
   "outputs": [],
   "source": [
    "import itertools"
   ]
  },
  {
   "cell_type": "code",
   "execution_count": 227,
   "metadata": {
    "collapsed": false
   },
   "outputs": [],
   "source": [
    "comb = itertools.combinations(clst_props, 2)"
   ]
  },
  {
   "cell_type": "code",
   "execution_count": 229,
   "metadata": {
    "collapsed": false
   },
   "outputs": [],
   "source": [
    "correlation_dict = {pair: scipy.stats.pearsonr(mega_clst_prop_df[pair[0]], \n",
    "                                         mega_clst_prop_df[pair[1]])\n",
    "                    for pair in itertools.combinations(clst_props, 2)}"
   ]
  },
  {
   "cell_type": "markdown",
   "metadata": {},
   "source": [
    "the first entry is correlation, the second is the p-value that the correlation arises by chance"
   ]
  },
  {
   "cell_type": "code",
   "execution_count": 230,
   "metadata": {
    "collapsed": false
   },
   "outputs": [
    {
     "name": "stdout",
     "output_type": "stream",
     "text": [
      "{('Delta_y_KDE_max', 'median_tot_peak_dens'): (0.76705795538081156,\n",
      "                                               1.9883061893306371e-09),\n",
      " (u'GroupMass', 'Delta_y_KDE_max'): (0.13906937249147525, 0.37378841916021255),\n",
      " (u'GroupMass', 'median_tot_peak_dens'): (0.28029997537498896,\n",
      "                                          0.068671219254671484),\n",
      " (u'GroupMass', 'relaxedness0'): (-0.037633843125862064, 0.81064464594051366),\n",
      " (u'GroupMass', 'relaxedness1'): (0.036462262759905488, 0.81643657791910795),\n",
      " (u'Group_M_Crit200', 'Delta_y_KDE_max'): (-0.13739113695701075,\n",
      "                                           0.37963838244671988),\n",
      " (u'Group_M_Crit200', u'GroupMass'): (0.92993892792417232,\n",
      "                                      2.0360906408366376e-19),\n",
      " (u'Group_M_Crit200', u'Group_M_Crit500'): (0.96521905348905224,\n",
      "                                            1.659433213841298e-25),\n",
      " (u'Group_M_Crit200', 'median_tot_peak_dens'): (0.0077292943696930265,\n",
      "                                                0.96076665480015666),\n",
      " (u'Group_M_Crit200', 'relaxedness0'): (-0.30221636457685902,\n",
      "                                        0.048873099005555164),\n",
      " (u'Group_M_Crit200', 'relaxedness1'): (-0.2619036704298659,\n",
      "                                        0.089778558383111995),\n",
      " (u'Group_M_Crit500', 'Delta_y_KDE_max'): (-0.18148776936327926,\n",
      "                                           0.24412842766238219),\n",
      " (u'Group_M_Crit500', u'GroupMass'): (0.90027796643766667,\n",
      "                                      2.1240327638171032e-16),\n",
      " (u'Group_M_Crit500', 'median_tot_peak_dens'): (-0.031566738274046664,\n",
      "                                                0.84073976577928577),\n",
      " (u'Group_M_Crit500', 'relaxedness0'): (-0.32868473580727697,\n",
      "                                        0.031396776167236483),\n",
      " (u'Group_M_Crit500', 'relaxedness1'): (-0.27943805033742125,\n",
      "                                        0.069563305384723315),\n",
      " ('relaxedness0', 'Delta_y_KDE_max'): (0.70091081319588289,\n",
      "                                       1.6603711522659713e-07),\n",
      " ('relaxedness0', 'median_tot_peak_dens'): (0.78575454431120584,\n",
      "                                            4.3410016197701132e-10),\n",
      " ('relaxedness0', 'relaxedness1'): (0.81622389436144904,\n",
      "                                    2.5530624557341724e-11),\n",
      " ('relaxedness1', 'Delta_y_KDE_max'): (0.80665656103711392,\n",
      "                                       6.5560918088738532e-11),\n",
      " ('relaxedness1', 'median_tot_peak_dens'): (0.85462985507367828,\n",
      "                                            3.0724347947583774e-13),\n",
      " ('richness', 'Delta_y_KDE_max'): (0.12108931708723034, 0.43923216500480411),\n",
      " ('richness', u'GroupMass'): (0.53547079769070083, 0.00021554310525411768),\n",
      " ('richness', u'Group_M_Crit200'): (0.46162589969739926,\n",
      "                                    0.0018336353869774565),\n",
      " ('richness', u'Group_M_Crit500'): (0.42739810988422405,\n",
      "                                    0.0042550794884273196),\n",
      " ('richness', 'median_tot_peak_dens'): (0.22084290337780274,\n",
      "                                        0.15469821693218508),\n",
      " ('richness', 'relaxedness0'): (0.16235500765449576, 0.29825510761918539),\n",
      " ('richness', 'relaxedness1'): (0.069681719297175579, 0.65703572329276749)}\n"
     ]
    }
   ],
   "source": [
    "pprint.pprint(correlation_dict)"
   ]
  },
  {
   "cell_type": "markdown",
   "metadata": {},
   "source": [
    "# plot the `total_peak_dens` per cluster per projection"
   ]
  },
  {
   "cell_type": "code",
   "execution_count": 49,
   "metadata": {
    "collapsed": false
   },
   "outputs": [
    {
     "data": {
      "text/plain": [
       "<matplotlib.text.Text at 0x11328e390>"
      ]
     },
     "execution_count": 49,
     "metadata": {},
     "output_type": "execute_result"
    },
    {
     "data": {
      "image/png": "[encoded data removed]",
      "text/plain": [
       "<matplotlib.figure.Figure at 0x10fa1d190>"
      ]
     },
     "metadata": {},
     "output_type": "display_data"
    }
   ],
   "source": [
    "fig = plt.figure(figsize=(10, 15))\n",
    "ax = fig.add_subplot(111)\n",
    "_ = plt.boxplot(clst_total_peak_dens_stat, vert=0)\n",
    "\n",
    "labels = [item.get_text() for item in ax.get_yticklabels()]\n",
    "for i in range(len(labels)):\n",
    "    labels[i] = rich_clst_nos[i]\n",
    "\n",
    "ax.set_yticklabels(labels)\n",
    "\n",
    "ax.set_ylabel('cluster number')\n",
    "ax.set_xlabel('total normalized peak density')"
   ]
  }
 ],
 "metadata": {
  "kernelspec": {
   "display_name": "Python 2",
   "language": "python",
   "name": "python2"
  },
  "language_info": {
   "codemirror_mode": {
    "name": "ipython",
    "version": 2
   },
   "file_extension": ".py",
   "mimetype": "text/x-python",
   "name": "python",
   "nbconvert_exporter": "python",
   "pygments_lexer": "ipython2",
   "version": "2.7.10"
  }
 },
 "nbformat": 4,
 "nbformat_minor": 0
}
