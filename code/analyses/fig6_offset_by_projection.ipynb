{
 "cells": [
  {
   "cell_type": "markdown",
   "metadata": {},
   "source": [
    "Purpose of this notebook: \n",
    "* reads and summarizes the outputs from projections and smoothing\n",
    "* creates LaTeX table for the paper \n",
    "* creates fig. 6 \n"
   ]
  },
  {
   "cell_type": "code",
   "execution_count": 56,
   "metadata": {
    "collapsed": false
   },
   "outputs": [
    {
     "data": {
      "application/javascript": [
       "IPython.OutputArea.auto_scroll_threshold = 9999;"
      ],
      "text/plain": [
       "<IPython.core.display.Javascript object>"
      ]
     },
     "metadata": {},
     "output_type": "display_data"
    }
   ],
   "source": [
    "%%javascript\n",
    "IPython.OutputArea.auto_scroll_threshold = 9999;"
   ]
  },
  {
   "cell_type": "code",
   "execution_count": 212,
   "metadata": {
    "collapsed": false
   },
   "outputs": [],
   "source": [
    "%autoreload 2\n",
    "%matplotlib inline \n",
    "import pandas as pd\n",
    "import matplotlib.pyplot as plt\n",
    "import matplotlib.gridspec as gridspec\n",
    "plt.rcParams['figure.figsize'] = (10, 8)\n",
    "import pprint"
   ]
  },
  {
   "cell_type": "code",
   "execution_count": 253,
   "metadata": {
    "collapsed": false
   },
   "outputs": [],
   "source": [
    "from __future__ import (print_function, division)\n",
    "import pandas as pd\n",
    "import h5py\n",
    "import sys\n",
    "from astropy.stats import (biweight_location, biweight_midvariance)\n",
    "import scipy"
   ]
  },
  {
   "cell_type": "markdown",
   "metadata": {},
   "source": [
    "homebrew modules"
   ]
  },
  {
   "cell_type": "code",
   "execution_count": 342,
   "metadata": {
    "collapsed": false
   },
   "outputs": [],
   "source": [
    "sys.path.append(\"../\")\n",
    "import extract_catalog as ec\n",
    "import get_DM_centroids as getDM\n",
    "# import seaborn as sns\n",
    "import compute_distance as compDist\n",
    "import plot_cred_int as plotCI\n",
    "import get_KDE\n",
    "import compute_clst_prop as compClst\n",
    "from collections import OrderedDict"
   ]
  },
  {
   "cell_type": "code",
   "execution_count": 60,
   "metadata": {
    "collapsed": true
   },
   "outputs": [],
   "source": [
    "data_path = \"../../data/test_results/\""
   ]
  },
  {
   "cell_type": "markdown",
   "metadata": {},
   "source": [
    "# read in files "
   ]
  },
  {
   "cell_type": "code",
   "execution_count": 61,
   "metadata": {
    "collapsed": false
   },
   "outputs": [],
   "source": [
    "total_clstNo = 43\n",
    "date_stamp = '06_17_16'\n",
    "\n",
    "DM_fhats = \\\n",
    "    h5py.File(data_path +\n",
    "              \"DM_fhat_clst{0}_{1}.h5\".format(\n",
    "            total_clstNo, date_stamp), 'r')\n",
    "star_fhats = \\\n",
    "    h5py.File(data_path +\n",
    "              \"stars_fhat_clst{0}_{1}.h5\".format(\n",
    "            total_clstNo, date_stamp), 'r')"
   ]
  },
  {
   "cell_type": "code",
   "execution_count": 62,
   "metadata": {
    "collapsed": false
   },
   "outputs": [],
   "source": [
    "main_FOF_h5 = h5py.File(\n",
    "        \"../../data/\" +\n",
    "        \"Illustris-1_fof_subhalo_myCompleteHaloCatalog_00135\" +\n",
    "        \".hdf5\", \"r\")"
   ]
  },
  {
   "cell_type": "code",
   "execution_count": 63,
   "metadata": {
    "collapsed": true
   },
   "outputs": [],
   "source": [
    "rich_clst = sorted([int(no) for no in star_fhats.keys()])"
   ]
  },
  {
   "cell_type": "code",
   "execution_count": 64,
   "metadata": {
    "collapsed": true
   },
   "outputs": [],
   "source": [
    "mass_keys = [ \n",
    "    u'Group_M_Crit200',\n",
    "    u'Group_M_Crit500',\n",
    "    u'GroupMass'\n",
    "]"
   ]
  },
  {
   "cell_type": "code",
   "execution_count": 65,
   "metadata": {
    "collapsed": false
   },
   "outputs": [],
   "source": [
    "# do cbind of 3 dfs \n",
    "masses_df = pd.concat([pd.DataFrame(\n",
    "            main_FOF_h5['Group'][key][rich_clst],\n",
    "            columns=[key], index=rich_clst) for key in mass_keys],\n",
    "            axis=1)                        "
   ]
  },
  {
   "cell_type": "code",
   "execution_count": 66,
   "metadata": {
    "collapsed": false
   },
   "outputs": [
    {
     "name": "stdout",
     "output_type": "stream",
     "text": [
      "CPU times: user 719 ms, sys: 20.4 s, total: 21.2 s\n",
      "Wall time: 21.1 s\n"
     ]
    }
   ],
   "source": [
    "%time clst_dfs = map(lambda x: ec.extract_clst(main_FOF_h5, x), rich_clst)\n",
    "\n",
    "clstNo_mapping = {clstNo: i for i, clstNo in enumerate(rich_clst)}"
   ]
  },
  {
   "cell_type": "markdown",
   "metadata": {},
   "source": [
    "# projection dependent part"
   ]
  },
  {
   "cell_type": "code",
   "execution_count": null,
   "metadata": {
    "collapsed": true
   },
   "outputs": [],
   "source": [
    "uber_df = pd.read_hdf(\"../../data/uber_df_{}.h5\".format(date_stamp), \"df\")\n",
    "dom_peak_gpby = uber_df.groupby(['peak_id', 'bin_width'])\n",
    "dom_peak_df_25 = dom_peak_gpby.get_group((0, 25.0))\n",
    "dom_peak_df_25['clstNo'] = dom_peak_df_25.index"
   ]
  },
  {
   "cell_type": "markdown",
   "metadata": {},
   "source": [
    "# projection independent part "
   ]
  },
  {
   "cell_type": "code",
   "execution_count": 369,
   "metadata": {
    "collapsed": false
   },
   "outputs": [],
   "source": [
    "# fraction of subfind halo mass / amount of substructures \n",
    "relaxedness0= np.array(\n",
    "    [compClst.compute_relaxedness0(\n",
    "     clst_dfs[clstNo_mapping[clstNo]], main_FOF_h5, clstNo) \n",
    "     for clstNo in rich_clst])\n",
    "\n",
    "# eccentricity / asymmetry\n",
    "relaxedness1= np.array(\n",
    "    [compClst.compute_relaxedness1(\n",
    "     clst_dfs[clstNo_mapping[clstNo]], main_FOF_h5, clstNo) \n",
    "     for clstNo in rich_clst])\n",
    "\n",
    "clst_prop_df = compDist.construct_uber_result_df(\n",
    "    star_fhats, DM_fhats, main_FOF_h5\n",
    ")\n",
    "\n"
   ]
  },
  {
   "cell_type": "code",
   "execution_count": 433,
   "metadata": {
    "collapsed": true
   },
   "outputs": [],
   "source": [
    "clst_prop_df.index = masses_df.index\n",
    "mega_clst_prop_df = pd.concat([clst_prop_df, masses_df], axis=1)\n",
    "\n",
    "mega_clst_prop_df['relaxedness0'] = relaxedness0\n",
    "mega_clst_prop_df['relaxedness1'] = relaxedness1\n",
    "\n",
    "del mega_clst_prop_df['M200C']"
   ]
  },
  {
   "cell_type": "markdown",
   "metadata": {},
   "source": [
    "# Gather the different physical properties"
   ]
  },
  {
   "cell_type": "code",
   "execution_count": 72,
   "metadata": {
    "collapsed": true
   },
   "outputs": [],
   "source": [
    "def str_formatter(var):\n",
    "    return '{0:.2f}'.format(var)"
   ]
  },
  {
   "cell_type": "markdown",
   "metadata": {},
   "source": [
    "gather a bunch of properties for computing the correlation "
   ]
  },
  {
   "cell_type": "markdown",
   "metadata": {},
   "source": [
    "* median(total peak density)\n",
    "* median(KDE)\n",
    "* max(total_peak_dens)\n",
    "* max(KDE)\n",
    "* richness \n",
    "* group_M_Crit200\n",
    "* group_M_Crit500\n",
    "* groupMass\n",
    "* relaxedness0\n",
    "* relaxedness1 "
   ]
  },
  {
   "cell_type": "markdown",
   "metadata": {},
   "source": [
    "# plot the projection uncertainty by cluster"
   ]
  },
  {
   "cell_type": "code",
   "execution_count": 177,
   "metadata": {
    "collapsed": false
   },
   "outputs": [],
   "source": [
    "dom_peak_clst_gpby = dom_peak_df_25.groupby('clstNo')\n",
    "rich_clst_nos = np.unique(dom_peak_df_25.index)\n",
    "clst_dom_KDE_stat = [dom_peak_clst_gpby.get_group(clstNo)['Delta_y_KDE']\n",
    "                     for clstNo in clstNo_mapping]\n",
    "clst_total_peak_dens_stat = [\n",
    "    dom_peak_clst_gpby.get_group(clstNo)['total_peaks_dens']\n",
    "    for clstNo in rich_clst_nos]"
   ]
  },
  {
   "cell_type": "code",
   "execution_count": 245,
   "metadata": {
    "collapsed": false
   },
   "outputs": [],
   "source": [
    "for tempdf in clst_dom_KDE_stat:\n",
    "    tempdf.index = range(tempdf.shape[0])\n",
    "df = pd.concat(clst_dom_KDE_stat, axis=1)\n",
    "df.columns = rich_clst_nos"
   ]
  },
  {
   "cell_type": "markdown",
   "metadata": {},
   "source": [
    "# See the actual distributions"
   ]
  },
  {
   "cell_type": "code",
   "execution_count": 149,
   "metadata": {
    "collapsed": false
   },
   "outputs": [
    {
     "data": {
      "image/png": "[encoded data removed]",
      "text/plain": [
       "<matplotlib.figure.Figure at 0x11273b290>"
      ]
     },
     "metadata": {},
     "output_type": "display_data"
    }
   ],
   "source": [
    "fig = plt.figure(figsize=(10, 15))\n",
    "ax = fig.add_subplot(111)\n",
    "KDE_proj_uncertainty_dict  = plt.boxplot(clst_dom_KDE_stat, vert=0)\n",
    "\n",
    "labels = [item.get_text() for item in ax.get_yticklabels()]\n",
    "for i, clstNo in enumerate(sorted(rich_clst)):\n",
    "    labels[i] = '{0}'.format(clstNo)\n",
    "\n",
    "ax.set_yticklabels(labels)\n",
    "ax.set_xlim(-200, 200)\n",
    "ax.set_ylabel('cluster ID')\n",
    "ax.set_xlabel(r'$ \\Delta s_{\\rm KDE}$ (kpc)')\n",
    "plt.savefig('../../paper/figures/finalized/projected_KDE_offset_distribution.pdf',\n",
    "            bbox_inches='tight')"
   ]
  },
  {
   "cell_type": "markdown",
   "metadata": {},
   "source": [
    "# See the cumulative distribution of the mid-variance of the offset per cluster"
   ]
  },
  {
   "cell_type": "markdown",
   "metadata": {},
   "source": [
    "compute the mid-variance of the distribution for each cluster \n",
    "to characterize the spread and other properties like the median total peak density"
   ]
  },
  {
   "cell_type": "code",
   "execution_count": 434,
   "metadata": {
    "collapsed": true
   },
   "outputs": [],
   "source": [
    "mega_clst_prop_df['KDE_midvar'] = df.apply(\n",
    "    lambda x: biweight_midvariance(x), axis=0)\n",
    "proj_KDE_stat = pd.DataFrame({\n",
    "        rich_clst_nos[i]: clst_dom_KDE_stat[i].describe() \n",
    "        for i in range(len(rich_clst_nos))})\n",
    "mega_clst_prop_df['Delta_y_KDE_max'] = proj_KDE_stat.transpose()['max']\n",
    "mega_clst_prop_df['median_tot_peak_dens'] = \\\n",
    "    [np.median(peak_stat) for peak_stat in \n",
    "     clst_total_peak_dens_stat]"
   ]
  },
  {
   "cell_type": "code",
   "execution_count": 398,
   "metadata": {
    "collapsed": false
   },
   "outputs": [
    {
     "data": {
      "text/plain": [
       "<matplotlib.text.Text object at 0x119ae5c50>"
      ]
     },
     "execution_count": 398,
     "metadata": {},
     "output_type": "execute_result"
    },
    {
     "data": {
      "image/png": "[encoded data removed]",
      "text/plain": [
       "<matplotlib.figure.Figure object at 0x119919110>"
      ]
     },
     "metadata": {},
     "output_type": "display_data"
    }
   ],
   "source": [
    "fig = plt.figure()\n",
    "ax = fig.add_subplot(111)\n",
    "mega_clst_prop_df['KDE_midvar'].hist(\n",
    "    cumulative=True, lw=2, bins=30, ax=ax,\n",
    "    histtype='step')\n",
    "ax.set_xlabel(r'$\\Delta y_{\\rm KDE}$ (kpc)')\n",
    "ax.set_ylabel(r'Cumulative number of clusters < $\\Delta y_{\\rm KDE}$')"
   ]
  },
  {
   "cell_type": "markdown",
   "metadata": {},
   "source": [
    "# compute correlation between peak measurements"
   ]
  },
  {
   "cell_type": "markdown",
   "metadata": {},
   "source": [
    "# summarize the projection statistics for each cluster and put them in the dataframe with individual cluster properties"
   ]
  },
  {
   "cell_type": "markdown",
   "metadata": {},
   "source": [
    "# compute the correlation between different cluster properties"
   ]
  },
  {
   "cell_type": "code",
   "execution_count": 396,
   "metadata": {
    "collapsed": true
   },
   "outputs": [],
   "source": [
    "clst_props = list(mega_clst_prop_df.columns)\n",
    "clst_props.remove('clstNo')"
   ]
  },
  {
   "cell_type": "code",
   "execution_count": 327,
   "metadata": {
    "collapsed": true
   },
   "outputs": [],
   "source": [
    "import itertools"
   ]
  },
  {
   "cell_type": "code",
   "execution_count": 328,
   "metadata": {
    "collapsed": false
   },
   "outputs": [],
   "source": [
    "comb = itertools.combinations(clst_props, 2)"
   ]
  },
  {
   "cell_type": "code",
   "execution_count": 329,
   "metadata": {
    "collapsed": false
   },
   "outputs": [],
   "source": [
    "correlation_dict = {pair: scipy.stats.pearsonr(\n",
    "                    mega_clst_prop_df[pair[0]], \n",
    "                    mega_clst_prop_df[pair[1]])\n",
    "                    for pair in itertools.combinations(clst_props, 2)}"
   ]
  },
  {
   "cell_type": "markdown",
   "metadata": {},
   "source": [
    "the first entry is correlation, the second is the p-value that the correlation arises by chance"
   ]
  },
  {
   "cell_type": "code",
   "execution_count": 330,
   "metadata": {
    "collapsed": false
   },
   "outputs": [
    {
     "data": {
      "text/html": [
       "<div style=\"max-height:1000px;max-width:1500px;overflow:auto;\">\n",
       "<table border=\"1\" class=\"dataframe\">\n",
       "  <thead>\n",
       "    <tr style=\"text-align: right;\">\n",
       "      <th></th>\n",
       "      <th></th>\n",
       "      <th>0</th>\n",
       "      <th>1</th>\n",
       "    </tr>\n",
       "  </thead>\n",
       "  <tbody>\n",
       "    <tr>\n",
       "      <th rowspan=\"2\" valign=\"top\">Delta_y_KDE_max</th>\n",
       "      <th>KDE_midvar</th>\n",
       "      <td>0.919110</td>\n",
       "      <td>3.491700e-18</td>\n",
       "    </tr>\n",
       "    <tr>\n",
       "      <th>median_tot_peak_dens</th>\n",
       "      <td>0.767058</td>\n",
       "      <td>1.988306e-09</td>\n",
       "    </tr>\n",
       "    <tr>\n",
       "      <th rowspan=\"5\" valign=\"top\">GroupMass</th>\n",
       "      <th>Delta_y_KDE_max</th>\n",
       "      <td>0.139069</td>\n",
       "      <td>3.737884e-01</td>\n",
       "    </tr>\n",
       "    <tr>\n",
       "      <th>KDE_midvar</th>\n",
       "      <td>0.071087</td>\n",
       "      <td>6.505578e-01</td>\n",
       "    </tr>\n",
       "    <tr>\n",
       "      <th>median_tot_peak_dens</th>\n",
       "      <td>0.280300</td>\n",
       "      <td>6.867122e-02</td>\n",
       "    </tr>\n",
       "    <tr>\n",
       "      <th>relaxedness0</th>\n",
       "      <td>-0.037634</td>\n",
       "      <td>8.106446e-01</td>\n",
       "    </tr>\n",
       "    <tr>\n",
       "      <th>relaxedness1</th>\n",
       "      <td>0.036462</td>\n",
       "      <td>8.164366e-01</td>\n",
       "    </tr>\n",
       "    <tr>\n",
       "      <th rowspan=\"7\" valign=\"top\">Group_M_Crit200</th>\n",
       "      <th>Delta_y_KDE_max</th>\n",
       "      <td>-0.137391</td>\n",
       "      <td>3.796384e-01</td>\n",
       "    </tr>\n",
       "    <tr>\n",
       "      <th>GroupMass</th>\n",
       "      <td>0.929939</td>\n",
       "      <td>2.036091e-19</td>\n",
       "    </tr>\n",
       "    <tr>\n",
       "      <th>Group_M_Crit500</th>\n",
       "      <td>0.965219</td>\n",
       "      <td>1.659433e-25</td>\n",
       "    </tr>\n",
       "    <tr>\n",
       "      <th>KDE_midvar</th>\n",
       "      <td>-0.174703</td>\n",
       "      <td>2.625043e-01</td>\n",
       "    </tr>\n",
       "    <tr>\n",
       "      <th>median_tot_peak_dens</th>\n",
       "      <td>0.007729</td>\n",
       "      <td>9.607667e-01</td>\n",
       "    </tr>\n",
       "    <tr>\n",
       "      <th>relaxedness0</th>\n",
       "      <td>-0.302216</td>\n",
       "      <td>4.887310e-02</td>\n",
       "    </tr>\n",
       "    <tr>\n",
       "      <th>relaxedness1</th>\n",
       "      <td>-0.261904</td>\n",
       "      <td>8.977856e-02</td>\n",
       "    </tr>\n",
       "    <tr>\n",
       "      <th rowspan=\"6\" valign=\"top\">Group_M_Crit500</th>\n",
       "      <th>Delta_y_KDE_max</th>\n",
       "      <td>-0.181488</td>\n",
       "      <td>2.441284e-01</td>\n",
       "    </tr>\n",
       "    <tr>\n",
       "      <th>GroupMass</th>\n",
       "      <td>0.900278</td>\n",
       "      <td>2.124033e-16</td>\n",
       "    </tr>\n",
       "    <tr>\n",
       "      <th>KDE_midvar</th>\n",
       "      <td>-0.225950</td>\n",
       "      <td>1.451403e-01</td>\n",
       "    </tr>\n",
       "    <tr>\n",
       "      <th>median_tot_peak_dens</th>\n",
       "      <td>-0.031567</td>\n",
       "      <td>8.407398e-01</td>\n",
       "    </tr>\n",
       "    <tr>\n",
       "      <th>relaxedness0</th>\n",
       "      <td>-0.328685</td>\n",
       "      <td>3.139678e-02</td>\n",
       "    </tr>\n",
       "    <tr>\n",
       "      <th>relaxedness1</th>\n",
       "      <td>-0.279438</td>\n",
       "      <td>6.956331e-02</td>\n",
       "    </tr>\n",
       "    <tr>\n",
       "      <th>KDE_midvar</th>\n",
       "      <th>median_tot_peak_dens</th>\n",
       "      <td>0.692713</td>\n",
       "      <td>2.646104e-07</td>\n",
       "    </tr>\n",
       "    <tr>\n",
       "      <th rowspan=\"4\" valign=\"top\">relaxedness0</th>\n",
       "      <th>Delta_y_KDE_max</th>\n",
       "      <td>0.700911</td>\n",
       "      <td>1.660371e-07</td>\n",
       "    </tr>\n",
       "    <tr>\n",
       "      <th>KDE_midvar</th>\n",
       "      <td>0.750786</td>\n",
       "      <td>6.697016e-09</td>\n",
       "    </tr>\n",
       "    <tr>\n",
       "      <th>median_tot_peak_dens</th>\n",
       "      <td>0.785755</td>\n",
       "      <td>4.341002e-10</td>\n",
       "    </tr>\n",
       "    <tr>\n",
       "      <th>relaxedness1</th>\n",
       "      <td>0.816224</td>\n",
       "      <td>2.553062e-11</td>\n",
       "    </tr>\n",
       "    <tr>\n",
       "      <th rowspan=\"3\" valign=\"top\">relaxedness1</th>\n",
       "      <th>Delta_y_KDE_max</th>\n",
       "      <td>0.806657</td>\n",
       "      <td>6.556092e-11</td>\n",
       "    </tr>\n",
       "    <tr>\n",
       "      <th>KDE_midvar</th>\n",
       "      <td>0.705086</td>\n",
       "      <td>1.301700e-07</td>\n",
       "    </tr>\n",
       "    <tr>\n",
       "      <th>median_tot_peak_dens</th>\n",
       "      <td>0.854630</td>\n",
       "      <td>3.072435e-13</td>\n",
       "    </tr>\n",
       "    <tr>\n",
       "      <th rowspan=\"8\" valign=\"top\">richness</th>\n",
       "      <th>Delta_y_KDE_max</th>\n",
       "      <td>0.121089</td>\n",
       "      <td>4.392322e-01</td>\n",
       "    </tr>\n",
       "    <tr>\n",
       "      <th>GroupMass</th>\n",
       "      <td>0.535471</td>\n",
       "      <td>2.155431e-04</td>\n",
       "    </tr>\n",
       "    <tr>\n",
       "      <th>Group_M_Crit200</th>\n",
       "      <td>0.461626</td>\n",
       "      <td>1.833635e-03</td>\n",
       "    </tr>\n",
       "    <tr>\n",
       "      <th>Group_M_Crit500</th>\n",
       "      <td>0.427398</td>\n",
       "      <td>4.255079e-03</td>\n",
       "    </tr>\n",
       "    <tr>\n",
       "      <th>KDE_midvar</th>\n",
       "      <td>0.146696</td>\n",
       "      <td>3.478876e-01</td>\n",
       "    </tr>\n",
       "    <tr>\n",
       "      <th>median_tot_peak_dens</th>\n",
       "      <td>0.220843</td>\n",
       "      <td>1.546982e-01</td>\n",
       "    </tr>\n",
       "    <tr>\n",
       "      <th>relaxedness0</th>\n",
       "      <td>0.162355</td>\n",
       "      <td>2.982551e-01</td>\n",
       "    </tr>\n",
       "    <tr>\n",
       "      <th>relaxedness1</th>\n",
       "      <td>0.069682</td>\n",
       "      <td>6.570357e-01</td>\n",
       "    </tr>\n",
       "  </tbody>\n",
       "</table>\n",
       "</div>"
      ],
      "text/plain": [
       "                                             0             1\n",
       "Delta_y_KDE_max KDE_midvar            0.919110  3.491700e-18\n",
       "                median_tot_peak_dens  0.767058  1.988306e-09\n",
       "GroupMass       Delta_y_KDE_max       0.139069  3.737884e-01\n",
       "                KDE_midvar            0.071087  6.505578e-01\n",
       "                median_tot_peak_dens  0.280300  6.867122e-02\n",
       "                relaxedness0         -0.037634  8.106446e-01\n",
       "                relaxedness1          0.036462  8.164366e-01\n",
       "Group_M_Crit200 Delta_y_KDE_max      -0.137391  3.796384e-01\n",
       "                GroupMass             0.929939  2.036091e-19\n",
       "                Group_M_Crit500       0.965219  1.659433e-25\n",
       "                KDE_midvar           -0.174703  2.625043e-01\n",
       "                median_tot_peak_dens  0.007729  9.607667e-01\n",
       "                relaxedness0         -0.302216  4.887310e-02\n",
       "                relaxedness1         -0.261904  8.977856e-02\n",
       "Group_M_Crit500 Delta_y_KDE_max      -0.181488  2.441284e-01\n",
       "                GroupMass             0.900278  2.124033e-16\n",
       "                KDE_midvar           -0.225950  1.451403e-01\n",
       "                median_tot_peak_dens -0.031567  8.407398e-01\n",
       "                relaxedness0         -0.328685  3.139678e-02\n",
       "                relaxedness1         -0.279438  6.956331e-02\n",
       "KDE_midvar      median_tot_peak_dens  0.692713  2.646104e-07\n",
       "relaxedness0    Delta_y_KDE_max       0.700911  1.660371e-07\n",
       "                KDE_midvar            0.750786  6.697016e-09\n",
       "                median_tot_peak_dens  0.785755  4.341002e-10\n",
       "                relaxedness1          0.816224  2.553062e-11\n",
       "relaxedness1    Delta_y_KDE_max       0.806657  6.556092e-11\n",
       "                KDE_midvar            0.705086  1.301700e-07\n",
       "                median_tot_peak_dens  0.854630  3.072435e-13\n",
       "richness        Delta_y_KDE_max       0.121089  4.392322e-01\n",
       "                GroupMass             0.535471  2.155431e-04\n",
       "                Group_M_Crit200       0.461626  1.833635e-03\n",
       "                Group_M_Crit500       0.427398  4.255079e-03\n",
       "                KDE_midvar            0.146696  3.478876e-01\n",
       "                median_tot_peak_dens  0.220843  1.546982e-01\n",
       "                relaxedness0          0.162355  2.982551e-01\n",
       "                relaxedness1          0.069682  6.570357e-01"
      ]
     },
     "execution_count": 330,
     "metadata": {},
     "output_type": "execute_result"
    }
   ],
   "source": [
    "pd.DataFrame(correlation_dict).transpose()"
   ]
  },
  {
   "cell_type": "markdown",
   "metadata": {},
   "source": [
    "# plot the `total_peak_dens` per cluster per projection"
   ]
  },
  {
   "cell_type": "code",
   "execution_count": 49,
   "metadata": {
    "collapsed": false
   },
   "outputs": [
    {
     "data": {
      "text/plain": [
       "<matplotlib.text.Text at 0x11328e390>"
      ]
     },
     "execution_count": 49,
     "metadata": {},
     "output_type": "execute_result"
    },
    {
     "data": {
      "image/png": "[encoded data removed]",
      "text/plain": [
       "<matplotlib.figure.Figure at 0x10fa1d190>"
      ]
     },
     "metadata": {},
     "output_type": "display_data"
    }
   ],
   "source": [
    "fig = plt.figure(figsize=(10, 15))\n",
    "ax = fig.add_subplot(111)\n",
    "_ = plt.boxplot(clst_total_peak_dens_stat, vert=0)\n",
    "\n",
    "labels = [item.get_text() for item in ax.get_yticklabels()]\n",
    "for i in range(len(labels)):\n",
    "    labels[i] = rich_clst_nos[i]\n",
    "\n",
    "ax.set_yticklabels(labels)\n",
    "\n",
    "ax.set_ylabel('cluster number')\n",
    "ax.set_xlabel('total normalized peak density')"
   ]
  },
  {
   "cell_type": "code",
   "execution_count": 435,
   "metadata": {
    "collapsed": false
   },
   "outputs": [],
   "source": [
    "mega_clst_prop_key_conversion = OrderedDict([\n",
    "    (u'clstNo', \"ID\"), \n",
    "    (u'richness', \"richness\"),\n",
    "    (u'Group_M_Crit200', r\"M$_{\\rm 200C} (10^{14} M_\\odot)$\"),\n",
    "    (u'Group_M_Crit500', r\"M$_{\\rm 500C} (10^{14} M_\\odot)$\"),\n",
    "    (u'GroupMass', r\"M$_{\\rm FoF} (10^{14} M_\\odot)$ \"),\n",
    "    (u'relaxedness0', r\"relaxedness$_0$\"),\n",
    "    (u'relaxedness1', r\"relaxedness$_1$\"),\n",
    "    (u'Delta_y_KDE_max', r\"max($\\Delta y_{\\rm KDE})$ (kpc)\"),\n",
    "    (u'KDE_midvar',  r\"midvar($\\Delta y_{\\rm KDE})$ (kpc)\"),\n",
    "    (u'median_tot_peak_dens', r\"med($\\nu$)\")\n",
    "    ]\n",
    ")"
   ]
  },
  {
   "cell_type": "code",
   "execution_count": 355,
   "metadata": {
    "collapsed": true
   },
   "outputs": [],
   "source": [
    "def str_format_2_dp(num):\n",
    "    return \"{0:0.2f}\".format(num)\n",
    "\n",
    "def str_format_int(num):\n",
    "    return \"{0:0.0f}\".format(num)\n",
    "\n",
    "def str_format_mass_in_10_to_14_solar_mass(num):\n",
    "    return \"{0:0.2f}\".format(num / 1e4.)"
   ]
  },
  {
   "cell_type": "code",
   "execution_count": 436,
   "metadata": {
    "collapsed": false
   },
   "outputs": [],
   "source": [
    "mega_clst_prop_df.columns = \\\n",
    "    [mega_clst_prop_key_conversion[k] \n",
    "     for k in mega_clst_prop_df.columns]"
   ]
  },
  {
   "cell_type": "markdown",
   "metadata": {},
   "source": [
    "want to make sure the order of the string formatter is correct"
   ]
  },
  {
   "cell_type": "code",
   "execution_count": 437,
   "metadata": {
    "collapsed": false
   },
   "outputs": [],
   "source": [
    "str_formatters_dict = OrderedDict([\n",
    "    (\"ID\",  str_format_int), \n",
    "    (u'richness',  str_format_int),\n",
    "    (r\"M$_{\\rm 200C} (10^{14} M_\\odot)$\", str_format_mass_in_10_to_14_solar_mass,),\n",
    "    (r\"M$_{\\rm 500C} (10^{14} M_\\odot)$\", str_format_mass_in_10_to_14_solar_mass,),\n",
    "    (r\"M$_{\\rm FoF} (10^{14} M_\\odot)$ \", str_format_mass_in_10_to_14_solar_mass,),\n",
    "    (r\"relaxedness$_0$\", str_format_int,),\n",
    "    (r\"relaxedness$_1$\", str_format_int,),\n",
    "    (r\"max($\\Delta y_{\\rm KDE})$ (kpc)\", str_format_int,),\n",
    "    (r\"midvar($\\Delta y_{\\rm KDE})$ (kpc)\", str_format_int,),\n",
    "    (r\"med($\\nu$)\", str_format_2_dp)]\n",
    ")"
   ]
  },
  {
   "cell_type": "code",
   "execution_count": 438,
   "metadata": {
    "collapsed": false
   },
   "outputs": [],
   "source": [
    "str_formatters = [str_formatters_dict[k] \n",
    "                 for k in mega_clst_prop_df.columns]"
   ]
  },
  {
   "cell_type": "code",
   "execution_count": 439,
   "metadata": {
    "collapsed": false
   },
   "outputs": [],
   "source": [
    "with open(\"../../paper/clst_prop_table.tex\", \"w'\") as f:\n",
    "    f.write(mega_clst_prop_df.to_latex(\n",
    "            formatters=str_formatters, escape=False, index=False))"
   ]
  },
  {
   "cell_type": "code",
   "execution_count": 440,
   "metadata": {
    "collapsed": false
   },
   "outputs": [
    {
     "name": "stdout",
     "output_type": "stream",
     "text": [
      "\\begin{tabular}{rrrrrrrrrr}\r\n",
      "\\toprule\r\n",
      "ID & richness & M$_{\\rm 200C} (10^{14} M_\\odot)$ & M$_{\\rm 500C} (10^{14} M_\\odot)$ & M$_{\\rm FoF} (10^{14} M_\\odot)$  & relaxedness$_0$ & relaxedness$_1$ & midvar($\\Delta y_{\\rm KDE})$ (kpc) & max($\\Delta y_{\\rm KDE})$ (kpc) & med($\\nu$) \\\\\r\n",
      "\\midrule\r\n",
      " 0 &      483 &                            16.35 &                            10.85 &                            32.29 &              29 &              33 &                                 31 &                              65 &       1.43 \\\\\r\n",
      " 1 &      338 &                            15.69 &                             6.16 &                            26.78 &              20 &              16 &                                 25 &                              71 &       1.59 \\\\\r\n",
      " 2 &      158 &                            15.33 &                             8.71 &                            21.20 &              17 &               3 &                                 18 &                              42 &       1.30 \\\\\r\n",
      " 3 &      134 &                             8.24 &                             5.63 &                            20.30 &              37 &              59 &                                 44 &                             148 &       2.01 \\\\\r\n",
      " 4 &      164 &                            11.93 &                             6.58 &                            15.42 &              21 &               4 &                                 24 &                              84 &       1.58 \\\\\r\n",
      " 5 &      115 &                             9.00 &                             5.65 &                            14.45 &              20 &              27 &                                 16 &                              43 &       1.19 \\\\\r\n",
      " 6 &       90 &                             9.58 &                             5.98 &                            14.01 &              18 &               7 &                                 15 &                              28 &       1.16 \\\\\r\n",
      " 7 &       92 &                             3.09 &                             1.74 &                            14.14 &              54 &             280 &                                101 &                             379 &       2.83 \\\\\r\n",
      " 8 &      113 &                             8.25 &                             5.41 &                            13.36 &              24 &              26 &                                 20 &                              52 &       1.32 \\\\\r\n",
      " 9 &       97 &                             7.85 &                             4.98 &                            12.91 &              23 &              12 &                                 33 &                             111 &       1.45 \\\\\r\n",
      "10 &       83 &                             7.29 &                             5.33 &                            11.51 &              19 &               8 &                                 19 &                              49 &       1.35 \\\\\r\n",
      "11 &       86 &                             5.71 &                             3.32 &                             9.48 &              20 &               9 &                                 36 &                              78 &       1.12 \\\\\r\n",
      "12 &      267 &                             2.02 &                             0.87 &                             8.72 &              64 &             142 &                                 77 &                             218 &       1.99 \\\\\r\n",
      "13 &       84 &                             2.19 &                             1.43 &                             7.94 &              63 &             143 &                                 38 &                             118 &       2.26 \\\\\r\n",
      "14 &       89 &                             4.47 &                             2.88 &                             6.69 &              15 &               8 &                                 17 &                              33 &       1.08 \\\\\r\n",
      "15 &       70 &                             5.12 &                             3.50 &                             6.77 &              11 &               3 &                                 11 &                              25 &       1.00 \\\\\r\n",
      "16 &       68 &                             3.99 &                             2.30 &                             6.08 &              19 &               4 &                                 13 &                              31 &       1.06 \\\\\r\n",
      "17 &       66 &                             4.17 &                             1.84 &                             6.02 &              21 &               8 &                                 27 &                              53 &       1.09 \\\\\r\n",
      "18 &       79 &                             4.48 &                             3.15 &                             5.87 &              15 &               8 &                                 14 &                              32 &       1.20 \\\\\r\n",
      "19 &       61 &                             2.60 &                             1.85 &                             5.68 &              30 &              68 &                                 18 &                              77 &       1.52 \\\\\r\n",
      "20 &       69 &                             1.51 &                             1.08 &                             5.04 &              60 &             122 &                                 54 &                             117 &       1.65 \\\\\r\n",
      "21 &       62 &                             2.57 &                             1.23 &                             5.29 &              23 &               8 &                                 47 &                             146 &       1.24 \\\\\r\n",
      "22 &      343 &                             4.17 &                             3.05 &                             4.88 &              14 &               7 &                                 10 &                              23 &       1.06 \\\\\r\n",
      "23 &       59 &                             2.49 &                             1.72 &                             4.65 &              30 &              25 &                                 26 &                              98 &       1.03 \\\\\r\n",
      "24 &       57 &                             3.28 &                             2.62 &                             4.43 &              14 &              14 &                                 11 &                              42 &       1.17 \\\\\r\n",
      "25 &       56 &                             2.29 &                             1.50 &                             4.33 &              23 &              25 &                                 11 &                              22 &       1.25 \\\\\r\n",
      "26 &       69 &                             2.59 &                             1.81 &                             4.54 &              28 &              40 &                                 11 &                              44 &       1.30 \\\\\r\n",
      "28 &       63 &                             2.96 &                             1.64 &                             4.06 &              22 &              12 &                                 26 &                              42 &       1.01 \\\\\r\n",
      "29 &       69 &                             2.98 &                             2.05 &                             4.23 &              16 &              14 &                                  9 &                              22 &       1.20 \\\\\r\n",
      "30 &       72 &                             1.75 &                             1.36 &                             3.96 &              42 &              78 &                                 17 &                              63 &       1.35 \\\\\r\n",
      "31 &       63 &                             2.85 &                             2.12 &                             3.96 &              14 &              15 &                                 10 &                              24 &       1.06 \\\\\r\n",
      "32 &       55 &                             1.84 &                             1.29 &                             3.80 &              35 &              23 &                                 43 &                              83 &       1.54 \\\\\r\n",
      "33 &      213 &                             1.90 &                             1.03 &                             3.84 &              49 &              54 &                                 60 &                             108 &       2.11 \\\\\r\n",
      "34 &       54 &                             2.05 &                             1.41 &                             3.89 &              23 &              20 &                                 22 &                              33 &       1.07 \\\\\r\n",
      "35 &       52 &                             2.93 &                             2.17 &                             4.06 &              12 &               3 &                                 11 &                              28 &       1.01 \\\\\r\n",
      "36 &       53 &                             2.42 &                             1.62 &                             3.58 &              21 &              22 &                                 16 &                              39 &       1.18 \\\\\r\n",
      "37 &      212 &                             2.11 &                             1.55 &                             3.63 &              25 &              23 &                                 51 &                             142 &       1.11 \\\\\r\n",
      "39 &       56 &                             2.74 &                             1.79 &                             3.58 &              11 &               3 &                                 12 &                              29 &       1.00 \\\\\r\n",
      "40 &       58 &                             1.84 &                             0.99 &                             3.33 &              44 &              69 &                                 81 &                             151 &       1.39 \\\\\r\n",
      "46 &      225 &                             0.85 &                             0.58 &                             2.97 &              57 &              73 &                                 59 &                             157 &       1.65 \\\\\r\n",
      "48 &      230 &                             1.17 &                             0.85 &                             3.01 &              40 &             104 &                                 13 &                              44 &       1.82 \\\\\r\n",
      "51 &      148 &                             1.88 &                             1.34 &                             2.93 &              12 &               5 &                                 17 &                              41 &       1.00 \\\\\r\n",
      "58 &      187 &                             1.42 &                             0.88 &                             2.32 &              29 &              10 &                                 21 &                              66 &       1.00 \\\\\r\n",
      "\\bottomrule\r\n",
      "\\end{tabular}\r\n"
     ]
    }
   ],
   "source": [
    "!cat \"../../paper/clst_prop_table.tex\""
   ]
  },
  {
   "cell_type": "code",
   "execution_count": 288,
   "metadata": {
    "collapsed": false
   },
   "outputs": [],
   "source": [
    "mega_stat = mega_clst_prop_df.describe()"
   ]
  },
  {
   "cell_type": "code",
   "execution_count": 287,
   "metadata": {
    "collapsed": false
   },
   "outputs": [
    {
     "data": {
      "text/html": [
       "<div style=\"max-height:1000px;max-width:1500px;overflow:auto;\">\n",
       "<table border=\"1\" class=\"dataframe\">\n",
       "  <thead>\n",
       "    <tr style=\"text-align: right;\">\n",
       "      <th></th>\n",
       "      <th>count</th>\n",
       "      <th>mean</th>\n",
       "      <th>std</th>\n",
       "      <th>min</th>\n",
       "      <th>25%</th>\n",
       "      <th>50%</th>\n",
       "      <th>75%</th>\n",
       "      <th>max</th>\n",
       "    </tr>\n",
       "  </thead>\n",
       "  <tbody>\n",
       "    <tr>\n",
       "      <th>clstNo</th>\n",
       "      <td>43</td>\n",
       "      <td>22.279070</td>\n",
       "      <td>14.645535</td>\n",
       "      <td>0.000000</td>\n",
       "      <td>10.500000</td>\n",
       "      <td>21.000000</td>\n",
       "      <td>32.500000</td>\n",
       "      <td>58.000000</td>\n",
       "    </tr>\n",
       "    <tr>\n",
       "      <th>richness</th>\n",
       "      <td>43</td>\n",
       "      <td>122.372093</td>\n",
       "      <td>94.769903</td>\n",
       "      <td>52.000000</td>\n",
       "      <td>62.500000</td>\n",
       "      <td>83.000000</td>\n",
       "      <td>153.000000</td>\n",
       "      <td>483.000000</td>\n",
       "    </tr>\n",
       "    <tr>\n",
       "      <th>Group_M_Crit200</th>\n",
       "      <td>43</td>\n",
       "      <td>4649.763169</td>\n",
       "      <td>4009.160862</td>\n",
       "      <td>847.697266</td>\n",
       "      <td>2081.353027</td>\n",
       "      <td>2933.823486</td>\n",
       "      <td>5418.822510</td>\n",
       "      <td>16354.563477</td>\n",
       "    </tr>\n",
       "    <tr>\n",
       "      <th>Group_M_Crit500</th>\n",
       "      <td>43</td>\n",
       "      <td>2880.406088</td>\n",
       "      <td>2300.692375</td>\n",
       "      <td>582.890747</td>\n",
       "      <td>1386.251282</td>\n",
       "      <td>1837.197632</td>\n",
       "      <td>3409.755615</td>\n",
       "      <td>10852.893555</td>\n",
       "    </tr>\n",
       "    <tr>\n",
       "      <th>GroupMass</th>\n",
       "      <td>43</td>\n",
       "      <td>8137.841570</td>\n",
       "      <td>6760.438671</td>\n",
       "      <td>2318.145264</td>\n",
       "      <td>3925.385498</td>\n",
       "      <td>5037.233887</td>\n",
       "      <td>10493.600586</td>\n",
       "      <td>32287.929688</td>\n",
       "    </tr>\n",
       "    <tr>\n",
       "      <th>relaxedness0</th>\n",
       "      <td>43</td>\n",
       "      <td>27.491925</td>\n",
       "      <td>14.896358</td>\n",
       "      <td>10.790944</td>\n",
       "      <td>17.563505</td>\n",
       "      <td>22.775710</td>\n",
       "      <td>32.822666</td>\n",
       "      <td>63.851303</td>\n",
       "    </tr>\n",
       "    <tr>\n",
       "      <th>relaxedness1</th>\n",
       "      <td>43</td>\n",
       "      <td>38.072795</td>\n",
       "      <td>53.205190</td>\n",
       "      <td>2.526460</td>\n",
       "      <td>7.872798</td>\n",
       "      <td>15.747442</td>\n",
       "      <td>46.771888</td>\n",
       "      <td>280.113265</td>\n",
       "    </tr>\n",
       "    <tr>\n",
       "      <th>Delta_y_KDE_max</th>\n",
       "      <td>43</td>\n",
       "      <td>76.686343</td>\n",
       "      <td>66.306782</td>\n",
       "      <td>22.395786</td>\n",
       "      <td>32.855034</td>\n",
       "      <td>51.961892</td>\n",
       "      <td>102.880873</td>\n",
       "      <td>378.925231</td>\n",
       "    </tr>\n",
       "    <tr>\n",
       "      <th>KDE_midvar</th>\n",
       "      <td>43</td>\n",
       "      <td>28.726426</td>\n",
       "      <td>21.506244</td>\n",
       "      <td>9.259785</td>\n",
       "      <td>13.542103</td>\n",
       "      <td>19.601170</td>\n",
       "      <td>37.375774</td>\n",
       "      <td>100.683657</td>\n",
       "    </tr>\n",
       "    <tr>\n",
       "      <th>biweight_tot_peak_dens</th>\n",
       "      <td>39</td>\n",
       "      <td>1.405646</td>\n",
       "      <td>0.400909</td>\n",
       "      <td>1.006067</td>\n",
       "      <td>1.141094</td>\n",
       "      <td>1.296950</td>\n",
       "      <td>1.552014</td>\n",
       "      <td>2.837843</td>\n",
       "    </tr>\n",
       "  </tbody>\n",
       "</table>\n",
       "</div>"
      ],
      "text/plain": [
       "                        count         mean          std          min  \\\n",
       "clstNo                     43    22.279070    14.645535     0.000000   \n",
       "richness                   43   122.372093    94.769903    52.000000   \n",
       "Group_M_Crit200            43  4649.763169  4009.160862   847.697266   \n",
       "Group_M_Crit500            43  2880.406088  2300.692375   582.890747   \n",
       "GroupMass                  43  8137.841570  6760.438671  2318.145264   \n",
       "relaxedness0               43    27.491925    14.896358    10.790944   \n",
       "relaxedness1               43    38.072795    53.205190     2.526460   \n",
       "Delta_y_KDE_max            43    76.686343    66.306782    22.395786   \n",
       "KDE_midvar                 43    28.726426    21.506244     9.259785   \n",
       "biweight_tot_peak_dens     39     1.405646     0.400909     1.006067   \n",
       "\n",
       "                                25%          50%           75%           max  \n",
       "clstNo                    10.500000    21.000000     32.500000     58.000000  \n",
       "richness                  62.500000    83.000000    153.000000    483.000000  \n",
       "Group_M_Crit200         2081.353027  2933.823486   5418.822510  16354.563477  \n",
       "Group_M_Crit500         1386.251282  1837.197632   3409.755615  10852.893555  \n",
       "GroupMass               3925.385498  5037.233887  10493.600586  32287.929688  \n",
       "relaxedness0              17.563505    22.775710     32.822666     63.851303  \n",
       "relaxedness1               7.872798    15.747442     46.771888    280.113265  \n",
       "Delta_y_KDE_max           32.855034    51.961892    102.880873    378.925231  \n",
       "KDE_midvar                13.542103    19.601170     37.375774    100.683657  \n",
       "biweight_tot_peak_dens     1.141094     1.296950      1.552014      2.837843  "
      ]
     },
     "execution_count": 287,
     "metadata": {},
     "output_type": "execute_result"
    }
   ],
   "source": [
    "mega_stat"
   ]
  },
  {
   "cell_type": "code",
   "execution_count": 292,
   "metadata": {
    "collapsed": false
   },
   "outputs": [],
   "source": [
    "massive_clst = mega_clst_prop_df[mega_clst_prop_df['GroupMass'] > 1e4]"
   ]
  },
  {
   "cell_type": "code",
   "execution_count": 298,
   "metadata": {
    "collapsed": false
   },
   "outputs": [
    {
     "data": {
      "text/plain": [
       "<matplotlib.axes._subplots.AxesSubplot object at 0x1192d75d0>"
      ]
     },
     "execution_count": 298,
     "metadata": {},
     "output_type": "execute_result"
    },
    {
     "data": {
      "image/png": "[encoded data removed]",
      "text/plain": [
       "<matplotlib.figure.Figure object at 0x11935a8d0>"
      ]
     },
     "metadata": {},
     "output_type": "display_data"
    }
   ],
   "source": [
    "massive_clst.KDE_midvar.hist(bins=30, histtype='step', lw=2)"
   ]
  }
 ],
 "metadata": {
  "kernelspec": {
   "display_name": "Python 2",
   "language": "python",
   "name": "python2"
  },
  "language_info": {
   "codemirror_mode": {
    "name": "ipython",
    "version": 2
   },
   "file_extension": ".py",
   "mimetype": "text/x-python",
   "name": "python",
   "nbconvert_exporter": "python",
   "pygments_lexer": "ipython2",
   "version": "2.7.10"
  }
 },
 "nbformat": 4,
 "nbformat_minor": 0
}
