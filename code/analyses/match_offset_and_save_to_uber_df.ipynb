{
 "cells": [
  {
   "cell_type": "markdown",
   "metadata": {},
   "source": [
    "Purpose of this notebook: \n",
    "* compute the offsets from the different summary stat methods"
   ]
  },
  {
   "cell_type": "markdown",
   "metadata": {},
   "source": [
    "The files that are saved: \n",
    "* 'primary_peak_df.h5'\n",
    "* 'spheric_proj_uber_df.h5'"
   ]
  },
  {
   "cell_type": "code",
   "execution_count": 96,
   "metadata": {
    "collapsed": false
   },
   "outputs": [
    {
     "data": {
      "application/javascript": [
       "IPython.OutputArea.auto_scroll_threshold = 9999;"
      ],
      "text/plain": [
       "<IPython.core.display.Javascript object>"
      ]
     },
     "metadata": {},
     "output_type": "display_data"
    }
   ],
   "source": [
    "%%javascript\n",
    "IPython.OutputArea.auto_scroll_threshold = 9999;"
   ]
  },
  {
   "cell_type": "code",
   "execution_count": 97,
   "metadata": {
    "collapsed": false
   },
   "outputs": [],
   "source": [
    "%autoreload 2\n",
    "%matplotlib inline \n",
    "import pandas as pd\n",
    "import matplotlib.pyplot as plt\n",
    "import matplotlib.gridspec as gridspec\n",
    "plt.rcParams['figure.figsize'] = (10, 8)"
   ]
  },
  {
   "cell_type": "code",
   "execution_count": 157,
   "metadata": {
    "collapsed": false
   },
   "outputs": [],
   "source": [
    "from __future__ import print_function\n",
    "import pandas as pd\n",
    "import h5py\n",
    "import sys\n",
    "sys.path.append(\"../\")\n",
    "import extract_catalog as ec\n",
    "import get_DM_centroids as getDM\n",
    "import compute_distance as compDist\n",
    "import plot_cred_int as plotCI\n",
    "import get_KDE"
   ]
  },
  {
   "cell_type": "code",
   "execution_count": 99,
   "metadata": {
    "collapsed": true
   },
   "outputs": [],
   "source": [
    "data_path = \"../../data/test_results/\""
   ]
  },
  {
   "cell_type": "markdown",
   "metadata": {},
   "source": [
    "# read in files "
   ]
  },
  {
   "cell_type": "markdown",
   "metadata": {},
   "source": [
    "want to read in the second half of the projections for the DM data"
   ]
  },
  {
   "cell_type": "code",
   "execution_count": 201,
   "metadata": {
    "collapsed": false
   },
   "outputs": [],
   "source": [
    "clstNo = 43\n",
    "date_stamps = ['06_17_16', '06_21_16']\n",
    "\n",
    "main_FOF_h5 = h5py.File(\n",
    "        \"../../data/\" +\n",
    "        \"Illustris-1_fof_subhalo_myCompleteHaloCatalog_00135\" +\n",
    "        \".hdf5\", \"r\")\n",
    "\n",
    "# this has all the info \n",
    "star_no_dens_fhats = \\\n",
    "    h5py.File(data_path + \n",
    "              \"stars_fhat_clst_no_density_43_06_25_16.h5\", 'r')"
   ]
  },
  {
   "cell_type": "markdown",
   "metadata": {},
   "source": [
    "# figure out how many projections we did "
   ]
  },
  {
   "cell_type": "code",
   "execution_count": 156,
   "metadata": {
    "collapsed": true
   },
   "outputs": [],
   "source": [
    "summary_stat_keys = ['BCG', 'centroid', \"shrink_cent\"]"
   ]
  },
  {
   "cell_type": "markdown",
   "metadata": {},
   "source": [
    "The following takes quite a long time because it has to compute the following dataframe entries:\n",
    "\n",
    "## projection dependent df \n",
    "This matches the luminosity KDE peaks and the DM peaks \n",
    "\n",
    "| ClstNo | kernel_width | $\\Delta s_{BCG}$ | $\\Delta s_{KDE}$ | $\\zeta$ | $\\Delta s_{SA}$ | $\\Delta s_{C}$ | total_peaks_dens | no_gal_peaks | DM_x_peak | DM_y_peak | "
   ]
  },
  {
   "cell_type": "code",
   "execution_count": 192,
   "metadata": {
    "collapsed": false
   },
   "outputs": [],
   "source": [
    "uber_df_list = []\n",
    "for date_stamp in date_stamps:\n",
    "    \n",
    "    DM_fhats = \\\n",
    "        h5py.File(data_path +\n",
    "              \"DM_fhat_clst{0}_{1}.h5\".format(\n",
    "                clstNo, date_stamp), 'r')\n",
    "    star_fhats = \\\n",
    "        h5py.File(data_path +\n",
    "              \"stars_fhat_clst{0}_{1}.h5\".format(\n",
    "                clstNo, date_stamp), 'r')\n",
    "    \n",
    "    uber_df_list.append(\n",
    "        compDist.convert_result_fhat_to_proj_uber_df(\n",
    "        star_fhats, DM_fhats))\n",
    "    \n",
    "    star_fhats.close()\n",
    "    DM_fhats.close()"
   ]
  },
  {
   "cell_type": "code",
   "execution_count": 193,
   "metadata": {
    "collapsed": true
   },
   "outputs": [],
   "source": [
    "uber_proj_df = pd.concat(uber_df_list)"
   ]
  },
  {
   "cell_type": "code",
   "execution_count": 194,
   "metadata": {
    "collapsed": false
   },
   "outputs": [
    {
     "data": {
      "text/plain": [
       "(81730, 19)"
      ]
     },
     "execution_count": 194,
     "metadata": {},
     "output_type": "execute_result"
    }
   ],
   "source": [
    "uber_proj_df.shape"
   ]
  },
  {
   "cell_type": "code",
   "execution_count": 195,
   "metadata": {
    "collapsed": false
   },
   "outputs": [
    {
     "name": "stderr",
     "output_type": "stream",
     "text": [
      "/Users/karenyng/Documents/illustris_analyses/code/IlEnv/lib/python2.7/site-packages/pandas/io/pytables.py:2558: PerformanceWarning: \n",
      "your performance may suffer as PyTables will pickle object types that it cannot\n",
      "map directly to c-types [inferred_type->unicode,key->block2_values] [items->['projection']]\n",
      "\n",
      "  warnings.warn(ws, PerformanceWarning)\n"
     ]
    }
   ],
   "source": [
    "uber_proj_df.to_hdf('../../data/spheric_proj_uber_df.h5', 'df')"
   ]
  },
  {
   "cell_type": "code",
   "execution_count": 196,
   "metadata": {
    "collapsed": false
   },
   "outputs": [],
   "source": [
    "gpby = uber_proj_df.groupby(['peak_id', 'bin_width'])"
   ]
  },
  {
   "cell_type": "code",
   "execution_count": 203,
   "metadata": {
    "collapsed": false
   },
   "outputs": [],
   "source": [
    "primary_peak_df = gpby.get_group((0, 25.))"
   ]
  },
  {
   "cell_type": "code",
   "execution_count": 199,
   "metadata": {
    "collapsed": false
   },
   "outputs": [],
   "source": [
    "primary_peak_df.to_hdf('../../data/primary_peak_df.h5', 'df')"
   ]
  },
  {
   "cell_type": "code",
   "execution_count": 226,
   "metadata": {
    "collapsed": false
   },
   "outputs": [
    {
     "name": "stderr",
     "output_type": "stream",
     "text": [
      "/Users/karenyng/Documents/illustris_analyses/code/IlEnv/lib/python2.7/site-packages/ipykernel/__main__.py:1: SettingWithCopyWarning: \n",
      "A value is trying to be set on a copy of a slice from a DataFrame.\n",
      "Try using .loc[row_indexer,col_indexer] = value instead\n",
      "\n",
      "See the the caveats in the documentation: http://pandas.pydata.org/pandas-docs/stable/indexing.html#indexing-view-versus-copy\n",
      "  if __name__ == '__main__':\n"
     ]
    }
   ],
   "source": [
    "primary_peak_df['clstNo'] = primary_peak_df.index"
   ]
  },
  {
   "cell_type": "code",
   "execution_count": null,
   "metadata": {
    "collapsed": true
   },
   "outputs": [],
   "source": [
    "primary_peak_df.clstNo "
   ]
  },
  {
   "cell_type": "markdown",
   "metadata": {},
   "source": [
    "# find clusters where the most bound particle doesn't match the DM peak well"
   ]
  },
  {
   "cell_type": "code",
   "execution_count": 205,
   "metadata": {
    "collapsed": false
   },
   "outputs": [
    {
     "data": {
      "text/plain": [
       "Index([u'BCG', u'Delta_x_BCG', u'Delta_x_centroid', u'Delta_x_shrink_cent', u'Delta_y_BCG', u'Delta_y_centroid', u'Delta_y_shrink_cent', u'centroid', u'shrink_cent', u'peak_id', u'KDE', u'Delta_x_KDE', u'Delta_y_KDE', u'matched_DM_peak_x', u'matched_DM_peak_y', u'total_peaks_dens', u'bin_width', u'gal_peak_no', u'projection'], dtype='object')"
      ]
     },
     "execution_count": 205,
     "metadata": {},
     "output_type": "execute_result"
    }
   ],
   "source": [
    "primary_peak_df.keys()"
   ]
  },
  {
   "cell_type": "code",
   "execution_count": 208,
   "metadata": {
    "collapsed": false
   },
   "outputs": [
    {
     "data": {
      "text/plain": [
       "<matplotlib.text.Text at 0x1369e84d0>"
      ]
     },
     "execution_count": 208,
     "metadata": {},
     "output_type": "execute_result"
    },
    {
     "data": {
      "image/png": "[encoded data removed]",
      "text/plain": [
       "<matplotlib.figure.Figure at 0x13d4a1190>"
      ]
     },
     "metadata": {},
     "output_type": "display_data"
    }
   ],
   "source": [
    "plt.axes().set_aspect('equal')\n",
    "plt.plot(primary_peak_df['matched_DM_peak_x'], \n",
    "         primary_peak_df['matched_DM_peak_y'], '.', alpha=0.3)\n",
    "plt.title('DM peak distance from most bound particle')"
   ]
  },
  {
   "cell_type": "code",
   "execution_count": null,
   "metadata": {
    "collapsed": true
   },
   "outputs": [],
   "source": [
    "plt.axes().set_aspect('equal')\n",
    "plt.plot(primary_peak_df['matched_DM_peak_x'], \n",
    "         primary_peak_df['matched_DM_peak_y'], '.', alpha=0.3)\n",
    "plt.title('')"
   ]
  }
 ],
 "metadata": {
  "kernelspec": {
   "display_name": "Python 2",
   "language": "python",
   "name": "python2"
  },
  "language_info": {
   "codemirror_mode": {
    "name": "ipython",
    "version": 2
   },
   "file_extension": ".py",
   "mimetype": "text/x-python",
   "name": "python",
   "nbconvert_exporter": "python",
   "pygments_lexer": "ipython2",
   "version": "2.7.10"
  }
 },
 "nbformat": 4,
 "nbformat_minor": 0
}
