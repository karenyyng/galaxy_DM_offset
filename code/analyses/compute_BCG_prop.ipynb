{
 "cells": [
  {
   "cell_type": "code",
   "execution_count": 1,
   "metadata": {
    "collapsed": true
   },
   "outputs": [],
   "source": [
    "%autoreload 2\n",
    "%matplotlib inline"
   ]
  },
  {
   "cell_type": "code",
   "execution_count": 2,
   "metadata": {
    "collapsed": true
   },
   "outputs": [],
   "source": [
    "import pandas as pd\n",
    "offset_df = pd.read_hdf(\"../../data/offset_stat_129.h5\", \"df\")"
   ]
  },
  {
   "cell_type": "code",
   "execution_count": 3,
   "metadata": {
    "collapsed": true
   },
   "outputs": [],
   "source": [
    "import h5py\n",
    "\n",
    "import numpy as np\n",
    "import matplotlib.pyplot as plt"
   ]
  },
  {
   "cell_type": "code",
   "execution_count": 4,
   "metadata": {
    "collapsed": true
   },
   "outputs": [],
   "source": [
    "import sys\n",
    "sys.path.append(\"../\")"
   ]
  },
  {
   "cell_type": "code",
   "execution_count": 5,
   "metadata": {
    "collapsed": true
   },
   "outputs": [],
   "source": [
    "import extract_catalog as excat\n",
    "import get_gal_centroids as getgal"
   ]
  },
  {
   "cell_type": "code",
   "execution_count": 6,
   "metadata": {
    "collapsed": true
   },
   "outputs": [],
   "source": [
    "f = h5py.File(\"../../data/\" + \n",
    "              \"Illustris-1_fof_subhalo_myCompleteHaloCatalog_00135.hdf5\")"
   ]
  },
  {
   "cell_type": "code",
   "execution_count": 7,
   "metadata": {
    "collapsed": false
   },
   "outputs": [],
   "source": [
    "df_list = map(lambda i: excat.extract_clst(f, i), range(129))"
   ]
  },
  {
   "cell_type": "code",
   "execution_count": 8,
   "metadata": {
    "collapsed": false
   },
   "outputs": [],
   "source": [
    "ix_list = map(getgal.get_BCG_ix, df_list)"
   ]
  },
  {
   "cell_type": "code",
   "execution_count": 9,
   "metadata": {
    "collapsed": true
   },
   "outputs": [],
   "source": [
    "one_BCG_list = np.array([i for i in ix_list if type(i) is np.int64])\n",
    "two_BCG_list = np.array([i for i in ix_list if type(i) is not np.int64])"
   ]
  },
  {
   "cell_type": "code",
   "execution_count": 10,
   "metadata": {
    "collapsed": false
   },
   "outputs": [
    {
     "data": {
      "text/plain": [
       "119"
      ]
     },
     "execution_count": 10,
     "metadata": {},
     "output_type": "execute_result"
    }
   ],
   "source": [
    "np.sum(one_BCG_list == 0)"
   ]
  },
  {
   "cell_type": "code",
   "execution_count": 11,
   "metadata": {
    "collapsed": false
   },
   "outputs": [
    {
     "data": {
      "text/plain": [
       "129"
      ]
     },
     "execution_count": 11,
     "metadata": {},
     "output_type": "execute_result"
    }
   ],
   "source": [
    "len(one_BCG_list)"
   ]
  },
  {
   "cell_type": "code",
   "execution_count": 12,
   "metadata": {
    "collapsed": false
   },
   "outputs": [
    {
     "data": {
      "text/plain": [
       "0"
      ]
     },
     "execution_count": 12,
     "metadata": {},
     "output_type": "execute_result"
    }
   ],
   "source": [
    "ix_list[-1]"
   ]
  },
  {
   "cell_type": "code",
   "execution_count": 13,
   "metadata": {
    "collapsed": false
   },
   "outputs": [
    {
     "data": {
      "text/plain": [
       "0"
      ]
     },
     "execution_count": 13,
     "metadata": {},
     "output_type": "execute_result"
    }
   ],
   "source": [
    "len(two_BCG_list)"
   ]
  },
  {
   "cell_type": "code",
   "execution_count": 14,
   "metadata": {
    "collapsed": false
   },
   "outputs": [
    {
     "data": {
      "text/plain": [
       "array([], dtype=float64)"
      ]
     },
     "execution_count": 14,
     "metadata": {},
     "output_type": "execute_result"
    }
   ],
   "source": [
    "two_BCG_list"
   ]
  },
  {
   "cell_type": "code",
   "execution_count": 15,
   "metadata": {
    "collapsed": false
   },
   "outputs": [],
   "source": [
    "bands = [band for band in df_list[0].keys()\n",
    "         if \"band\" in band]"
   ]
  },
  {
   "cell_type": "code",
   "execution_count": 16,
   "metadata": {
    "collapsed": false
   },
   "outputs": [
    {
     "data": {
      "text/plain": [
       "Index([u'SubhaloGrNr', u'SubhaloLenType0', u'SubhaloLenType1', u'SubhaloLenType2', u'SubhaloLenType3', u'SubhaloLenType4', u'SubhaloLenType5', u'SubhaloMass', u'SubhaloMassType0', u'SubhaloMassType1', u'SubhaloMassType2', u'SubhaloMassType3', u'SubhaloMassType4', u'SubhaloMassType5', u'SubhaloPos0', u'SubhaloPos1', u'SubhaloPos2', u'U_band', u'B_band', u'V_band', u'K_band', u'g_band', u'r_band', u'i_band', u'z_band', u'SubhaloStellarPhotometricsMassInRad'], dtype='object')"
      ]
     },
     "execution_count": 16,
     "metadata": {},
     "output_type": "execute_result"
    }
   ],
   "source": [
    "df_list[0].keys()"
   ]
  },
  {
   "cell_type": "code",
   "execution_count": 17,
   "metadata": {
    "collapsed": false
   },
   "outputs": [
    {
     "data": {
      "text/plain": [
       "SubhaloPos0    0\n",
       "SubhaloPos1    0\n",
       "Name: 0, dtype: float64"
      ]
     },
     "execution_count": 17,
     "metadata": {},
     "output_type": "execute_result"
    }
   ],
   "source": [
    "df_list[0][[\"SubhaloPos0\", \"SubhaloPos1\"]].iloc[0]"
   ]
  },
  {
   "cell_type": "code",
   "execution_count": 18,
   "metadata": {
    "collapsed": false
   },
   "outputs": [],
   "source": [
    "BCG_offset = [np.array(\n",
    "              df_list[i][[\"SubhaloPos0\", \"SubhaloPos1\"]].iloc[ix_list[i]])\n",
    "              for i in range(129)]"
   ]
  },
  {
   "cell_type": "code",
   "execution_count": 19,
   "metadata": {
    "collapsed": false
   },
   "outputs": [],
   "source": [
    "BCG_offset = np.array(BCG_offset)"
   ]
  },
  {
   "cell_type": "code",
   "execution_count": 20,
   "metadata": {
    "collapsed": false
   },
   "outputs": [],
   "source": [
    "BCG_offset = [np.sqrt(np.dot(BCG_offset[i], BCG_offset[i]))\n",
    "              for i in range(len(BCG_offset))]"
   ]
  },
  {
   "cell_type": "code",
   "execution_count": 21,
   "metadata": {
    "collapsed": false
   },
   "outputs": [
    {
     "data": {
      "text/plain": [
       "[0.0,\n",
       " 0.0,\n",
       " 0.0,\n",
       " 0.0,\n",
       " 0.0,\n",
       " 0.0,\n",
       " 0.0,\n",
       " 0.0,\n",
       " 0.0,\n",
       " 0.0,\n",
       " 0.0,\n",
       " 0.0,\n",
       " 0.0,\n",
       " 1509.050714909615,\n",
       " 0.0,\n",
       " 0.0,\n",
       " 0.0,\n",
       " 0.0,\n",
       " 0.0,\n",
       " 0.0,\n",
       " 0.0,\n",
       " 0.0,\n",
       " 0.0,\n",
       " 0.0,\n",
       " 0.0,\n",
       " 0.0,\n",
       " 0.0,\n",
       " 0.0,\n",
       " 0.0,\n",
       " 0.0,\n",
       " 0.0,\n",
       " 0.0,\n",
       " 0.0,\n",
       " 1020.1144663291774,\n",
       " 0.0,\n",
       " 0.0,\n",
       " 0.0,\n",
       " 0.0,\n",
       " 0.0,\n",
       " 0.0,\n",
       " 0.0,\n",
       " 1423.7773364677187,\n",
       " 0.0,\n",
       " 0.0,\n",
       " 0.0,\n",
       " 0.0,\n",
       " 0.0,\n",
       " 0.0,\n",
       " 0.0,\n",
       " 0.0,\n",
       " 0.0,\n",
       " 0.0,\n",
       " 0.0,\n",
       " 0.0,\n",
       " 0.0,\n",
       " 0.0,\n",
       " 159.18526226669215,\n",
       " 0.0,\n",
       " 0.0,\n",
       " 0.0,\n",
       " 0.0,\n",
       " 0.0,\n",
       " 786.41429037360501,\n",
       " 0.0,\n",
       " 0.0,\n",
       " 0.0,\n",
       " 0.0,\n",
       " 303.75476547710133,\n",
       " 0.0,\n",
       " 0.0,\n",
       " 0.0,\n",
       " 0.0,\n",
       " 0.0,\n",
       " 0.0,\n",
       " 0.0,\n",
       " 0.0,\n",
       " 0.0,\n",
       " 0.0,\n",
       " 0.0,\n",
       " 759.11517401996923,\n",
       " 552.77557710006113,\n",
       " 0.0,\n",
       " 0.0,\n",
       " 944.75589313521414,\n",
       " 0.0,\n",
       " 0.0,\n",
       " 0.0,\n",
       " 0.0,\n",
       " 0.0,\n",
       " 0.0,\n",
       " 0.0,\n",
       " 0.0,\n",
       " 274.00094228603365,\n",
       " 0.0,\n",
       " 0.0,\n",
       " 0.0,\n",
       " 0.0,\n",
       " 0.0,\n",
       " 0.0,\n",
       " 0.0,\n",
       " 0.0,\n",
       " 0.0,\n",
       " 0.0,\n",
       " 0.0,\n",
       " 0.0,\n",
       " 0.0,\n",
       " 0.0,\n",
       " 0.0,\n",
       " 0.0,\n",
       " 0.0,\n",
       " 0.0,\n",
       " 0.0,\n",
       " 0.0,\n",
       " 0.0,\n",
       " 0.0,\n",
       " 0.0,\n",
       " 0.0,\n",
       " 0.0,\n",
       " 0.0,\n",
       " 0.0,\n",
       " 0.0,\n",
       " 0.0,\n",
       " 0.0,\n",
       " 0.0,\n",
       " 0.0,\n",
       " 0.0,\n",
       " 0.0,\n",
       " 0.0,\n",
       " 0.0]"
      ]
     },
     "execution_count": 21,
     "metadata": {},
     "output_type": "execute_result"
    }
   ],
   "source": [
    "BCG_offset"
   ]
  },
  {
   "cell_type": "code",
   "execution_count": 22,
   "metadata": {
    "collapsed": true
   },
   "outputs": [],
   "source": [
    "offset_df[\"BCG\"] = BCG_offset"
   ]
  },
  {
   "cell_type": "code",
   "execution_count": 23,
   "metadata": {
    "collapsed": false
   },
   "outputs": [
    {
     "data": {
      "text/html": [
       "<div style=\"max-height:1000px;max-width:1500px;overflow:auto;\">\n",
       "<table border=\"1\" class=\"dataframe\">\n",
       "  <thead>\n",
       "    <tr style=\"text-align: right;\">\n",
       "      <th></th>\n",
       "      <th>I_lum</th>\n",
       "      <th>R200_I_lum</th>\n",
       "      <th>subhalo_mass</th>\n",
       "      <th>R200_subhalo_mass</th>\n",
       "      <th>stel_mass</th>\n",
       "      <th>R200_stel_mass</th>\n",
       "      <th>subhalo_mass_shrink</th>\n",
       "      <th>stel_mass_shrink</th>\n",
       "      <th>I_band_lum_shrink</th>\n",
       "      <th>no_wwts</th>\n",
       "      <th>R200_no_wwts</th>\n",
       "      <th>BCG</th>\n",
       "    </tr>\n",
       "  </thead>\n",
       "  <tbody>\n",
       "    <tr>\n",
       "      <th>count</th>\n",
       "      <td> 129.000000</td>\n",
       "      <td> 129.000000</td>\n",
       "      <td> 129.000000</td>\n",
       "      <td> 129.000000</td>\n",
       "      <td> 129.000000</td>\n",
       "      <td> 129.000000</td>\n",
       "      <td> 129.000000</td>\n",
       "      <td>  129.000000</td>\n",
       "      <td> 129.000000</td>\n",
       "      <td>  129.000000</td>\n",
       "      <td> 129.000000</td>\n",
       "      <td>  129.000000</td>\n",
       "    </tr>\n",
       "    <tr>\n",
       "      <th>mean</th>\n",
       "      <td>  37.281424</td>\n",
       "      <td>   0.107912</td>\n",
       "      <td>   6.244648</td>\n",
       "      <td>   0.015942</td>\n",
       "      <td>  33.074001</td>\n",
       "      <td>   0.092624</td>\n",
       "      <td>  32.421342</td>\n",
       "      <td>   79.423637</td>\n",
       "      <td> 105.185105</td>\n",
       "      <td>   93.588492</td>\n",
       "      <td>   0.249271</td>\n",
       "      <td>   59.945306</td>\n",
       "    </tr>\n",
       "    <tr>\n",
       "      <th>std</th>\n",
       "      <td> 104.835767</td>\n",
       "      <td>   0.319810</td>\n",
       "      <td>   5.366485</td>\n",
       "      <td>   0.014556</td>\n",
       "      <td> 106.514465</td>\n",
       "      <td>   0.323545</td>\n",
       "      <td>  85.425490</td>\n",
       "      <td>  161.551849</td>\n",
       "      <td> 173.942993</td>\n",
       "      <td>  155.389777</td>\n",
       "      <td>   0.427926</td>\n",
       "      <td>  241.527803</td>\n",
       "    </tr>\n",
       "    <tr>\n",
       "      <th>min</th>\n",
       "      <td>   0.027215</td>\n",
       "      <td>   0.000043</td>\n",
       "      <td>   0.019764</td>\n",
       "      <td>   0.000039</td>\n",
       "      <td>   0.027215</td>\n",
       "      <td>   0.000043</td>\n",
       "      <td>   0.050713</td>\n",
       "      <td>    1.419611</td>\n",
       "      <td>   0.106954</td>\n",
       "      <td>    1.752930</td>\n",
       "      <td>   0.003495</td>\n",
       "      <td>    0.000000</td>\n",
       "    </tr>\n",
       "    <tr>\n",
       "      <th>25%</th>\n",
       "      <td>   4.118358</td>\n",
       "      <td>   0.011613</td>\n",
       "      <td>   2.488282</td>\n",
       "      <td>   0.005864</td>\n",
       "      <td>   4.089556</td>\n",
       "      <td>   0.011364</td>\n",
       "      <td>   3.702154</td>\n",
       "      <td>   13.947211</td>\n",
       "      <td>  15.236450</td>\n",
       "      <td>   27.584135</td>\n",
       "      <td>   0.063680</td>\n",
       "      <td>    0.000000</td>\n",
       "    </tr>\n",
       "    <tr>\n",
       "      <th>50%</th>\n",
       "      <td>   9.941563</td>\n",
       "      <td>   0.022478</td>\n",
       "      <td>   5.438129</td>\n",
       "      <td>   0.013537</td>\n",
       "      <td>   8.891282</td>\n",
       "      <td>   0.021102</td>\n",
       "      <td>   7.863965</td>\n",
       "      <td>   29.426165</td>\n",
       "      <td>  36.758398</td>\n",
       "      <td>   58.804352</td>\n",
       "      <td>   0.141601</td>\n",
       "      <td>    0.000000</td>\n",
       "    </tr>\n",
       "    <tr>\n",
       "      <th>75%</th>\n",
       "      <td>  22.080221</td>\n",
       "      <td>   0.062774</td>\n",
       "      <td>   8.084752</td>\n",
       "      <td>   0.020460</td>\n",
       "      <td>  21.153036</td>\n",
       "      <td>   0.050681</td>\n",
       "      <td>  21.448790</td>\n",
       "      <td>   74.558264</td>\n",
       "      <td> 105.624491</td>\n",
       "      <td>  107.548730</td>\n",
       "      <td>   0.293187</td>\n",
       "      <td>    0.000000</td>\n",
       "    </tr>\n",
       "    <tr>\n",
       "      <th>max</th>\n",
       "      <td> 775.495415</td>\n",
       "      <td>   2.631515</td>\n",
       "      <td>  39.114404</td>\n",
       "      <td>   0.095803</td>\n",
       "      <td> 818.878445</td>\n",
       "      <td>   2.897078</td>\n",
       "      <td> 782.844077</td>\n",
       "      <td> 1481.561506</td>\n",
       "      <td> 856.815910</td>\n",
       "      <td> 1475.248483</td>\n",
       "      <td>   3.673592</td>\n",
       "      <td> 1509.050715</td>\n",
       "    </tr>\n",
       "  </tbody>\n",
       "</table>\n",
       "</div>"
      ],
      "text/plain": [
       "            I_lum  R200_I_lum  subhalo_mass  R200_subhalo_mass   stel_mass  \\\n",
       "count  129.000000  129.000000    129.000000         129.000000  129.000000   \n",
       "mean    37.281424    0.107912      6.244648           0.015942   33.074001   \n",
       "std    104.835767    0.319810      5.366485           0.014556  106.514465   \n",
       "min      0.027215    0.000043      0.019764           0.000039    0.027215   \n",
       "25%      4.118358    0.011613      2.488282           0.005864    4.089556   \n",
       "50%      9.941563    0.022478      5.438129           0.013537    8.891282   \n",
       "75%     22.080221    0.062774      8.084752           0.020460   21.153036   \n",
       "max    775.495415    2.631515     39.114404           0.095803  818.878445   \n",
       "\n",
       "       R200_stel_mass  subhalo_mass_shrink  stel_mass_shrink  \\\n",
       "count      129.000000           129.000000        129.000000   \n",
       "mean         0.092624            32.421342         79.423637   \n",
       "std          0.323545            85.425490        161.551849   \n",
       "min          0.000043             0.050713          1.419611   \n",
       "25%          0.011364             3.702154         13.947211   \n",
       "50%          0.021102             7.863965         29.426165   \n",
       "75%          0.050681            21.448790         74.558264   \n",
       "max          2.897078           782.844077       1481.561506   \n",
       "\n",
       "       I_band_lum_shrink      no_wwts  R200_no_wwts          BCG  \n",
       "count         129.000000   129.000000    129.000000   129.000000  \n",
       "mean          105.185105    93.588492      0.249271    59.945306  \n",
       "std           173.942993   155.389777      0.427926   241.527803  \n",
       "min             0.106954     1.752930      0.003495     0.000000  \n",
       "25%            15.236450    27.584135      0.063680     0.000000  \n",
       "50%            36.758398    58.804352      0.141601     0.000000  \n",
       "75%           105.624491   107.548730      0.293187     0.000000  \n",
       "max           856.815910  1475.248483      3.673592  1509.050715  "
      ]
     },
     "execution_count": 23,
     "metadata": {},
     "output_type": "execute_result"
    }
   ],
   "source": [
    "offset_df.describe()"
   ]
  },
  {
   "cell_type": "code",
   "execution_count": 24,
   "metadata": {
    "collapsed": true
   },
   "outputs": [],
   "source": [
    "offset_df.to_hdf(\"../../data/offset_stat_129.h5\", \"df\")"
   ]
  },
  {
   "cell_type": "code",
   "execution_count": 25,
   "metadata": {
    "collapsed": false
   },
   "outputs": [],
   "source": [
    "import seaborn as sns\n",
    "sns.set_style(\"whitegrid\")"
   ]
  },
  {
   "cell_type": "code",
   "execution_count": 26,
   "metadata": {
    "collapsed": false
   },
   "outputs": [
    {
     "data": {
      "text/plain": [
       "<matplotlib.axes._subplots.AxesSubplot at 0x118e68e90>"
      ]
     },
     "execution_count": 26,
     "metadata": {},
     "output_type": "execute_result"
    },
    {
     "data": {
      "image/png": "[encoded data removed]",
      "text/plain": [
       "<matplotlib.figure.Figure at 0x118e55150>"
      ]
     },
     "metadata": {},
     "output_type": "display_data"
    }
   ],
   "source": [
    "sns.kdeplot(np.array(BCG_offset))"
   ]
  },
  {
   "cell_type": "code",
   "execution_count": 27,
   "metadata": {
    "collapsed": false
   },
   "outputs": [
    {
     "data": {
      "text/plain": [
       "<matplotlib.text.Text at 0x1190c5e90>"
      ]
     },
     "execution_count": 27,
     "metadata": {},
     "output_type": "execute_result"
    },
    {
     "data": {
      "image/png": "[encoded data removed]",
      "text/plain": [
       "<matplotlib.figure.Figure at 0x118f2a810>"
      ]
     },
     "metadata": {},
     "output_type": "display_data"
    }
   ],
   "source": [
    "_ = plt.hist(BCG_offset, bins=30)\n",
    "plt.xlabel(\"BCG offset (c kpc / h)\")\n",
    "plt.ylabel(\"counts\")"
   ]
  },
  {
   "cell_type": "code",
   "execution_count": null,
   "metadata": {
    "collapsed": true
   },
   "outputs": [],
   "source": []
  }
 ],
 "metadata": {
  "kernelspec": {
   "display_name": "Python 2",
   "language": "python",
   "name": "python2"
  },
  "language_info": {
   "codemirror_mode": {
    "name": "ipython",
    "version": 2
   },
   "file_extension": ".py",
   "mimetype": "text/x-python",
   "name": "python",
   "nbconvert_exporter": "python",
   "pygments_lexer": "ipython2",
   "version": "2.7.9"
  }
 },
 "nbformat": 4,
 "nbformat_minor": 0
}
